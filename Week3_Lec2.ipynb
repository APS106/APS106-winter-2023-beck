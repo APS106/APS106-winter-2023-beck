{
 "cells": [
  {
   "cell_type": "markdown",
   "metadata": {},
   "source": [
    "# APS106 Lecture Notes - Week 3, Lecture 2"
   ]
  },
  {
   "cell_type": "markdown",
   "metadata": {},
   "source": [
    "## String Comparisons\n",
    "\n",
    "The equality and inequality operators can be applied to strings."
   ]
  },
  {
   "cell_type": "code",
   "execution_count": 1,
   "metadata": {},
   "outputs": [
    {
     "name": "stdout",
     "output_type": "stream",
     "text": [
      "True\n"
     ]
    }
   ],
   "source": [
    "print('a' == 'a')"
   ]
  },
  {
   "cell_type": "code",
   "execution_count": 2,
   "metadata": {},
   "outputs": [
    {
     "name": "stdout",
     "output_type": "stream",
     "text": [
      "False\n"
     ]
    }
   ],
   "source": [
    "print('ant' == 'ace')"
   ]
  },
  {
   "cell_type": "code",
   "execution_count": 3,
   "metadata": {},
   "outputs": [
    {
     "name": "stdout",
     "output_type": "stream",
     "text": [
      "False\n"
     ]
    }
   ],
   "source": [
    "print('a' == 'b')"
   ]
  },
  {
   "cell_type": "code",
   "execution_count": 4,
   "metadata": {},
   "outputs": [
    {
     "name": "stdout",
     "output_type": "stream",
     "text": [
      "True\n"
     ]
    }
   ],
   "source": [
    "print('a' != 'b')"
   ]
  },
  {
   "cell_type": "markdown",
   "metadata": {},
   "source": [
    "We can compare two strings for their dictionary order, comparing them letter-by-letter:"
   ]
  },
  {
   "cell_type": "code",
   "execution_count": 5,
   "metadata": {},
   "outputs": [
    {
     "name": "stdout",
     "output_type": "stream",
     "text": [
      "True\n"
     ]
    }
   ],
   "source": [
    "print('abracadabra' < 'ace')"
   ]
  },
  {
   "cell_type": "code",
   "execution_count": 6,
   "metadata": {},
   "outputs": [
    {
     "name": "stdout",
     "output_type": "stream",
     "text": [
      "False\n"
     ]
    }
   ],
   "source": [
    "print('abracadabra' > 'ace')"
   ]
  },
  {
   "cell_type": "code",
   "execution_count": 7,
   "metadata": {},
   "outputs": [
    {
     "name": "stdout",
     "output_type": "stream",
     "text": [
      "True\n"
     ]
    }
   ],
   "source": [
    "print('a' <= 'a')"
   ]
  },
  {
   "cell_type": "code",
   "execution_count": 8,
   "metadata": {},
   "outputs": [
    {
     "name": "stdout",
     "output_type": "stream",
     "text": [
      "True\n"
     ]
    }
   ],
   "source": [
    "print('A' < 'B')"
   ]
  },
  {
   "cell_type": "markdown",
   "metadata": {},
   "source": [
    "Remember, the ordering of strings of letters is the same ordering as in the dictionary which is fine if you are dealing with all lower-case or all upper-case letters. But what if you compare lower- and upper-case? Or punctuation marks? "
   ]
  },
  {
   "cell_type": "markdown",
   "metadata": {},
   "source": [
    "Each character in a string is actually represented by integers following the ASCII encoding (http://simple.wikipedia.org/wiki/ASCII). Therefore when you compare two strings, what you are really doing is comparing their numerical representations. \n",
    "\n",
    "For example in ASCII the characters ‘a’ and ‘w’ are encoded as 97 and 119 respectively. The comparison 'a' > 'w' would translates to 97 > 119 to give the result False.\n",
    "\n",
    "Capitalization matters, and capital letters are less than lowercase letters.\n"
   ]
  },
  {
   "cell_type": "code",
   "execution_count": 9,
   "metadata": {},
   "outputs": [
    {
     "name": "stdout",
     "output_type": "stream",
     "text": [
      "True\n"
     ]
    }
   ],
   "source": [
    "print('a' != 'A')"
   ]
  },
  {
   "cell_type": "code",
   "execution_count": 10,
   "metadata": {},
   "outputs": [
    {
     "name": "stdout",
     "output_type": "stream",
     "text": [
      "False\n"
     ]
    }
   ],
   "source": [
    "print('a' < 'A')"
   ]
  },
  {
   "cell_type": "markdown",
   "metadata": {},
   "source": [
    "Every character can be compared:"
   ]
  },
  {
   "cell_type": "code",
   "execution_count": 13,
   "metadata": {},
   "outputs": [
    {
     "name": "stdout",
     "output_type": "stream",
     "text": [
      "True\n"
     ]
    }
   ],
   "source": [
    "print(',' < '3')"
   ]
  },
  {
   "cell_type": "markdown",
   "metadata": {},
   "source": [
    "We can't compare values of two different types."
   ]
  },
  {
   "cell_type": "code",
   "execution_count": 14,
   "metadata": {},
   "outputs": [
    {
     "ename": "TypeError",
     "evalue": "'<=' not supported between instances of 'str' and 'int'",
     "output_type": "error",
     "traceback": [
      "\u001b[0;31m---------------------------------------------------------------------------\u001b[0m",
      "\u001b[0;31mTypeError\u001b[0m                                 Traceback (most recent call last)",
      "\u001b[0;32m<ipython-input-14-26f823416fda>\u001b[0m in \u001b[0;36m<module>\u001b[0;34m()\u001b[0m\n\u001b[0;32m----> 1\u001b[0;31m \u001b[0mprint\u001b[0m\u001b[0;34m(\u001b[0m\u001b[0;34m's'\u001b[0m \u001b[0;34m<=\u001b[0m \u001b[0;36m3\u001b[0m\u001b[0;34m)\u001b[0m\u001b[0;34m\u001b[0m\u001b[0m\n\u001b[0m",
      "\u001b[0;31mTypeError\u001b[0m: '<=' not supported between instances of 'str' and 'int'"
     ]
    }
   ],
   "source": [
    "print('s' <= 3)"
   ]
  },
  {
   "cell_type": "markdown",
   "metadata": {},
   "source": [
    "To obtain the ASCII (integer) representation, we can use the built-in function `ord()`."
   ]
  },
  {
   "cell_type": "code",
   "execution_count": 15,
   "metadata": {},
   "outputs": [
    {
     "name": "stdout",
     "output_type": "stream",
     "text": [
      "97\n"
     ]
    }
   ],
   "source": [
    "print(ord(\"a\"))"
   ]
  },
  {
   "cell_type": "code",
   "execution_count": 16,
   "metadata": {},
   "outputs": [
    {
     "name": "stdout",
     "output_type": "stream",
     "text": [
      "65\n"
     ]
    }
   ],
   "source": [
    "print(ord(\"A\"))"
   ]
  },
  {
   "cell_type": "markdown",
   "metadata": {},
   "source": [
    "The built-in function `ord` is expecting a character, and will produce an error if used on a string of more than one character."
   ]
  },
  {
   "cell_type": "code",
   "execution_count": 17,
   "metadata": {},
   "outputs": [
    {
     "ename": "TypeError",
     "evalue": "ord() expected a character, but string of length 2 found",
     "output_type": "error",
     "traceback": [
      "\u001b[0;31m---------------------------------------------------------------------------\u001b[0m",
      "\u001b[0;31mTypeError\u001b[0m                                 Traceback (most recent call last)",
      "\u001b[0;32m<ipython-input-17-d8519d14d446>\u001b[0m in \u001b[0;36m<module>\u001b[0;34m()\u001b[0m\n\u001b[0;32m----> 1\u001b[0;31m \u001b[0mprint\u001b[0m\u001b[0;34m(\u001b[0m\u001b[0mord\u001b[0m\u001b[0;34m(\u001b[0m\u001b[0;34m\"ab\"\u001b[0m\u001b[0;34m)\u001b[0m\u001b[0;34m)\u001b[0m\u001b[0;34m\u001b[0m\u001b[0m\n\u001b[0m",
      "\u001b[0;31mTypeError\u001b[0m: ord() expected a character, but string of length 2 found"
     ]
    }
   ],
   "source": [
    "print(ord(\"ab\"))"
   ]
  },
  {
   "cell_type": "markdown",
   "metadata": {},
   "source": [
    "To convert from the ASCII integer representation back to a string, we can use the built-in function `chr()`."
   ]
  },
  {
   "cell_type": "code",
   "execution_count": 18,
   "metadata": {},
   "outputs": [
    {
     "name": "stdout",
     "output_type": "stream",
     "text": [
      "a\n"
     ]
    }
   ],
   "source": [
    "print(chr(97))"
   ]
  },
  {
   "cell_type": "code",
   "execution_count": 19,
   "metadata": {},
   "outputs": [
    {
     "name": "stdout",
     "output_type": "stream",
     "text": [
      "Z\n"
     ]
    }
   ],
   "source": [
    "print(chr(90))"
   ]
  },
  {
   "cell_type": "markdown",
   "metadata": {},
   "source": [
    "'ord' and 'chr' are, of course, inverses of each other (i.e., like addition and subtraction)."
   ]
  },
  {
   "cell_type": "code",
   "execution_count": 20,
   "metadata": {},
   "outputs": [
    {
     "name": "stdout",
     "output_type": "stream",
     "text": [
      "90\n"
     ]
    }
   ],
   "source": [
    "print(ord(chr(90)))"
   ]
  },
  {
   "cell_type": "code",
   "execution_count": 21,
   "metadata": {},
   "outputs": [
    {
     "name": "stdout",
     "output_type": "stream",
     "text": [
      "A\n"
     ]
    }
   ],
   "source": [
    "print(chr(ord(\"A\")))"
   ]
  },
  {
   "cell_type": "markdown",
   "metadata": {},
   "source": [
    "**Testing For Substrings**\n",
    "\n",
    "The operator `in` checks whether a string appears anywhere inside another one (that is, whether a string is a substring of another)."
   ]
  },
  {
   "cell_type": "code",
   "execution_count": 22,
   "metadata": {},
   "outputs": [
    {
     "name": "stdout",
     "output_type": "stream",
     "text": [
      "False\n"
     ]
    }
   ],
   "source": [
    "print('c' in 'aeiou')"
   ]
  },
  {
   "cell_type": "code",
   "execution_count": 23,
   "metadata": {},
   "outputs": [
    {
     "name": "stdout",
     "output_type": "stream",
     "text": [
      "True\n"
     ]
    }
   ],
   "source": [
    "print('cad' in 'abracadabra')"
   ]
  },
  {
   "cell_type": "code",
   "execution_count": 24,
   "metadata": {},
   "outputs": [
    {
     "name": "stdout",
     "output_type": "stream",
     "text": [
      "False\n"
     ]
    }
   ],
   "source": [
    "print('zoo' in 'ooze')"
   ]
  },
  {
   "cell_type": "markdown",
   "metadata": {},
   "source": [
    "### Summary (Gries pg. 80)\n",
    "\n",
    "| Description | Operator | Example | Result |\n",
    "|-------------|----------|---------|--------|\n",
    "| equality | == | 'cat' == 'cat' ||\n",
    "| inequality | != | 'cat' != 'Cat' ||\n",
    "| less than | < | 'A' < 'a\" ||\n",
    "| greater than | > | 'a' > 'A' ||\n",
    "| less than or equal | <= | 'a' <= 'A'||\n",
    "| greater than or equal | >= | 'a' >= 'A' ||\n",
    "| contains | in | 'cad' in 'abracadabra' | |\n",
    "| length of string | len() | len(\"abc\") | |\n",
    "\n",
    "## More on if Statements\n",
    "\n",
    "The most general form for if-statements is:\n",
    "```\n",
    "if expression1:    \n",
    "    body1\n",
    "\n",
    "elif expression2:      \n",
    "    body2\n",
    "\n",
    "elif expression3:      \n",
    "    body3\n",
    "\n",
    "\t.\n",
    "\t.\n",
    "\t.\n",
    "\n",
    "else:                \n",
    "    bodyN\n",
    "```\n"
   ]
  },
  {
   "cell_type": "markdown",
   "metadata": {},
   "source": [
    "`elif` stands for \"else if\", so this forms a chain of conditions. To execute an if-statement:\n",
    "- evaluate each expression in order from top to bottom\n",
    "- If an expression produces `True`, execute the body of that clause and then skip the rest.\n",
    "- If there is an `else`, and none of the expressions produce `True`, then execute the body of the else.\n",
    "\n",
    "**Example**"
   ]
  },
  {
   "cell_type": "code",
   "execution_count": 25,
   "metadata": {},
   "outputs": [
    {
     "name": "stdout",
     "output_type": "stream",
     "text": [
      "We should take the car.\n"
     ]
    }
   ],
   "source": [
    "people = 30\n",
    "cars = 40\n",
    "trucks = 15\n",
    "\n",
    "if cars > people:\n",
    "    print(\"We should take the car.\")\n",
    "elif cars < people:\n",
    "    print(\"We should not take the car.\")\n",
    "else:\n",
    "    print(\"We can't decide.\")\n"
   ]
  },
  {
   "cell_type": "markdown",
   "metadata": {},
   "source": [
    "**A Turtle Example**\n",
    "\n",
    "Ask the user a simple math question. Draw a green circle if a user enters the correct answer, a yellow circle if they are wrong but close, and a red circle if the answer is wrong.\n",
    "\n",
    "Let's start with a function to draw a colored circle."
   ]
  },
  {
   "cell_type": "code",
   "execution_count": 1,
   "metadata": {},
   "outputs": [],
   "source": [
    "import turtle\n",
    "import random\n",
    "\n",
    "def color_draw(t, color):\n",
    "    t.color(color)\n",
    "    t.up()\n",
    "    t.goto(0,50)\n",
    "    t.down()\n",
    "    t.begin_fill()\n",
    "    t.circle(50,360)\n",
    "    t.end_fill()"
   ]
  },
  {
   "cell_type": "code",
   "execution_count": 2,
   "metadata": {},
   "outputs": [],
   "source": [
    "# some tests\n",
    "tina = turtle.Turtle()\n",
    "tina.shape('turtle')\n",
    "\n",
    "color_draw(tina,\"green\")\n",
    "\n",
    "turtle.done()"
   ]
  },
  {
   "cell_type": "markdown",
   "metadata": {},
   "source": [
    "OK, now let's use this function to draw a different color circle depending on the user's response."
   ]
  },
  {
   "cell_type": "code",
   "execution_count": 2,
   "metadata": {},
   "outputs": [
    {
     "name": "stdout",
     "output_type": "stream",
     "text": [
      "What is x in the following statement: x + 18 = 4? 4\n"
     ]
    }
   ],
   "source": [
    "# pick to random integers between 0 and 20\n",
    "a = random.randint(0,20)\n",
    "b = random.randint(0,20)\n",
    "\n",
    "# ask the user the question\n",
    "x = int(input(\"What is x in the following statement: x + \" + str(a) +  \" = \" + str(b) + \"? \"))\n",
    "\n",
    "# create and position the turtle\n",
    "tina = turtle.Turtle()\n",
    "tina.shape('turtle')\n",
    "\n",
    "tina.penup()\n",
    "tina.forward(20)\n",
    "\n",
    "# decide which circle to draw\n",
    "if x + a == b:\n",
    "    tina.write(\"Correct! x is equal to \" + str(x), font=(\"Arial\", 16, \"normal\"))\n",
    "    color_draw(tina, \"green\")\n",
    "\n",
    "elif abs(x + a - b) < 2:\n",
    "    tina.write(\"You are close.\", font=(\"Arial\", 16, \"normal\"))\n",
    "    color_draw(tina, \"yellow\")\n",
    "    \n",
    "else:\n",
    "    tina.write(\"Incorrect, x does not equal \" + str(x), font=(\"Arial\", 16, \"normal\"))\n",
    "    color_draw(tina, \"red\")\n",
    "    \n",
    "turtle.done()"
   ]
  },
  {
   "cell_type": "markdown",
   "metadata": {},
   "source": [
    "**`if-elif` vs. `if-if`**\n",
    "\n",
    "An `if` statement with an `elif` clause is a single statement. The expressions are evaluated from top to bottom until one produces True or until there are no expressions left to evaluate. When an expression produces True, the body associated with it is executed and then the whole statement exits. Any subsequent expressions are ignored. For example:"
   ]
  },
  {
   "cell_type": "code",
   "execution_count": 85,
   "metadata": {},
   "outputs": [
    {
     "name": "stdout",
     "output_type": "stream",
     "text": [
      "You passed a course with grade:  70\n"
     ]
    }
   ],
   "source": [
    "grade1 = 70\n",
    "grade2 = 80\n",
    "\n",
    "if grade1 >= 50:\n",
    "    print('You passed a course with grade: ', grade1)\n",
    "elif grade2 >= 50:\n",
    "    print('You passed a course with grade: ', grade2)\n"
   ]
  },
  {
   "cell_type": "markdown",
   "metadata": {},
   "source": [
    "The if statement condition `grade1 >= 50` evaluates to True, so the body associated with the if is executed and then the if exits. The elif condition is not even evaluated in this case.\n",
    "\n",
    "It is possible, of course, for if statements to appear one after another in a program. Although they may be adjacent to each other, they are completely independent of each other and it is possible for the body of each if to be executed. For example:"
   ]
  },
  {
   "cell_type": "code",
   "execution_count": 86,
   "metadata": {},
   "outputs": [
    {
     "name": "stdout",
     "output_type": "stream",
     "text": [
      "You passed a course with grade:  70\n",
      "You passed a course with grade:  80\n"
     ]
    }
   ],
   "source": [
    "grade1 = 70\n",
    "grade2 = 80\n",
    "\n",
    "if grade1 >= 50:\n",
    "    print('You passed a course with grade: ', grade1)\n",
    "if grade2 >= 50:\n",
    "    print('You passed a course with grade: ', grade2)"
   ]
  },
  {
   "cell_type": "markdown",
   "metadata": {},
   "source": [
    "In the program above, the condition associated with the first if statement `grade1 >= 50` produces True, so the body associated with it is executed. The condition associated with the second if statement `grade2 >= 50` also produces True, so the body associated with it is also executed.\n",
    "\n",
    "**Visual Example – conditional**\n"
   ]
  },
  {
   "cell_type": "code",
   "execution_count": 1,
   "metadata": {},
   "outputs": [
    {
     "name": "stdout",
     "output_type": "stream",
     "text": [
      "What shape do you want me to draw?circle\n"
     ]
    }
   ],
   "source": [
    "import turtle\n",
    "\n",
    "tina = turtle.Turtle()\n",
    "tina.up()\n",
    "tina.goto(-150,50)\n",
    "tina.down()\n",
    "\n",
    "shape = input(\"What shape do you want me to draw?\")\n",
    "\n",
    "if shape == \"square\":\n",
    "    tina.forward(50)\n",
    "    tina.left(90)\n",
    "    tina.forward(50)\n",
    "    tina.left(90)\n",
    "    tina.forward(50)\n",
    "    tina.left(90)\n",
    "    tina.forward(50)\n",
    "    tina.left(90)\n",
    "elif shape == \"circle\":\n",
    "    tina.circle(50,360)\n",
    "else:\n",
    "    tina.write(\"I cannot draw a \" + shape)\n",
    "\n",
    "turtle.done() "
   ]
  },
  {
   "cell_type": "markdown",
   "metadata": {},
   "source": [
    "**A Note on functions: Sometimes No if Required**\n",
    "\n",
    "It is common for new programmers to write code like the following:"
   ]
  },
  {
   "cell_type": "code",
   "execution_count": 1,
   "metadata": {},
   "outputs": [],
   "source": [
    "def is_even(num):\n",
    "    if num % 2 == 0:\n",
    "        return True\n",
    "    else:\n",
    "        return False"
   ]
  },
  {
   "cell_type": "markdown",
   "metadata": {},
   "source": [
    "This works, but is stylistically questionable. It's also more typing and reading than is necessary!\n",
    "\n",
    "`num % 2 == 0` produces True or False, so that expression can be used with the return statement. This function does **exactly** the same thing as the one above."
   ]
  },
  {
   "cell_type": "code",
   "execution_count": 2,
   "metadata": {},
   "outputs": [],
   "source": [
    "def is_even(num):\n",
    "    return num % 2 == 0"
   ]
  },
  {
   "cell_type": "markdown",
   "metadata": {},
   "source": [
    "## Nested ifs\n",
    "\n",
    "It is possible to place an if statement within the body of another if statement. For example:"
   ]
  },
  {
   "cell_type": "code",
   "execution_count": 6,
   "metadata": {},
   "outputs": [
    {
     "name": "stdout",
     "output_type": "stream",
     "text": [
      "Wear your snow boots and winter coat!\n"
     ]
    }
   ],
   "source": [
    "precipitation = True\n",
    "temperature = -5\n",
    "if precipitation:\n",
    "    if temperature > 0:\n",
    "        print('Bring your umbrella!')\n",
    "    else:\n",
    "        print('Wear your snow boots and winter coat!')   "
   ]
  },
  {
   "cell_type": "markdown",
   "metadata": {},
   "source": [
    "The message 'Bring your umbrella!' is printed only when both of the if statement conditions are True. The message 'Wear your snow boots and winter coat!' is printed only when the outer if condition is True, but the inner if condition is False. \n",
    "\n",
    "The following is equivalent to the code above:"
   ]
  },
  {
   "cell_type": "code",
   "execution_count": 7,
   "metadata": {},
   "outputs": [
    {
     "name": "stdout",
     "output_type": "stream",
     "text": [
      "Wear your snow boots and winter coat!\n"
     ]
    }
   ],
   "source": [
    "if precipitation and temperature > 0:\n",
    "    print('Bring your umbrella')\n",
    "elif precipitation:\n",
    "    print('Wear your snow boots and winter coat!')"
   ]
  },
  {
   "cell_type": "markdown",
   "metadata": {},
   "source": [
    "But this is a bit ugly because you are testing the value of `precipitation` twice. It is clearer to write this as a nested-ifs.\n",
    "\n",
    "**Story Example**"
   ]
  },
  {
   "cell_type": "code",
   "execution_count": 1,
   "metadata": {},
   "outputs": [
    {
     "name": "stdout",
     "output_type": "stream",
     "text": [
      "You enter a dark room with two doors.  Do you go through door #1 or door #2?\n",
      "> 1\n",
      "There's a giant bear here eating a cheese cake.  What do you do?\n",
      "1. Take the cake.\n",
      "2. Scream at the bear.\n",
      "3. Play dead.\n",
      "> 3\n",
      "The bear smells you and runs away. Good Job!\n"
     ]
    }
   ],
   "source": [
    "print (\"You enter a dark room with two doors.  Do you go through door #1 or door #2?\")\n",
    "\n",
    "door = input(\"> \")\n",
    "\n",
    "if door == \"1\":\n",
    "    print (\"There's a giant bear here eating a cheese cake.  What do you do?\")\n",
    "    print (\"1. Take the cake.\")\n",
    "    print (\"2. Scream at the bear.\")\n",
    "    print (\"3. Play dead.\")\n",
    "\n",
    "    bear = input(\"> \")\n",
    "\n",
    "    if bear == \"1\":\n",
    "        print (\"The bear eats you.  Game Over!\")\n",
    "    elif bear == \"2\":\n",
    "        print (\"It's a Grizzly bear! The bear eats you. Game Over!\")\n",
    "    else:\n",
    "        print (\"The bear smells you and runs away. Good Job!\")\n",
    "\n",
    "elif door == \"2\":\n",
    "    print (\"You see a hall full of treasure. What do you do?\")\n",
    "    print (\"1. Take as much treasure as you can.\")\n",
    "    print (\"2. Take one gold coin and run.\")\n",
    "    print (\"3. Walk through and don't take anything.\")\n",
    "\n",
    "    treasure = input(\"> \")\n",
    "\n",
    "    if treasure == \"1\" or treasure == \"2\":\n",
    "        print (\"A dragon wakes up and burns you to a crisp.  Game Over!\")\n",
    "    else:\n",
    "        print (\"You survive to live another day.  Good job!\")\n",
    "\n",
    "else:\n",
    "    print (\"You stumble around and fall into a deep well. Game Over!\")\n"
   ]
  },
  {
   "cell_type": "markdown",
   "metadata": {},
   "source": [
    "<div class=\"alert alert-block alert-info\">\n",
    "<big><b>This Lecture</b></big>\n",
    "<ul>  \n",
    " <li>string comparision, ord(), and chr(), testing for substrings</li>  \n",
    "    <li>if-elif-else</li>\n",
    "    <li>nested if statements</li>\n",
    "</ul>  \n",
    "</div>"
   ]
  },
  {
   "cell_type": "code",
   "execution_count": null,
   "metadata": {},
   "outputs": [],
   "source": []
  }
 ],
 "metadata": {
  "kernelspec": {
   "display_name": "Python 3",
   "language": "python",
   "name": "python3"
  },
  "language_info": {
   "codemirror_mode": {
    "name": "ipython",
    "version": 3
   },
   "file_extension": ".py",
   "mimetype": "text/x-python",
   "name": "python",
   "nbconvert_exporter": "python",
   "pygments_lexer": "ipython3",
   "version": "3.7.2"
  }
 },
 "nbformat": 4,
 "nbformat_minor": 1
}
