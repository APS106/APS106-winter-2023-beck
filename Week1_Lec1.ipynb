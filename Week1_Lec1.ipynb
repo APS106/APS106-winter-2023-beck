{
 "cells": [
  {
   "cell_type": "markdown",
   "metadata": {},
   "source": [
    "# APS106 Lecture Notes - Week 1, Lecture 1\n",
    "# A Very Short Introduction to Jupyter Notebook"
   ]
  },
  {
   "cell_type": "markdown",
   "metadata": {},
   "source": [
    "Jupyter notebook allows the mixing of text (like this), images, and code. And critially, the code can be executed in the notebook. \n",
    "\n",
    "For example, here's a small piece of code that prints out the first X perfect squares that are even, for X defined by the user.\n",
    "\n",
    "**NOTE: YOU ARE NOT EXPECTED TO UNDERSTAND THIS RIGHT NOW. YOU WILL SOON. RELAX.**"
   ]
  },
  {
   "cell_type": "code",
   "execution_count": null,
   "metadata": {},
   "outputs": [],
   "source": [
    "# get input from the user\n",
    "num_squares = int(input(\"How many squares: \"))\n",
    "\n",
    "# define some variables\n",
    "squares_printed = 0\n",
    "counter = 1\n",
    "\n",
    "# loop while a condition is true\n",
    "while squares_printed < num_squares:\n",
    "    square = counter * counter\n",
    "    \n",
    "    # check if square is even\n",
    "    if square % 2 == 0:\n",
    "        # print to the screen\n",
    "        print(counter, square)\n",
    "        \n",
    "        # increment the value of a variable\n",
    "        squares_printed += 1\n",
    "        \n",
    "    counter += 1\n"
   ]
  },
  {
   "cell_type": "markdown",
   "metadata": {},
   "source": [
    "Important things to realize:\n",
    "\n",
    "1. You are not expected to know how to do this yet nor even to really understand it. So don't worry. See if you can pick out 3 of the 4 basic concepts of programming.\n",
    "1. There are many different ways to write a program that does the same thing. There are better and worse ways and there are also just different ways. We will be teachng you good ways (e.g. shorter code, clearer code, efficient code) but, at least when we get further into the course, there will be a number of acceptable ways to write a program."
   ]
  },
  {
   "cell_type": "code",
   "execution_count": null,
   "metadata": {},
   "outputs": [],
   "source": []
  }
 ],
 "metadata": {
  "kernelspec": {
   "display_name": "Python 3",
   "language": "python",
   "name": "python3"
  },
  "language_info": {
   "codemirror_mode": {
    "name": "ipython",
    "version": 3
   },
   "file_extension": ".py",
   "mimetype": "text/x-python",
   "name": "python",
   "nbconvert_exporter": "python",
   "pygments_lexer": "ipython3",
   "version": "3.7.2"
  }
 },
 "nbformat": 4,
 "nbformat_minor": 1
}
