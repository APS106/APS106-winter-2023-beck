{
 "cells": [
  {
   "cell_type": "markdown",
   "metadata": {},
   "source": [
    "# APS106 Lecture Notes - Week 8, Lecture 1\n",
    "# Containers"
   ]
  },
  {
   "cell_type": "markdown",
   "metadata": {},
   "source": [
    "## Tuples\n",
    "Tuples are an ordered sequence of items similar to lists. Unlike lists however, tuples are immutable (i.e., cannot be changed). In fact, **tuples are basically immutable lists**.  (Recall that strings are an immutable sequence of characters.) \n",
    "\n",
    "Tuples are written using parentheses ( ) instead of brackets []. "
   ]
  },
  {
   "cell_type": "code",
   "execution_count": 2,
   "metadata": {},
   "outputs": [
    {
     "name": "stdout",
     "output_type": "stream",
     "text": [
      "(1, 2, 3)\n",
      "3\n"
     ]
    }
   ],
   "source": [
    "nums = (1,2,3)\n",
    "print(nums)\n",
    "print(nums[len(nums)-1])"
   ]
  },
  {
   "cell_type": "code",
   "execution_count": 3,
   "metadata": {},
   "outputs": [
    {
     "name": "stdout",
     "output_type": "stream",
     "text": [
      "('john', 'paul', 'george', 'ringo')\n",
      "ringo\n"
     ]
    }
   ],
   "source": [
    "names = (\"john\", \"paul\", \"george\", \"ringo\")\n",
    "print(names)\n",
    "print(names[-1])"
   ]
  },
  {
   "cell_type": "markdown",
   "metadata": {},
   "source": [
    "A tuple with a single element is written as (x,) to not be confused with arithmetic operations such as (4 + 7). "
   ]
  },
  {
   "cell_type": "code",
   "execution_count": 16,
   "metadata": {},
   "outputs": [
    {
     "name": "stdout",
     "output_type": "stream",
     "text": [
      "1 <class 'int'>\n",
      "(1,) <class 'tuple'>\n",
      "11 <class 'int'>\n",
      "(11,) <class 'tuple'>\n",
      "oscar <class 'str'>\n",
      "('oscar',) <class 'tuple'>\n"
     ]
    }
   ],
   "source": [
    "x = (1)\n",
    "print(x, type(x))\n",
    "\n",
    "y = (1,)\n",
    "print(y, type(y))\n",
    "\n",
    "z = (4+7)\n",
    "w = (4+7,)\n",
    "print(z, type(z))\n",
    "print(w, type(w))\n",
    "\n",
    "s = (\"oscar\")\n",
    "print(s, type(s))\n",
    "s2 = (\"oscar\",)\n",
    "print(s2, type(s2))"
   ]
  },
  {
   "cell_type": "markdown",
   "metadata": {},
   "source": [
    "Like strings and lists, tuples can be subscripted, sliced, and looped over."
   ]
  },
  {
   "cell_type": "code",
   "execution_count": 49,
   "metadata": {
    "scrolled": true
   },
   "outputs": [
    {
     "name": "stdout",
     "output_type": "stream",
     "text": [
      "1\n",
      "2\n",
      "3\n",
      "4\n",
      "\n",
      "[0, 1, 2, 3]\n",
      "j= 0\n",
      "1\n",
      "j= 1\n",
      "2\n",
      "j= 2\n",
      "3\n",
      "j= 3\n",
      "4\n"
     ]
    },
    {
     "ename": "AttributeError",
     "evalue": "'tuple' object has no attribute 'append'",
     "output_type": "error",
     "traceback": [
      "\u001b[0;31m---------------------------------------------------------------------------\u001b[0m",
      "\u001b[0;31mAttributeError\u001b[0m                            Traceback (most recent call last)",
      "\u001b[0;32m<ipython-input-49-706f3b14a5ed>\u001b[0m in \u001b[0;36m<module>\u001b[0;34m()\u001b[0m\n\u001b[1;32m      9\u001b[0m     \u001b[0mprint\u001b[0m\u001b[0;34m(\u001b[0m\u001b[0mnums\u001b[0m\u001b[0;34m[\u001b[0m\u001b[0mj\u001b[0m\u001b[0;34m]\u001b[0m\u001b[0;34m)\u001b[0m\u001b[0;34m\u001b[0m\u001b[0m\n\u001b[1;32m     10\u001b[0m \u001b[0;34m\u001b[0m\u001b[0m\n\u001b[0;32m---> 11\u001b[0;31m \u001b[0mnums\u001b[0m\u001b[0;34m.\u001b[0m\u001b[0mappend\u001b[0m\u001b[0;34m(\u001b[0m\u001b[0;36m5\u001b[0m\u001b[0;34m)\u001b[0m\u001b[0;34m\u001b[0m\u001b[0m\n\u001b[0m",
      "\u001b[0;31mAttributeError\u001b[0m: 'tuple' object has no attribute 'append'"
     ]
    }
   ],
   "source": [
    "nums = (1,2,3,4)\n",
    "for i in nums:\n",
    "    print(i)\n",
    "print()\n",
    "\n",
    "print(list(range(len(nums))))\n",
    "for j in range(len(nums)):\n",
    "    print(\"j=\",j)\n",
    "    print(nums[j])\n",
    "\n",
    "nums.append(5)\n"
   ]
  },
  {
   "cell_type": "markdown",
   "metadata": {},
   "source": [
    "But remember, tuples are *immutable*."
   ]
  },
  {
   "cell_type": "code",
   "execution_count": 24,
   "metadata": {},
   "outputs": [
    {
     "ename": "TypeError",
     "evalue": "'tuple' object does not support item assignment",
     "output_type": "error",
     "traceback": [
      "\u001b[0;31m---------------------------------------------------------------------------\u001b[0m",
      "\u001b[0;31mTypeError\u001b[0m                                 Traceback (most recent call last)",
      "\u001b[0;32m<ipython-input-24-230e9c9e496e>\u001b[0m in \u001b[0;36m<module>\u001b[0;34m()\u001b[0m\n\u001b[1;32m      1\u001b[0m \u001b[0mnums\u001b[0m \u001b[0;34m=\u001b[0m \u001b[0;34m(\u001b[0m\u001b[0;36m1\u001b[0m\u001b[0;34m,\u001b[0m\u001b[0;36m1\u001b[0m\u001b[0;34m,\u001b[0m\u001b[0;36m3\u001b[0m\u001b[0;34m)\u001b[0m\u001b[0;34m\u001b[0m\u001b[0m\n\u001b[0;32m----> 2\u001b[0;31m \u001b[0mnums\u001b[0m\u001b[0;34m[\u001b[0m\u001b[0;36m0\u001b[0m\u001b[0;34m]\u001b[0m \u001b[0;34m=\u001b[0m \u001b[0mnums\u001b[0m\u001b[0;34m[\u001b[0m\u001b[0;36m1\u001b[0m\u001b[0;34m]\u001b[0m\u001b[0;34m\u001b[0m\u001b[0m\n\u001b[0m",
      "\u001b[0;31mTypeError\u001b[0m: 'tuple' object does not support item assignment"
     ]
    }
   ],
   "source": [
    "nums = (1,1,3)\n",
    "nums[0] = nums[1]"
   ]
  },
  {
   "cell_type": "markdown",
   "metadata": {},
   "source": [
    "So how do we add an element to the end of a tuple? What is going on in the following code (with lists)."
   ]
  },
  {
   "cell_type": "code",
   "execution_count": 3,
   "metadata": {},
   "outputs": [
    {
     "name": "stdout",
     "output_type": "stream",
     "text": [
      "['eins', 'zwei', 'drei', 'vier']\n"
     ]
    }
   ],
   "source": [
    "my_list = ['eins', 'zwei', 'drei']\n",
    "my_list += ['vier']\n",
    "print(my_list)"
   ]
  },
  {
   "cell_type": "markdown",
   "metadata": {},
   "source": [
    "Remember that the second line is equivalent to:\n",
    "```\n",
    "my_list = my_list + ['vier']\n",
    "```\n",
    "The right-hand side creates a new list from adding ``my_list`` to ``[vier]`` and then over-writes ``my_list`` to point to the new list. So we are not changing the list ``my_list`` as can be seen from the following code. Rather we are creating a new list and making the reference ``my_list`` point to it."
   ]
  },
  {
   "cell_type": "code",
   "execution_count": 3,
   "metadata": {},
   "outputs": [
    {
     "name": "stdout",
     "output_type": "stream",
     "text": [
      "my_list: ['eins', 'zwei', 'drei']\n",
      "another_list: ['eins', 'zwei', 'drei', 'vier']\n",
      "my_list: ['eins', 'zwei', 'drei', 'vier']\n"
     ]
    }
   ],
   "source": [
    "my_list = ['eins', 'zwei', 'drei']\n",
    "another_list = my_list + ['vier']\n",
    "print(\"my_list:\",my_list)\n",
    "print(\"another_list:\",another_list)\n",
    "# now we make my_list point to another_list\n",
    "my_list = another_list\n",
    "print(\"my_list:\",my_list)"
   ]
  },
  {
   "cell_type": "markdown",
   "metadata": {},
   "source": [
    "Now can we add something to the end of a tuple?"
   ]
  },
  {
   "cell_type": "code",
   "execution_count": 5,
   "metadata": {},
   "outputs": [
    {
     "ename": "TypeError",
     "evalue": "can only concatenate tuple (not \"str\") to tuple",
     "output_type": "error",
     "traceback": [
      "\u001b[0;31m---------------------------------------------------------------------------\u001b[0m",
      "\u001b[0;31mTypeError\u001b[0m                                 Traceback (most recent call last)",
      "\u001b[0;32m<ipython-input-5-5ed396d9b54d>\u001b[0m in \u001b[0;36m<module>\u001b[0;34m\u001b[0m\n\u001b[1;32m      1\u001b[0m \u001b[0mmy_tuple\u001b[0m \u001b[0;34m=\u001b[0m \u001b[0;34m(\u001b[0m\u001b[0;34m'eins'\u001b[0m\u001b[0;34m,\u001b[0m \u001b[0;34m'zwei'\u001b[0m\u001b[0;34m,\u001b[0m \u001b[0;34m'drei'\u001b[0m\u001b[0;34m)\u001b[0m\u001b[0;34m\u001b[0m\u001b[0;34m\u001b[0m\u001b[0m\n\u001b[0;32m----> 2\u001b[0;31m \u001b[0mmy_tuple\u001b[0m \u001b[0;34m+=\u001b[0m \u001b[0;34m(\u001b[0m\u001b[0;34m'vier'\u001b[0m\u001b[0;34m)\u001b[0m\u001b[0;34m\u001b[0m\u001b[0;34m\u001b[0m\u001b[0m\n\u001b[0m\u001b[1;32m      3\u001b[0m \u001b[0mprint\u001b[0m\u001b[0;34m(\u001b[0m\u001b[0mmy_tuple\u001b[0m\u001b[0;34m)\u001b[0m\u001b[0;34m\u001b[0m\u001b[0;34m\u001b[0m\u001b[0m\n",
      "\u001b[0;31mTypeError\u001b[0m: can only concatenate tuple (not \"str\") to tuple"
     ]
    }
   ],
   "source": [
    "my_tuple = ('eins', 'zwei', 'drei')\n",
    "my_tuple += ('vier')\n",
    "print(my_tuple)"
   ]
  },
  {
   "cell_type": "markdown",
   "metadata": {},
   "source": [
    "Oh, oh. I thought that was going to work. Can someone tell me what is going on? (Hint: read the error message)."
   ]
  },
  {
   "cell_type": "code",
   "execution_count": 6,
   "metadata": {},
   "outputs": [
    {
     "name": "stdout",
     "output_type": "stream",
     "text": [
      "('eins', 'zwei', 'drei', 'vier')\n"
     ]
    }
   ],
   "source": [
    "my_tuple = ('eins', 'zwei', 'drei')\n",
    "my_tuple += ('vier',)\n",
    "print(my_tuple)"
   ]
  },
  {
   "cell_type": "markdown",
   "metadata": {},
   "source": [
    "### Nested Tuples and Mixing Tuples and Lists\n",
    "\n",
    "Tuples can be nested and if the element of a tuple is mutable, it can be changed. Compare:"
   ]
  },
  {
   "cell_type": "code",
   "execution_count": 26,
   "metadata": {},
   "outputs": [
    {
     "name": "stdout",
     "output_type": "stream",
     "text": [
      "(['Canada', 76.5], ['United States', 75.5], ['Mexico', 72.0])\n"
     ]
    },
    {
     "ename": "TypeError",
     "evalue": "'tuple' object does not support item assignment",
     "output_type": "error",
     "traceback": [
      "\u001b[0;31m---------------------------------------------------------------------------\u001b[0m",
      "\u001b[0;31mTypeError\u001b[0m                                 Traceback (most recent call last)",
      "\u001b[0;32m<ipython-input-26-b0f7cf329533>\u001b[0m in \u001b[0;36m<module>\u001b[0;34m()\u001b[0m\n\u001b[1;32m      1\u001b[0m \u001b[0mlife\u001b[0m \u001b[0;34m=\u001b[0m\u001b[0;34m(\u001b[0m\u001b[0;34m[\u001b[0m\u001b[0;34m'Canada'\u001b[0m\u001b[0;34m,\u001b[0m \u001b[0;36m76.5\u001b[0m\u001b[0;34m]\u001b[0m\u001b[0;34m,\u001b[0m \u001b[0;34m[\u001b[0m\u001b[0;34m'United States'\u001b[0m\u001b[0;34m,\u001b[0m \u001b[0;36m75.5\u001b[0m\u001b[0;34m]\u001b[0m\u001b[0;34m,\u001b[0m \u001b[0;34m[\u001b[0m\u001b[0;34m'Mexico'\u001b[0m\u001b[0;34m,\u001b[0m \u001b[0;36m72.0\u001b[0m\u001b[0;34m]\u001b[0m\u001b[0;34m)\u001b[0m\u001b[0;34m\u001b[0m\u001b[0m\n\u001b[1;32m      2\u001b[0m \u001b[0mprint\u001b[0m\u001b[0;34m(\u001b[0m\u001b[0mlife\u001b[0m\u001b[0;34m)\u001b[0m\u001b[0;34m\u001b[0m\u001b[0m\n\u001b[0;32m----> 3\u001b[0;31m \u001b[0mlife\u001b[0m\u001b[0;34m[\u001b[0m\u001b[0;36m0\u001b[0m\u001b[0;34m]\u001b[0m \u001b[0;34m=\u001b[0m \u001b[0mlife\u001b[0m\u001b[0;34m[\u001b[0m\u001b[0;36m1\u001b[0m\u001b[0;34m]\u001b[0m\u001b[0;34m\u001b[0m\u001b[0m\n\u001b[0m",
      "\u001b[0;31mTypeError\u001b[0m: 'tuple' object does not support item assignment"
     ]
    }
   ],
   "source": [
    "life =(['Canada', 76.5], ['United States', 75.5], ['Mexico', 72.0])\n",
    "print(life)\n",
    "life[0] = life[1]"
   ]
  },
  {
   "cell_type": "markdown",
   "metadata": {},
   "source": [
    "Here we have a tuple of lists. We can't change the tuple elements. But we can change the list elements that are inside."
   ]
  },
  {
   "cell_type": "code",
   "execution_count": 27,
   "metadata": {},
   "outputs": [
    {
     "name": "stdout",
     "output_type": "stream",
     "text": [
      "(['Canada', 76.5], ['United States', 75.5], ['Mexico', 72.0])\n",
      "(['Canada', 80.0], ['United States', 75.5], ['Mexico', 72.0])\n"
     ]
    }
   ],
   "source": [
    "life =(['Canada', 76.5], ['United States', 75.5], ['Mexico', 72.0])\n",
    "print(life)\n",
    "life[0][1] = 80.0\n",
    "print(life)"
   ]
  },
  {
   "cell_type": "markdown",
   "metadata": {},
   "source": [
    "Tuples can, of course, hold elements of different types and they are often used to do so because you want your data to be \"write protected\"."
   ]
  },
  {
   "cell_type": "code",
   "execution_count": 1,
   "metadata": {},
   "outputs": [
    {
     "name": "stdout",
     "output_type": "stream",
     "text": [
      "('smith', 'john', (6, 23, 1968))\n"
     ]
    }
   ],
   "source": [
    "person_record = (\"smith\", \"john\", (6,23,1968))\n",
    "print(person_record)"
   ]
  },
  {
   "cell_type": "markdown",
   "metadata": {},
   "source": [
    "## Tuple Assignment\n",
    "Python has a very nice tuple assignment feature that allows you to, essentially, assign multiple variables at once."
   ]
  },
  {
   "cell_type": "code",
   "execution_count": 29,
   "metadata": {},
   "outputs": [
    {
     "name": "stdout",
     "output_type": "stream",
     "text": [
      "4.2 0.1\n"
     ]
    }
   ],
   "source": [
    "(x,y) = (4.2, 0.1)\n",
    "print(x, y)"
   ]
  },
  {
   "cell_type": "code",
   "execution_count": 33,
   "metadata": {},
   "outputs": [
    {
     "ename": "ValueError",
     "evalue": "not enough values to unpack (expected 4, got 3)",
     "output_type": "error",
     "traceback": [
      "\u001b[0;31m---------------------------------------------------------------------------\u001b[0m",
      "\u001b[0;31mValueError\u001b[0m                                Traceback (most recent call last)",
      "\u001b[0;32m<ipython-input-33-947edbbbed6a>\u001b[0m in \u001b[0;36m<module>\u001b[0;34m()\u001b[0m\n\u001b[0;32m----> 1\u001b[0;31m \u001b[0;34m(\u001b[0m\u001b[0ma\u001b[0m\u001b[0;34m,\u001b[0m\u001b[0mb\u001b[0m\u001b[0;34m,\u001b[0m\u001b[0mc\u001b[0m\u001b[0;34m,\u001b[0m\u001b[0md\u001b[0m\u001b[0;34m)\u001b[0m \u001b[0;34m=\u001b[0m \u001b[0;34m(\u001b[0m\u001b[0;36m1\u001b[0m\u001b[0;34m,\u001b[0m\u001b[0;36m2\u001b[0m\u001b[0;34m,\u001b[0m\u001b[0;36m3\u001b[0m\u001b[0;34m)\u001b[0m\u001b[0;34m\u001b[0m\u001b[0m\n\u001b[0m",
      "\u001b[0;31mValueError\u001b[0m: not enough values to unpack (expected 4, got 3)"
     ]
    }
   ],
   "source": [
    "(a,b,c,d) = (1,2,3)"
   ]
  },
  {
   "cell_type": "markdown",
   "metadata": {},
   "source": [
    "In fact, the brackets are optional in this instance so:"
   ]
  },
  {
   "cell_type": "code",
   "execution_count": 34,
   "metadata": {},
   "outputs": [
    {
     "name": "stdout",
     "output_type": "stream",
     "text": [
      "3.5\n",
      "6\n"
     ]
    }
   ],
   "source": [
    "x,y = 3.5, 6\n",
    "print(x)\n",
    "print(y)"
   ]
  },
  {
   "cell_type": "markdown",
   "metadata": {},
   "source": [
    "A nice benefit of tuple assignment is the ability to swap assignments in one line. In most languages (and you can do this in Python to), if you want to swap variable values, you need to use a temporary variable."
   ]
  },
  {
   "cell_type": "code",
   "execution_count": 31,
   "metadata": {},
   "outputs": [
    {
     "name": "stdout",
     "output_type": "stream",
     "text": [
      "3\n",
      "45\n"
     ]
    }
   ],
   "source": [
    "x = 45\n",
    "y = 3\n",
    "tmp = x\n",
    "x = y\n",
    "y = tmp\n",
    "print(x)\n",
    "print(y)"
   ]
  },
  {
   "cell_type": "markdown",
   "metadata": {},
   "source": [
    "How can we do this with tuple assignment?"
   ]
  },
  {
   "cell_type": "code",
   "execution_count": 32,
   "metadata": {},
   "outputs": [
    {
     "name": "stdout",
     "output_type": "stream",
     "text": [
      "3\n",
      "45\n"
     ]
    }
   ],
   "source": [
    "x = 45\n",
    "y = 3\n",
    "(x,y) = (y,x)\n",
    "print(x)\n",
    "print(y)"
   ]
  },
  {
   "cell_type": "markdown",
   "metadata": {},
   "source": [
    "It is worthwhile making sure you understand what is going on above in detail. In particular, can you explain exactly what is happening in this line:\n",
    "\n",
    "```\n",
    "(x,y) = (y,x)\n",
    "```\n",
    "\n",
    "Another handy use of tuple assignment is \"packing\" and \"unpacking\"."
   ]
  },
  {
   "cell_type": "code",
   "execution_count": 47,
   "metadata": {},
   "outputs": [
    {
     "name": "stdout",
     "output_type": "stream",
     "text": [
      "('Bob', 19, 'ME')\n",
      "Bob\n",
      "Bob\n",
      "19\n",
      "ME\n"
     ]
    }
   ],
   "source": [
    "b = (\"Bob\", 19, \"ME\") # pack\n",
    "print(b)\n",
    "name, age, studies = b # unpack\n",
    "print(name)\n",
    "print(b[0])\n",
    "print(age)\n",
    "print(studies)"
   ]
  },
  {
   "cell_type": "markdown",
   "metadata": {},
   "source": [
    "# Sets\n",
    "A set is an *unordered* collection of *distinct* items that does not record element position or order of insertion. So you cannot index, slice, or perform other sequence-like behavior on sets. Their primary purpose is to hold distinct items: there are no duplicates in sets (just like mathematical sets).\n",
    "\n",
    "The notation for sets is similar to lists, except that sets use curly braces {} instead of brackets []. "
   ]
  },
  {
   "cell_type": "code",
   "execution_count": 7,
   "metadata": {},
   "outputs": [
    {
     "name": "stdout",
     "output_type": "stream",
     "text": [
      "{'o', 'u', 'i', 'a', 'e'}\n"
     ]
    }
   ],
   "source": [
    "vowels = {'a', 'e', 'i', 'o', 'u'}\n",
    "print(vowels)"
   ]
  },
  {
   "cell_type": "markdown",
   "metadata": {},
   "source": [
    "When you try to define a set with duplicate characters, the duplicates will be ignored."
   ]
  },
  {
   "cell_type": "code",
   "execution_count": 3,
   "metadata": {},
   "outputs": [
    {
     "name": "stdout",
     "output_type": "stream",
     "text": [
      "{'i', 'o', 'a', 'e', 'u'}\n"
     ]
    }
   ],
   "source": [
    "vowels = {'a', 'e', 'i', 'o', 'u', 'i', 'i', 'u'}\n",
    "print(vowels)"
   ]
  },
  {
   "cell_type": "markdown",
   "metadata": {},
   "source": [
    "You can create a set from a list and a list from a set."
   ]
  },
  {
   "cell_type": "code",
   "execution_count": 4,
   "metadata": {},
   "outputs": [
    {
     "name": "stdout",
     "output_type": "stream",
     "text": [
      "{1, 2, 3, 4}\n",
      "[1, 2, 3, 4]\n"
     ]
    }
   ],
   "source": [
    "s = set([1,2,3,4,4])\n",
    "print(s)\n",
    "l = list(s)\n",
    "print(l)"
   ]
  },
  {
   "cell_type": "markdown",
   "metadata": {},
   "source": [
    "What happened to the two 4s in the initial list?\n",
    "\n",
    "## Set Operations\n",
    "Sets are great for performing the mathematical operations: union, intersection, and difference. These are all implemented as methods shown in the following table (Gries pg. 202). \n",
    "\n",
    "Operation\t| Equivalent\t| Result\n",
    "------------|:---------------:|-------\n",
    "len(s) |N/A | number of elements in set s (cardinality)\n",
    "x in s |N/A | test x for membership in s\n",
    "x not in s |N/A|test x for non-membership in s\n",
    "s.issubset(t) |\ts <= t|test whether every element in s is in t\n",
    "s.issuperset(t)|s >= t|test whether every element in t is in s\n",
    "s.union(t)|\ts &#124; t| new set with elements from both s and t\n",
    "s.intersection(t) |s & t|new set with elements common to s and t\n",
    "s.difference(t)|s - t|new set with elements in s but not in t\n",
    "s.symmetric_difference(t)|s ^ t|new set with elements in either s or t but not both\n",
    "s.copy()|N/A|new set with a copy of s\n",
    "\n",
    "Examples"
   ]
  },
  {
   "cell_type": "code",
   "execution_count": 45,
   "metadata": {},
   "outputs": [
    {
     "name": "stdout",
     "output_type": "stream",
     "text": [
      "{13, 1, 2, 3, 5}\n",
      "{13, 1, 2, 3, 5}\n",
      "{1, 2, 3, 5, 7, 11, 13, 17, 19, 23}\n",
      "{1, 2, 3, 5, 8, 13, 21}\n",
      "{7, 9, 11, 15, 17, 19, 23}\n"
     ]
    }
   ],
   "source": [
    "prime = {1, 2, 3, 5, 7, 11, 13, 17, 19, 23}\n",
    "fib = {1, 1, 2, 3, 5, 8, 13, 21}\n",
    "odd = set(range(1, 25, 2))\n",
    "\n",
    "# intersection\n",
    "print(prime.intersection(fib))\n",
    "print(prime & fib)\n",
    "\n",
    "# prime and fib unchanged!\n",
    "print(prime)\n",
    "print(fib)\n",
    "\n",
    "print(odd.difference(fib))\n"
   ]
  },
  {
   "cell_type": "code",
   "execution_count": 46,
   "metadata": {},
   "outputs": [
    {
     "name": "stdout",
     "output_type": "stream",
     "text": [
      "{'long-tailed jaeger', 'snow goose', 'canada goose', 'northern fulmar'}\n",
      "{'long-tailed jaeger', 'snow goose', 'canada goose', 'northern fulmar'}\n"
     ]
    }
   ],
   "source": [
    "observations = (\"canada goose\", \"canada goose\", \"long-tailed jaeger\",\n",
    "\"canada goose\", \"snow goose\", \"canada goose\", \"long-tailed jaeger\", \n",
    "\"canada goose\", \"northern fulmar\")\n",
    "\n",
    "# we can construct a set one-by-one (e.g., if we had user input)\n",
    "birds_observed = set()\n",
    "for bird in observations:\n",
    "    birds_observed.add(bird)\n",
    "\n",
    "print(birds_observed)\n",
    "\n",
    "# or if we have the data in a list or tuple, just create a set directly\n",
    "new_birds_observed = set(observations)\n",
    "print(new_birds_observed)"
   ]
  },
  {
   "cell_type": "markdown",
   "metadata": {},
   "source": [
    "<div class=\"alert alert-block alert-info\">\n",
    "<big><b>This Lecture: Containers</b></big>\n",
    "<ul>  \n",
    "    <li>Tuples are immutable lists</li>\n",
    "    <li>Tuples: assignments (packing and unpacking)</li>\n",
    "    <li>Sets: the same as mathematical sets</li>\n",
    "    <li>Sets: sets and set operations</li>\n",
    "<b>See Chapter 11 of the Gries textbook. This is all in there.</b>\n",
    "</div>"
   ]
  },
  {
   "cell_type": "code",
   "execution_count": null,
   "metadata": {},
   "outputs": [],
   "source": []
  }
 ],
 "metadata": {
  "kernelspec": {
   "display_name": "Python 3",
   "language": "python",
   "name": "python3"
  },
  "language_info": {
   "codemirror_mode": {
    "name": "ipython",
    "version": 3
   },
   "file_extension": ".py",
   "mimetype": "text/x-python",
   "name": "python",
   "nbconvert_exporter": "python",
   "pygments_lexer": "ipython3",
   "version": "3.7.2"
  }
 },
 "nbformat": 4,
 "nbformat_minor": 1
}
