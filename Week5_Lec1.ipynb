{
 "cells": [
  {
   "cell_type": "markdown",
   "metadata": {},
   "source": [
    "## APS106 Lecture Notes - Week 5, Lecture 1\n",
    "# Debugging"
   ]
  },
  {
   "cell_type": "markdown",
   "metadata": {},
   "source": [
    "By now in this course, you have likely experienced the challenge and frustration of debugging. The code just isn't working the way you think it should and you can't figure out what is going on.\n",
    "\n",
    "Unfortunately, debugging is actually where you will spend most of your time. It is not just because you do not know what you are doing - it is actually central to the fact that programming is complex."
   ]
  },
  {
   "cell_type": "markdown",
   "metadata": {},
   "source": [
    "![Wilkes](images/wilkes.jpg)"
   ]
  },
  {
   "cell_type": "markdown",
   "metadata": {},
   "source": [
    "![Dijkstra](images/dijkstra.jpg)"
   ]
  },
  {
   "cell_type": "markdown",
   "metadata": {},
   "source": [
    "![Fortes](images/fortes.jpg)"
   ]
  },
  {
   "cell_type": "markdown",
   "metadata": {},
   "source": [
    "So there is no free lunch. You are not going to magically hit the level of programming ability that means you do not have to debug your code. You can get better at programming but that just means that you will attack harder problems ... and make harder-to-find mistakes.\n",
    "\n",
    "So what can you do?\n",
    "\n",
    "1. Develop ways to reduce the likelihood that you will make a mistake. (Note that this likelihood will never be 0).\n",
    "1. Work on improving your debugging."
   ]
  },
  {
   "cell_type": "markdown",
   "metadata": {},
   "source": [
    "## Reducing the Chance of Bugs\n",
    "\n",
    "<div class=\"alert alert-block alert-danger\">\n",
    "<big><b>Beck's Rule #1 for Programmers</b></big>\n",
    "Never, never, never write code for more than 15 minutes without stopping and testing if what you have written works. </div>\n",
    "\n",
    "If you have only written a few lines of code and everything was working before, then if it isn't working now, the bug must be in your new code.\n",
    "\n",
    "(Unfortunately, that is not always true. There might be a problem with your older code that did not show up until you added the new code. But it is often true .... And even if the problem is in the older code, the sooner you find out about it, the less code you have to find the bug in. It's always better to find bugs early than late.)\n",
    "\n",
    "The better you get at programming, the more code you can write without testing it right away. However, even professional software engineers have adopted \"test-driven development\" (https://en.wikipedia.org/wiki/Test-driven_development). This is not just an approach to use while you are learning.\n",
    "\n",
    "These example might seem simple to some of you - that's good. But if so, you should try to map this into your own coding practices."
   ]
  },
  {
   "cell_type": "markdown",
   "metadata": {},
   "source": [
    "### Write Some Code\n",
    "\n",
    "The goal of this exercise is to think about writing code to reduce the likelihood of having to debug. So do not just think about solving the problem. Think about your process.\n",
    "\n",
    "- Ask the user to input an integer.\n",
    "- Count the number of digits of the input that are divisible by 3.\n",
    "- Print out the count.\n",
    "\n",
    "OK, so let's think about the Algorithm Plan (i.e., what the algorithm will do).\n",
    "\n",
    "1. Get input from user\n",
    "2. Test if each digit is divisible by 3, increment counter\n",
    "3. Print out total\n",
    "\n",
    "Now how about the Programming Plan (i.e., what you will do). Here's how I would approach it.\n",
    "\n",
    "1. Get input (easy!)\n",
    "2. Print output (easy!)\n",
    "3. Test (to make sure it was easy)\n",
    "4. Figure out how to test if a digit is divisible by 3 (not too hard)\n",
    "1. Test\n",
    "5. Figure out how to get each digit of the input (might be tricky)\n",
    "1. Test\n",
    "6. Count each digit of input\n",
    "1. Test\n",
    "7. Combine 4, 5, and 6.\n",
    "1. Test"
   ]
  },
  {
   "cell_type": "code",
   "execution_count": 3,
   "metadata": {},
   "outputs": [
    {
     "name": "stdout",
     "output_type": "stream",
     "text": [
      "Please type an integer: 32426\n",
      "Your number has 0 digits divisible by 3.\n"
     ]
    }
   ],
   "source": [
    "user_input = input(\"Please type an integer: \")\n",
    "count = 0\n",
    "\n",
    "print(\"Your number has\", count, \"digits divisible by 3.\")"
   ]
  },
  {
   "cell_type": "markdown",
   "metadata": {},
   "source": [
    "That was the first 3 steps!\n",
    "\n",
    "### Step 4: Figure out how to test if a digit is divisible by 3"
   ]
  },
  {
   "cell_type": "code",
   "execution_count": 4,
   "metadata": {},
   "outputs": [
    {
     "name": "stdout",
     "output_type": "stream",
     "text": [
      "9 0\n",
      "4 1\n"
     ]
    }
   ],
   "source": [
    "test1 = 9\n",
    "test2 = 4\n",
    "\n",
    "print(test1,test1 % 3)\n",
    "print(test2, test2 % 3)"
   ]
  },
  {
   "cell_type": "markdown",
   "metadata": {},
   "source": [
    "### Step 6: Get each digit\n",
    "\n",
    "Brainstorm ..."
   ]
  },
  {
   "cell_type": "code",
   "execution_count": 6,
   "metadata": {},
   "outputs": [
    {
     "name": "stdout",
     "output_type": "stream",
     "text": [
      "0\n",
      "5\n"
     ]
    }
   ],
   "source": [
    "test1 = 1234567890\n",
    "print(test1 % 10)\n",
    "\n",
    "test2 = 23425\n",
    "print(test2 % 10)"
   ]
  },
  {
   "cell_type": "markdown",
   "metadata": {},
   "source": [
    "How do we put this into a loop?"
   ]
  },
  {
   "cell_type": "code",
   "execution_count": 8,
   "metadata": {},
   "outputs": [
    {
     "name": "stdout",
     "output_type": "stream",
     "text": [
      "Your number has 333 digits divisible by 3.\n"
     ]
    }
   ],
   "source": [
    "user_input = 1234567890\n",
    "count = 0\n",
    "while user_input > 0:\n",
    "    digit = user_input % 10 # get ones digit\n",
    "    user_input /= 10        # remove ones digit\n",
    "    count += 1\n",
    "\n",
    "print(\"Your number has\", count, \"digits divisible by 3.\")"
   ]
  },
  {
   "cell_type": "markdown",
   "metadata": {},
   "source": [
    "Looks like that despite our best efforts, we still have a bug. So now we need to debug it."
   ]
  },
  {
   "cell_type": "code",
   "execution_count": 9,
   "metadata": {},
   "outputs": [
    {
     "name": "stdout",
     "output_type": "stream",
     "text": [
      "123456789.0 1\n",
      "12345678.9 2\n",
      "1234567.8900000001 3\n",
      "123456.78900000002 4\n",
      "12345.678900000003 5\n",
      "1234.5678900000003 6\n",
      "123.45678900000003 7\n",
      "12.345678900000003 8\n",
      "1.2345678900000003 9\n",
      "0.12345678900000004 10\n",
      "0.012345678900000004 11\n",
      "0.0012345678900000003 12\n",
      "0.00012345678900000002 13\n",
      "1.2345678900000002e-05 14\n",
      "1.2345678900000002e-06 15\n",
      "1.2345678900000002e-07 16\n",
      "1.2345678900000002e-08 17\n",
      "1.2345678900000001e-09 18\n",
      "1.23456789e-10 19\n",
      "1.2345678900000001e-11 20\n",
      "1.2345678900000002e-12 21\n",
      "1.2345678900000003e-13 22\n",
      "1.2345678900000002e-14 23\n",
      "1.2345678900000002e-15 24\n",
      "1.2345678900000003e-16 25\n",
      "1.2345678900000003e-17 26\n",
      "1.2345678900000003e-18 27\n",
      "1.2345678900000004e-19 28\n",
      "1.2345678900000004e-20 29\n",
      "1.2345678900000004e-21 30\n",
      "1.2345678900000005e-22 31\n",
      "1.2345678900000005e-23 32\n",
      "1.2345678900000004e-24 33\n",
      "1.2345678900000003e-25 34\n",
      "1.2345678900000004e-26 35\n",
      "1.2345678900000004e-27 36\n",
      "1.2345678900000003e-28 37\n",
      "1.2345678900000004e-29 38\n",
      "1.2345678900000003e-30 39\n",
      "1.2345678900000002e-31 40\n",
      "1.2345678900000002e-32 41\n",
      "1.2345678900000003e-33 42\n",
      "1.2345678900000003e-34 43\n",
      "1.2345678900000004e-35 44\n",
      "1.2345678900000004e-36 45\n",
      "1.2345678900000005e-37 46\n",
      "1.2345678900000005e-38 47\n",
      "1.2345678900000005e-39 48\n",
      "1.2345678900000005e-40 49\n",
      "1.2345678900000006e-41 50\n",
      "1.2345678900000007e-42 51\n",
      "1.2345678900000007e-43 52\n",
      "1.2345678900000008e-44 53\n",
      "1.2345678900000008e-45 54\n",
      "1.2345678900000007e-46 55\n",
      "1.2345678900000006e-47 56\n",
      "1.2345678900000007e-48 57\n",
      "1.2345678900000007e-49 58\n",
      "1.2345678900000007e-50 59\n",
      "1.2345678900000007e-51 60\n",
      "1.2345678900000006e-52 61\n",
      "1.2345678900000005e-53 62\n",
      "1.2345678900000005e-54 63\n",
      "1.2345678900000004e-55 64\n",
      "1.2345678900000004e-56 65\n",
      "1.2345678900000004e-57 66\n",
      "1.2345678900000005e-58 67\n",
      "1.2345678900000005e-59 68\n",
      "1.2345678900000004e-60 69\n",
      "1.2345678900000005e-61 70\n",
      "1.2345678900000005e-62 71\n",
      "1.2345678900000005e-63 72\n",
      "1.2345678900000004e-64 73\n",
      "1.2345678900000005e-65 74\n",
      "1.2345678900000004e-66 75\n",
      "1.2345678900000004e-67 76\n",
      "1.2345678900000003e-68 77\n",
      "1.2345678900000004e-69 78\n",
      "1.2345678900000004e-70 79\n",
      "1.2345678900000005e-71 80\n",
      "1.2345678900000006e-72 81\n",
      "1.2345678900000005e-73 82\n",
      "1.2345678900000006e-74 83\n",
      "1.2345678900000005e-75 84\n",
      "1.2345678900000005e-76 85\n",
      "1.2345678900000005e-77 86\n",
      "1.2345678900000005e-78 87\n",
      "1.2345678900000005e-79 88\n",
      "1.2345678900000005e-80 89\n",
      "1.2345678900000004e-81 90\n",
      "1.2345678900000004e-82 91\n",
      "1.2345678900000005e-83 92\n",
      "1.2345678900000006e-84 93\n",
      "1.2345678900000006e-85 94\n",
      "1.2345678900000006e-86 95\n",
      "1.2345678900000006e-87 96\n",
      "1.2345678900000005e-88 97\n",
      "1.2345678900000005e-89 98\n",
      "1.2345678900000005e-90 99\n",
      "1.2345678900000004e-91 100\n",
      "1.2345678900000003e-92 101\n",
      "1.2345678900000004e-93 102\n",
      "1.2345678900000004e-94 103\n",
      "1.2345678900000004e-95 104\n",
      "1.2345678900000004e-96 105\n",
      "1.2345678900000005e-97 106\n",
      "1.2345678900000005e-98 107\n",
      "1.2345678900000006e-99 108\n",
      "1.2345678900000006e-100 109\n",
      "1.2345678900000006e-101 110\n",
      "1.2345678900000006e-102 111\n",
      "1.2345678900000005e-103 112\n",
      "1.2345678900000005e-104 113\n",
      "1.2345678900000004e-105 114\n",
      "1.2345678900000004e-106 115\n",
      "1.2345678900000005e-107 116\n",
      "1.2345678900000005e-108 117\n",
      "1.2345678900000006e-109 118\n",
      "1.2345678900000005e-110 119\n",
      "1.2345678900000006e-111 120\n",
      "1.2345678900000005e-112 121\n",
      "1.2345678900000005e-113 122\n",
      "1.2345678900000004e-114 123\n",
      "1.2345678900000005e-115 124\n",
      "1.2345678900000005e-116 125\n",
      "1.2345678900000005e-117 126\n",
      "1.2345678900000005e-118 127\n",
      "1.2345678900000005e-119 128\n",
      "1.2345678900000005e-120 129\n",
      "1.2345678900000005e-121 130\n",
      "1.2345678900000005e-122 131\n",
      "1.2345678900000006e-123 132\n",
      "1.2345678900000005e-124 133\n",
      "1.2345678900000005e-125 134\n",
      "1.2345678900000005e-126 135\n",
      "1.2345678900000004e-127 136\n",
      "1.2345678900000003e-128 137\n",
      "1.2345678900000004e-129 138\n",
      "1.2345678900000003e-130 139\n",
      "1.2345678900000003e-131 140\n",
      "1.2345678900000003e-132 141\n",
      "1.2345678900000003e-133 142\n",
      "1.2345678900000004e-134 143\n",
      "1.2345678900000004e-135 144\n",
      "1.2345678900000005e-136 145\n",
      "1.2345678900000004e-137 146\n",
      "1.2345678900000005e-138 147\n",
      "1.2345678900000004e-139 148\n",
      "1.2345678900000005e-140 149\n",
      "1.2345678900000004e-141 150\n",
      "1.2345678900000005e-142 151\n",
      "1.2345678900000005e-143 152\n",
      "1.2345678900000005e-144 153\n",
      "1.2345678900000005e-145 154\n",
      "1.2345678900000006e-146 155\n",
      "1.2345678900000006e-147 156\n",
      "1.2345678900000005e-148 157\n",
      "1.2345678900000005e-149 158\n",
      "1.2345678900000006e-150 159\n",
      "1.2345678900000005e-151 160\n",
      "1.2345678900000005e-152 161\n",
      "1.2345678900000005e-153 162\n",
      "1.2345678900000006e-154 163\n",
      "1.2345678900000007e-155 164\n",
      "1.2345678900000008e-156 165\n",
      "1.2345678900000008e-157 166\n",
      "1.2345678900000008e-158 167\n",
      "1.2345678900000008e-159 168\n",
      "1.2345678900000008e-160 169\n",
      "1.2345678900000008e-161 170\n",
      "1.234567890000001e-162 171\n",
      "1.2345678900000009e-163 172\n",
      "1.2345678900000009e-164 173\n",
      "1.234567890000001e-165 174\n",
      "1.234567890000001e-166 175\n",
      "1.234567890000001e-167 176\n",
      "1.2345678900000008e-168 177\n",
      "1.2345678900000008e-169 178\n",
      "1.2345678900000008e-170 179\n",
      "1.2345678900000008e-171 180\n",
      "1.2345678900000008e-172 181\n",
      "1.2345678900000007e-173 182\n",
      "1.2345678900000008e-174 183\n",
      "1.2345678900000007e-175 184\n",
      "1.2345678900000007e-176 185\n",
      "1.2345678900000008e-177 186\n",
      "1.2345678900000007e-178 187\n",
      "1.2345678900000007e-179 188\n",
      "1.2345678900000007e-180 189\n",
      "1.2345678900000007e-181 190\n",
      "1.2345678900000008e-182 191\n",
      "1.2345678900000008e-183 192\n",
      "1.2345678900000008e-184 193\n",
      "1.2345678900000008e-185 194\n",
      "1.2345678900000009e-186 195\n",
      "1.2345678900000008e-187 196\n",
      "1.2345678900000008e-188 197\n",
      "1.2345678900000009e-189 198\n",
      "1.234567890000001e-190 199\n",
      "1.2345678900000009e-191 200\n",
      "1.234567890000001e-192 201\n",
      "1.234567890000001e-193 202\n",
      "1.234567890000001e-194 203\n",
      "1.2345678900000011e-195 204\n",
      "1.234567890000001e-196 205\n",
      "1.2345678900000011e-197 206\n",
      "1.2345678900000011e-198 207\n",
      "1.2345678900000012e-199 208\n",
      "1.2345678900000012e-200 209\n",
      "1.2345678900000012e-201 210\n",
      "1.2345678900000013e-202 211\n",
      "1.2345678900000013e-203 212\n",
      "1.2345678900000013e-204 213\n",
      "1.2345678900000013e-205 214\n",
      "1.2345678900000014e-206 215\n",
      "1.2345678900000014e-207 216\n",
      "1.2345678900000015e-208 217\n",
      "1.2345678900000014e-209 218\n",
      "1.2345678900000015e-210 219\n",
      "1.2345678900000015e-211 220\n",
      "1.2345678900000014e-212 221\n",
      "1.2345678900000014e-213 222\n",
      "1.2345678900000014e-214 223\n",
      "1.2345678900000014e-215 224\n",
      "1.2345678900000013e-216 225\n",
      "1.2345678900000013e-217 226\n",
      "1.2345678900000012e-218 227\n",
      "1.2345678900000011e-219 228\n",
      "1.2345678900000011e-220 229\n",
      "1.234567890000001e-221 230\n",
      "1.234567890000001e-222 231\n",
      "1.234567890000001e-223 232\n",
      "1.234567890000001e-224 233\n",
      "1.234567890000001e-225 234\n",
      "1.234567890000001e-226 235\n",
      "1.234567890000001e-227 236\n",
      "1.2345678900000009e-228 237\n",
      "1.2345678900000009e-229 238\n",
      "1.234567890000001e-230 239\n",
      "1.234567890000001e-231 240\n",
      "1.234567890000001e-232 241\n",
      "1.2345678900000011e-233 242\n",
      "1.2345678900000011e-234 243\n",
      "1.234567890000001e-235 244\n",
      "1.234567890000001e-236 245\n",
      "1.234567890000001e-237 246\n",
      "1.2345678900000009e-238 247\n",
      "1.234567890000001e-239 248\n",
      "1.2345678900000008e-240 249\n",
      "1.2345678900000008e-241 250\n",
      "1.2345678900000008e-242 251\n",
      "1.2345678900000008e-243 252\n",
      "1.2345678900000009e-244 253\n",
      "1.2345678900000009e-245 254\n",
      "1.234567890000001e-246 255\n",
      "1.234567890000001e-247 256\n",
      "1.234567890000001e-248 257\n",
      "1.2345678900000008e-249 258\n",
      "1.2345678900000008e-250 259\n",
      "1.2345678900000007e-251 260\n",
      "1.2345678900000008e-252 261\n",
      "1.2345678900000009e-253 262\n",
      "1.2345678900000009e-254 263\n",
      "1.2345678900000009e-255 264\n",
      "1.2345678900000008e-256 265\n",
      "1.2345678900000008e-257 266\n",
      "1.2345678900000009e-258 267\n",
      "1.2345678900000008e-259 268\n",
      "1.2345678900000008e-260 269\n",
      "1.2345678900000008e-261 270\n",
      "1.2345678900000007e-262 271\n",
      "1.2345678900000007e-263 272\n",
      "1.2345678900000006e-264 273\n",
      "1.2345678900000007e-265 274\n",
      "1.2345678900000007e-266 275\n",
      "1.2345678900000007e-267 276\n",
      "1.2345678900000007e-268 277\n",
      "1.2345678900000007e-269 278\n",
      "1.2345678900000006e-270 279\n",
      "1.2345678900000006e-271 280\n",
      "1.2345678900000007e-272 281\n",
      "1.2345678900000007e-273 282\n",
      "1.2345678900000007e-274 283\n",
      "1.2345678900000008e-275 284\n",
      "1.2345678900000008e-276 285\n",
      "1.2345678900000008e-277 286\n",
      "1.2345678900000008e-278 287\n",
      "1.2345678900000007e-279 288\n",
      "1.2345678900000008e-280 289\n",
      "1.2345678900000008e-281 290\n",
      "1.2345678900000008e-282 291\n",
      "1.234567890000001e-283 292\n",
      "1.234567890000001e-284 293\n",
      "1.234567890000001e-285 294\n",
      "1.234567890000001e-286 295\n",
      "1.234567890000001e-287 296\n",
      "1.234567890000001e-288 297\n",
      "1.234567890000001e-289 298\n",
      "1.2345678900000011e-290 299\n",
      "1.2345678900000012e-291 300\n",
      "1.2345678900000011e-292 301\n",
      "1.2345678900000011e-293 302\n",
      "1.2345678900000012e-294 303\n",
      "1.2345678900000012e-295 304\n",
      "1.2345678900000012e-296 305\n",
      "1.2345678900000013e-297 306\n",
      "1.2345678900000013e-298 307\n",
      "1.2345678900000014e-299 308\n",
      "1.2345678900000014e-300 309\n",
      "1.2345678900000013e-301 310\n",
      "1.2345678900000013e-302 311\n",
      "1.2345678900000013e-303 312\n",
      "1.2345678900000014e-304 313\n",
      "1.2345678900000014e-305 314\n",
      "1.2345678900000015e-306 315\n",
      "1.2345678900000014e-307 316\n",
      "1.2345678900000015e-308 317\n",
      "1.23456789e-309 318\n",
      "1.23456789e-310 319\n",
      "1.2345678899997e-311 320\n",
      "1.23456789e-312 321\n",
      "1.23456789e-313 322\n",
      "1.23456789e-314 323\n",
      "1.23456789e-315 324\n",
      "1.2345679e-316 325\n",
      "1.234568e-317 326\n",
      "1.234566e-318 327\n",
      "1.23457e-319 328\n",
      "1.2347e-320 329\n",
      "1.235e-321 330\n",
      "1.24e-322 331\n",
      "1e-323 332\n",
      "0.0 333\n",
      "Your number has 333 digits divisible by 3.\n"
     ]
    }
   ],
   "source": [
    "user_input = 1234567890\n",
    "count = 0\n",
    "while user_input > 0:\n",
    "    digit = user_input % 10  # get ones digit\n",
    "    user_input /= 10         # remove ones digit\n",
    "    count += 1\n",
    "    print(user_input, count)\n",
    "\n",
    "print(\"Your number has\", count, \"digits divisible by 3.\")"
   ]
  },
  {
   "cell_type": "code",
   "execution_count": 10,
   "metadata": {},
   "outputs": [
    {
     "name": "stdout",
     "output_type": "stream",
     "text": [
      "123456789 1\n",
      "12345678 2\n",
      "1234567 3\n",
      "123456 4\n",
      "12345 5\n",
      "1234 6\n",
      "123 7\n",
      "12 8\n",
      "1 9\n",
      "0 10\n",
      "Your number has 10 digits divisible by 3.\n"
     ]
    }
   ],
   "source": [
    "user_input = 1234567890\n",
    "count = 0\n",
    "while user_input > 0:\n",
    "    digit = user_input % 10  # get ones digit\n",
    "    user_input //= 10        # remove ones digit\n",
    "    count += 1\n",
    "    print(user_input, count)\n",
    "\n",
    "print(\"Your number has\", count, \"digits divisible by 3.\")"
   ]
  },
  {
   "cell_type": "code",
   "execution_count": 11,
   "metadata": {},
   "outputs": [
    {
     "name": "stdout",
     "output_type": "stream",
     "text": [
      "Your number has 10 digits divisible by 3.\n"
     ]
    }
   ],
   "source": [
    "user_input = 1234567890\n",
    "count = 0\n",
    "while user_input > 0:\n",
    "    digit = user_input % 10  # get ones digit\n",
    "    user_input //= 10        # remove ones digit\n",
    "    count += 1\n",
    "    #print(user_input, count)\n",
    "\n",
    "print(\"Your number has\", count, \"digits divisible by 3.\")"
   ]
  },
  {
   "cell_type": "markdown",
   "metadata": {},
   "source": [
    "### Step 10: Putting it together\n"
   ]
  },
  {
   "cell_type": "code",
   "execution_count": 12,
   "metadata": {},
   "outputs": [
    {
     "name": "stdout",
     "output_type": "stream",
     "text": [
      "Please type an integer: 1234567890\n"
     ]
    },
    {
     "ename": "TypeError",
     "evalue": "'>' not supported between instances of 'str' and 'int'",
     "output_type": "error",
     "traceback": [
      "\u001b[0;31m---------------------------------------------------------------------------\u001b[0m",
      "\u001b[0;31mTypeError\u001b[0m                                 Traceback (most recent call last)",
      "\u001b[0;32m<ipython-input-12-f35cdc8b8010>\u001b[0m in \u001b[0;36m<module>\u001b[0;34m\u001b[0m\n\u001b[1;32m      2\u001b[0m \u001b[0mcount\u001b[0m \u001b[0;34m=\u001b[0m \u001b[0;36m0\u001b[0m\u001b[0;34m\u001b[0m\u001b[0;34m\u001b[0m\u001b[0m\n\u001b[1;32m      3\u001b[0m \u001b[0;34m\u001b[0m\u001b[0m\n\u001b[0;32m----> 4\u001b[0;31m \u001b[0;32mwhile\u001b[0m \u001b[0muser_input\u001b[0m \u001b[0;34m>\u001b[0m \u001b[0;36m0\u001b[0m\u001b[0;34m:\u001b[0m\u001b[0;34m\u001b[0m\u001b[0;34m\u001b[0m\u001b[0m\n\u001b[0m\u001b[1;32m      5\u001b[0m     \u001b[0mdigit\u001b[0m \u001b[0;34m=\u001b[0m \u001b[0muser_input\u001b[0m \u001b[0;34m%\u001b[0m \u001b[0;36m10\u001b[0m\u001b[0;34m\u001b[0m\u001b[0;34m\u001b[0m\u001b[0m\n\u001b[1;32m      6\u001b[0m     \u001b[0muser_input\u001b[0m \u001b[0;34m//=\u001b[0m \u001b[0;36m10\u001b[0m\u001b[0;34m\u001b[0m\u001b[0;34m\u001b[0m\u001b[0m\n",
      "\u001b[0;31mTypeError\u001b[0m: '>' not supported between instances of 'str' and 'int'"
     ]
    }
   ],
   "source": [
    "user_input = input(\"Please type an integer: \")\n",
    "count = 0\n",
    "\n",
    "while user_input > 0:\n",
    "    digit = user_input % 10  # get ones digit\n",
    "    user_input //= 10        # remove ones digit\n",
    "    count += 1\n",
    "    #print(user_input, count)\n",
    "    \n",
    "print(\"Your number has\", count, \"digits divisible by 3.\")"
   ]
  },
  {
   "cell_type": "code",
   "execution_count": 13,
   "metadata": {},
   "outputs": [
    {
     "name": "stdout",
     "output_type": "stream",
     "text": [
      "Please type an integer: 1234567890\n",
      "Your number has 10 digits divisible by 3.\n"
     ]
    }
   ],
   "source": [
    "user_input = int(input(\"Please type an integer: \"))\n",
    "count = 0\n",
    "\n",
    "while user_input > 0:\n",
    "    digit = user_input % 10  # get ones digit\n",
    "    user_input //= 10        # remove ones digit\n",
    "    count += 1\n",
    "    #print(user_input, count)\n",
    "    \n",
    "print(\"Your number has\", count, \"digits divisible by 3.\")"
   ]
  },
  {
   "cell_type": "markdown",
   "metadata": {},
   "source": [
    "Now add the test."
   ]
  },
  {
   "cell_type": "code",
   "execution_count": 14,
   "metadata": {},
   "outputs": [
    {
     "name": "stdout",
     "output_type": "stream",
     "text": [
      "Please type an integer: 1234567890\n",
      "Your number has 4 digits divisible by 3.\n"
     ]
    }
   ],
   "source": [
    "user_input = int(input(\"Please type an integer: \"))\n",
    "count = 0\n",
    "\n",
    "while user_input > 0:\n",
    "    digit = user_input % 10  # get ones digit\n",
    "    if not (digit % 3):\n",
    "        count += 1\n",
    "        \n",
    "    user_input //= 10        # remove ones digit\n",
    "    #print(user_input, count)\n",
    "    \n",
    "print(\"Your number has\", count, \"digits divisible by 3.\")"
   ]
  },
  {
   "cell_type": "markdown",
   "metadata": {},
   "source": [
    "Ummm ... is 4 right?\n",
    "\n",
    "Do we know what it is counting?"
   ]
  },
  {
   "cell_type": "code",
   "execution_count": 15,
   "metadata": {},
   "outputs": [
    {
     "name": "stdout",
     "output_type": "stream",
     "text": [
      "Please type an integer: 1234567890\n",
      "0\n",
      "9\n",
      "6\n",
      "3\n",
      "Your number has 4 digits divisible by 3.\n"
     ]
    }
   ],
   "source": [
    "user_input = int(input(\"Please type an integer: \"))\n",
    "count = 0\n",
    "\n",
    "while user_input > 0:\n",
    "    digit = user_input % 10  # get ones digit\n",
    "    if not (digit % 3):\n",
    "        print(digit)\n",
    "        count += 1\n",
    "        \n",
    "    user_input //= 10        # remove ones digit\n",
    "    #print(user_input, count)\n",
    "    \n",
    "print(\"Your number has\", count, \"digits divisible by 3.\")"
   ]
  },
  {
   "cell_type": "markdown",
   "metadata": {},
   "source": [
    "Is this correct?"
   ]
  },
  {
   "cell_type": "code",
   "execution_count": 16,
   "metadata": {
    "scrolled": false
   },
   "outputs": [
    {
     "name": "stdout",
     "output_type": "stream",
     "text": [
      "Please type an integer: 0\n",
      "Your number has 0 digits divisible by 3.\n"
     ]
    }
   ],
   "source": [
    "user_input = int(input(\"Please type an integer: \"))\n",
    "count = 0\n",
    "\n",
    "while user_input > 0:\n",
    "    digit = user_input % 10  # get ones digit\n",
    "    if not (digit % 3):\n",
    "        print(digit)\n",
    "        count += 1\n",
    "        \n",
    "    user_input //= 10        # remove ones digit\n",
    "    #print(user_input, count)\n",
    "    \n",
    "print(\"Your number has\", count, \"digits divisible by 3.\")"
   ]
  },
  {
   "cell_type": "markdown",
   "metadata": {},
   "source": [
    "OK, is this correct?\n",
    "\n",
    "Since $0 = 3 \\times 0$ then it should count. But then we have a problem - we have a special case where our solution does not work. What can we do?\n",
    "\n",
    "1. Come up with a new algorithm. If we think that there is only one special case, then it might not be worth it.\n",
    "1. Come up with a work-around. \n",
    "\n",
    "Are there other special cases?"
   ]
  },
  {
   "cell_type": "code",
   "execution_count": 20,
   "metadata": {},
   "outputs": [
    {
     "name": "stdout",
     "output_type": "stream",
     "text": [
      "Please type an integer: 12098120\n",
      "Your number has 3 digits divisible by 3.\n"
     ]
    }
   ],
   "source": [
    "user_input = int(input(\"Please type an integer: \"))\n",
    "count = 0\n",
    "\n",
    "if user_input == 0:\n",
    "    count = 1\n",
    "else:\n",
    "    while user_input > 0:\n",
    "        digit = user_input % 10  # get ones digit\n",
    "        if not (digit % 3):\n",
    "            count += 1\n",
    "        \n",
    "        user_input //= 10        # remove ones digit\n",
    "        #print(user_input, count)\n",
    "    \n",
    "print(\"Your number has\", count, \"digits divisible by 3.\")"
   ]
  },
  {
   "cell_type": "markdown",
   "metadata": {},
   "source": [
    "## Improving Your Debugging\n",
    "\n",
    "There is really only one key to debugging: you do not understand what the code is doing. You think you do but you don't -- otherwise you wouldn't have a bug. So the only real thing you have to do is figure out what it is you are misunderstanding. \n",
    "\n",
    "That's not always easy but here are some strategies.\n",
    "\n",
    "**Run the Code \"By Hand\"**\n",
    "\n",
    "Pretend that you are the computer and execute the code, keeping track of variable values as you go. You should develop the skill to run it in your head (or on paper). This is often a first step. If you get good at it, you can sometimes just look at code, \"simulate it\" in your head, and realize what the bug is. But often this is not enough."
   ]
  },
  {
   "cell_type": "markdown",
   "metadata": {},
   "source": [
    "**Add `print` Statements**\n",
    "\n",
    "As we saw above, you can often figure out what you are misunderstanding by giving yourself some evidence. If you can see the values of the variables, you can then compare them against what you think they should be (see **Run the Code \"By Hand\"**)."
   ]
  },
  {
   "cell_type": "markdown",
   "metadata": {},
   "source": [
    "**Use a Debugger**\n",
    "\n",
    "If you are using an IDE (like Wing 101) you will see that there is an integrated debugger which allows you to do all sorts of things:\n",
    "- look at the values of the variables while running the code\n",
    "- step through the code instruction by instruction\n",
    "\n",
    "For the code you write in this course, using a debugger is probably a bit of an overkill - especially as it will have a learning curve. But it is there if you want to use it."
   ]
  },
  {
   "cell_type": "markdown",
   "metadata": {},
   "source": [
    "<div class=\"alert alert-block alert-info\">\n",
    "<big><b>This Lecture</b></big>\n",
    "    \n",
    "\n",
    "<ul>  \n",
    " <li>Unfortunately, if you are going to program, you are going to spend a lot of time finding your own mistakes.</li>  \n",
    " <li>Write small pieces of code and test</li>\n",
    " <li>Work on simulating the code in your head - run the code \"by hand\"</li>\n",
    " <li>Well located `print` statements can really help understanding the code and finding the bug</li>\n",
    "    <li>If you need big guns, looking into learning how to use  debugger might be a good idea</li>\n",
    "</ul>  \n",
    "\n",
    "</div>\n"
   ]
  },
  {
   "cell_type": "code",
   "execution_count": null,
   "metadata": {},
   "outputs": [],
   "source": []
  }
 ],
 "metadata": {
  "kernelspec": {
   "display_name": "Python 3",
   "language": "python",
   "name": "python3"
  },
  "language_info": {
   "codemirror_mode": {
    "name": "ipython",
    "version": 3
   },
   "file_extension": ".py",
   "mimetype": "text/x-python",
   "name": "python",
   "nbconvert_exporter": "python",
   "pygments_lexer": "ipython3",
   "version": "3.7.2"
  }
 },
 "nbformat": 4,
 "nbformat_minor": 1
}
