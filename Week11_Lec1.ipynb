{
 "cells": [
  {
   "cell_type": "markdown",
   "metadata": {},
   "source": [
    "# APS106 Lecture Notes - Week 11, Lecture 1\n",
    "# More Object-Oriented Programming\n",
    "\n",
    "## Encapsulation\n",
    "\n",
    "The core of object-oriented programming (OOP) is the organization of the program by encapsulating related data and functions together in an object.\n",
    "\n",
    "To \"encapsulate\" something means to enclose it. In programming, encapsulation means keeping data and the code that uses it in one place and hiding the details of exactly how they work together. For example, each instance of class `file` keeps track of what file on the disk it is reading or writing and where it currently is in that file. The class hides the details of how this is done so that programmers can use it without needing to know the details of how it was implemented.\n",
    "\n",
    "To demonstrate this we are first going to create a class representation of a rectangle. That is we will provide the bottom-left corner (using the `Point` class) along with the width and height. \n",
    "\n",
    "(It is interesting to compare this class to `Square` class we defined last week.)\n"
   ]
  },
  {
   "cell_type": "code",
   "execution_count": 1,
   "metadata": {},
   "outputs": [],
   "source": [
    "class Point:\n",
    "    \"\"\" A 2D Point, at coordinates x, y \"\"\"\n",
    "\n",
    "    def __init__(self, x=0, y=0):\n",
    "        \"\"\" \n",
    "        (self, num, num) -> NoneType\n",
    "        Create a new point at x, y\n",
    "        \"\"\"\n",
    "        self.x = x\n",
    "        self.y = y\n",
    "        \n"
   ]
  },
  {
   "cell_type": "code",
   "execution_count": 5,
   "metadata": {},
   "outputs": [
    {
     "name": "stdout",
     "output_type": "stream",
     "text": [
      "10\n",
      "5\n",
      "100\n",
      "50\n"
     ]
    }
   ],
   "source": [
    "class Rectangle:\n",
    "    ''' Represents and manipulates rectangles '''\n",
    "    \n",
    "    def __init__(self, x1 = 0, y1 = 0, x2 = 0, y2 = 0):\n",
    "        \"\"\" \n",
    "        (self, Point, num, num) -> NoneType\n",
    "        Create a rectangle with bottom left corner at corner,\n",
    "        width of w, and height of h\n",
    "        \"\"\"\n",
    "        self.bottom_left_corner = Point(x1,y1)\n",
    "        self.width = x2 - x1\n",
    "        self.height = y2 - y1\n",
    "       \n",
    "        \n",
    "r = Rectangle(10, 5, 110, 55)\n",
    "print(r.bottom_left_corner.x)\n",
    "print(r.bottom_left_corner.y)\n",
    "print(r.width)\n",
    "print(r.height)"
   ]
  },
  {
   "cell_type": "markdown",
   "metadata": {},
   "source": [
    "Just like before we can create additional methods to modify the state of the object. For example, we can change the location or size of the rectangle."
   ]
  },
  {
   "cell_type": "code",
   "execution_count": 7,
   "metadata": {},
   "outputs": [
    {
     "name": "stdout",
     "output_type": "stream",
     "text": [
      "(10,5)\n",
      "100\n",
      "50\n",
      "(0,105)\n",
      "5000\n",
      "20000\n"
     ]
    }
   ],
   "source": [
    "class Rectangle:\n",
    "    ''' Represents and manipulates rectangles '''\n",
    "    \n",
    "    def __init__(self, x1 = 0, y1 = 0, x2 = 0, y2 = 0):\n",
    "        \"\"\" \n",
    "        (self, Point, num, num) -> NoneType\n",
    "        Create a rectangle with bottom left corner at corner,\n",
    "        width of w, and height of h\n",
    "        \"\"\"\n",
    "        self.bottom_left_corner = Point(x1,y1)\n",
    "        self.width = x2 - x1\n",
    "        self.height = y2 - y1\n",
    "\n",
    "    def grow(self, dw, dh):\n",
    "        '''\n",
    "        (self, num, num) -> NoneType\n",
    "        Expands the rectangle by multiplying width by dw and height by dh\n",
    "        '''\n",
    "        self.width *= dw\n",
    "        self.height *= dh\n",
    "    \n",
    "    def move(self, dx, dy):\n",
    "        '''\n",
    "        (self, num, num) -> NoneType\n",
    "        Moves the rectangle dx units right and dy units up\n",
    "        '''\n",
    "        self.bottom_left_corner.x += dx\n",
    "        self.bottom_left_corner.y += dy\n",
    "\n",
    "    def area(self):\n",
    "        '''\n",
    "        (self) -> num\n",
    "        Returns the area of the rectangle\n",
    "        '''\n",
    "        return self.width * self.height\n",
    "        \n",
    "        \n",
    "r = Rectangle(10,5, 110, 55)\n",
    "print(r.bottom_left_corner)\n",
    "print(r.width)\n",
    "print(r.height)\n",
    "\n",
    "r.move(-10, 100)\n",
    "print(r.bottom_left_corner)\n",
    "\n",
    "print(r.area())\n",
    "r.grow(2,2)\n",
    "print(r.area())\n"
   ]
  },
  {
   "cell_type": "markdown",
   "metadata": {},
   "source": [
    "## So What About Encapsulation?\n",
    "\n",
    "Recall the ``Square`` class we created last week. It also used the ``Point`` class but it used two instances: the lower left corner and the upper right corner. We could also use this approach to represent a ``Rectangle``. "
   ]
  },
  {
   "cell_type": "code",
   "execution_count": null,
   "metadata": {},
   "outputs": [],
   "source": [
    "class Rectangle:\n",
    "    '''A rectangle represent by 2 Points: lower left and upper right'''\n",
    "    \n",
    "    def __init__(self, x1 = 0, y1 = 0, x2 = 0, y2 = 0):\n",
    "        '''\n",
    "        (self,number,number,number,number) -> None\n",
    "        Initializes a point with (x1,y1) as lower left corner and \n",
    "        (x2,y2) as upper-right corner. All default to zeros.\n",
    "        '''\n",
    "        self.lower_left = Point(x1,y1)\n",
    "        self.upper_right = Point(x2,y2)\n",
    " "
   ]
  },
  {
   "cell_type": "markdown",
   "metadata": {},
   "source": [
    "We could then implement the same methods as before - but now using the different internal representation."
   ]
  },
  {
   "cell_type": "code",
   "execution_count": 8,
   "metadata": {},
   "outputs": [
    {
     "name": "stdout",
     "output_type": "stream",
     "text": [
      "(10,5)\n",
      "(110,55)\n",
      "(0,105)\n",
      "(100,155)\n",
      "5000\n",
      "20000\n"
     ]
    }
   ],
   "source": [
    "class Rectangle:\n",
    "    '''A rectangle represent by 2 Points: lower left and upper right'''\n",
    "    \n",
    "    def __init__(self, x1 = 0, y1 = 0, x2 = 0, y2 = 0):\n",
    "        '''\n",
    "        (self,number,number,number,number) -> None\n",
    "        Initializes a point with (x1,y1) as lower left corner and \n",
    "        (x2,y2) as upper-right corner. All default to zeros.\n",
    "        '''\n",
    "        self.lower_left = Point(x1,y1)\n",
    "        self.upper_right = Point(x2,y2)\n",
    "    \n",
    "    def grow(self, dw, dh):\n",
    "        '''\n",
    "        (self, num, num) -> NoneType\n",
    "        Expands the rectangle by multiplying width by dw and height by dh\n",
    "        '''\n",
    "        new_width = (self.upper_right.x - self.lower_left.x) * dw\n",
    "        self.upper_right.x = self.lower_left.x + new_width\n",
    "\n",
    "        new_height = (self.upper_right.y - self.lower_left.y) * dh\n",
    "        self.upper_right.y = self.lower_left.y + new_height\n",
    "    \n",
    "    def move(self, dx, dy):\n",
    "        '''\n",
    "        (self, num, num) -> NoneType\n",
    "        Moves the rectangle dx units right and dy units up\n",
    "        '''\n",
    "        self.lower_left.x += dx\n",
    "        self.lower_left.y += dy\n",
    "\n",
    "        self.upper_right.x += dx\n",
    "        self.upper_right.y += dy\n",
    "\n",
    "    def area(self):\n",
    "        '''\n",
    "        (self) -> number\n",
    "        Returns the area of the square\n",
    "        '''\n",
    "        return ((self.upper_right.x - self.lower_left.x) *\n",
    "            (self.upper_right.y - self.lower_left.y))\n",
    "\n",
    "r = Rectangle(10,5 ,110,55)\n",
    "print(r.lower_left)\n",
    "print(r.upper_right)\n",
    "\n",
    "r.move(-10, 100)\n",
    "print(r.lower_left)\n",
    "print(r.upper_right)\n",
    "\n",
    "print(r.area())\n",
    "r.grow(2,2)\n",
    "print(r.area())"
   ]
  },
  {
   "cell_type": "markdown",
   "metadata": {},
   "source": [
    "As long as you know what the methods do, it doesn't matter what is inside! Think about this for a second: it means that you (or someone else) can write a class that does something and you can use it without knowing how the class is implemented. This is tremendously helpful in reducing the stuff you need to keep in your head to program."
   ]
  },
  {
   "cell_type": "markdown",
   "metadata": {},
   "source": [
    "## Converting an instance to a string\n",
    "\n",
    "It would be nice to not have to print each attribute one line at a time. It would be better if we could have a method so that every instance can produce a string representation of the object. To do that we need to format the attributes into a string. (In fact, I cheated above and already wrote such a method for the ``Point`` class.)\n",
    "\n",
    "This could be converted into a method, using the special `__str__` method as follows:\n"
   ]
  },
  {
   "cell_type": "code",
   "execution_count": 10,
   "metadata": {},
   "outputs": [
    {
     "name": "stdout",
     "output_type": "stream",
     "text": [
      "(4,3)\n",
      "(4,3) (23,99)\n",
      "(10,5)\n",
      "(0,105)\n",
      "5000\n",
      "20000\n",
      "[(0,105): 200X100\t20000]\n"
     ]
    }
   ],
   "source": [
    "class Point:\n",
    "    \"\"\" A 2D Point, at coordinates x, y \"\"\"\n",
    "\n",
    "    def __init__(self, x=0, y=0):\n",
    "        \"\"\" \n",
    "        (self, num, num) -> NoneType\n",
    "        Create a new point at x, y\n",
    "        \"\"\"\n",
    "        self.x = x\n",
    "        self.y = y\n",
    "        \n",
    "    def __str__(self):\n",
    "        \"\"\"\n",
    "        (self) -> str\n",
    "        Return the coordinates of the Point\n",
    "        \"\"\"\n",
    "        return \"(\" + str(self.x) + \",\" + str(self.y) + \")\"\n",
    "\n",
    "class Rectangle:\n",
    "    ''' Represents and manipulates rectangles '''\n",
    "    \n",
    "    def __init__(self, corner, w, h):\n",
    "        \"\"\" \n",
    "        (self, Point, num, num) -> NoneType\n",
    "        Create a rectangle with bottom left corner at corner,\n",
    "        width of w, and height of h\n",
    "        \"\"\"\n",
    "        self.bottom_left_corner = corner\n",
    "        self.width = w\n",
    "        self.height = h\n",
    "\n",
    "    def __str__(self):\n",
    "        '''\n",
    "        (self) -> str\n",
    "        Returns a string representation of self\n",
    "        '''\n",
    "        return \"[\" + str(self.bottom_left_corner) + \": \" + str(self.width) + \"X\" + \\\n",
    "        str(self.height) + \"\\t\" + str(self.area()) + \"]\"\n",
    "\n",
    "    def grow(self, dw, dh):\n",
    "        '''\n",
    "        (self, num, num) -> NoneType\n",
    "        Expands the rectangle by multiplying width by dw and height by dh\n",
    "        '''\n",
    "        self.width *= dw\n",
    "        self.height *= dh\n",
    "    \n",
    "    def move(self, dx, dy):\n",
    "        '''\n",
    "        (self, num, num) -> NoneType\n",
    "        Moves the rectangle dx units right and dy units up\n",
    "        '''\n",
    "        self.bottom_left_corner.x += dx\n",
    "        self.bottom_left_corner.y += dy\n",
    "\n",
    "    def area(self):\n",
    "        '''\n",
    "        (self) -> num\n",
    "        Returns the area of the rectangle\n",
    "        '''\n",
    "        return self.width * self.height\n",
    "        \n",
    "        \n",
    "p = Point(4,3)\n",
    "print(p)\n",
    "q = Point(23,99)\n",
    "print(p,q)\n",
    "\n",
    "r = Rectangle(Point(10,5), 100, 50)\n",
    "print(r.bottom_left_corner)\n",
    "\n",
    "r.move(-10, 100)\n",
    "print(r.bottom_left_corner)\n",
    "\n",
    "print(r.area())\n",
    "r.grow(2,2)\n",
    "print(r.area())\n",
    "print(r)\n",
    "\n"
   ]
  },
  {
   "cell_type": "markdown",
   "metadata": {},
   "source": [
    "## More OOP Examples\n",
    "\n",
    "### Creating a cash register type\n",
    "\n",
    "We're going to explore classes by writing a cash register class. In the example, we will use Canadian currency including the Loonie (\\\\$1) and the Toonie (\\\\$2). We'll pass in the number of loonies, toonies, fives, tens and twenty dollar bills.\n",
    "\n",
    "Consider this program:\n"
   ]
  },
  {
   "cell_type": "code",
   "execution_count": 2,
   "metadata": {},
   "outputs": [
    {
     "name": "stdout",
     "output_type": "stream",
     "text": [
      "4\n",
      "4\n"
     ]
    }
   ],
   "source": [
    "class Cash_Register:\n",
    "    \"\"\"A cash register.\"\"\"\n",
    "    \n",
    "    def __init__(self, loonies, toonies, fives, tens, twenties):\n",
    "        \"\"\" \n",
    "        (self, int, int, int, int, int) -> NoneType\n",
    "        Creates a Cash_Register with loonies, toonies, fives, tens, and twenties.\"\"\"\n",
    "\n",
    "        self.loonies = loonies\n",
    "        self.toonies = toonies\n",
    "        self.fives = fives\n",
    "        self.tens = tens\n",
    "        self.twenties = twenties\n",
    "\n",
    "register = Cash_Register(4, 2, 4, 5, 5)\n",
    "print(register.loonies)\n",
    "print(register.fives)"
   ]
  },
  {
   "cell_type": "markdown",
   "metadata": {},
   "source": [
    "What functionality do we want the `Cash_Register` to have?\n",
    "- print the contents\n",
    "- calculate the value of the contents\n",
    "- add some cash\n",
    "- remove some cash\n",
    "\n",
    "### Print cash register\n",
    "\n",
    "It would be nice to not have to print each attribute one line at a time. We can use `__str__` like in the previous example to take care of the printing.\n"
   ]
  },
  {
   "cell_type": "code",
   "execution_count": 3,
   "metadata": {},
   "outputs": [
    {
     "name": "stdout",
     "output_type": "stream",
     "text": [
      "The cash register holds: \n",
      "20s: 5\n",
      "10s: 5\n",
      "5s: 4\n",
      "2s: 2\n",
      "1s: 4\n"
     ]
    }
   ],
   "source": [
    "class Cash_Register:\n",
    "    \"\"\"A cash register.\"\"\"\n",
    "\n",
    "    def __init__(self, loonies, toonies, fives, tens, twenties):\n",
    "        \"\"\" \n",
    "        (self, int, int, int, int, int) -> NoneType\n",
    "        Creates a Cash_Register with loonies, toonies, fives, tens, and twenties.\n",
    "        \"\"\"\n",
    "\n",
    "        self.loonies = loonies\n",
    "        self.toonies = toonies\n",
    "        self.fives = fives\n",
    "        self.tens = tens\n",
    "        self.twenties = twenties\n",
    "\n",
    "    def __str__(self):\n",
    "        \"\"\"\n",
    "        (self) -> str\n",
    "        Return a string representing the cash register contents\n",
    "        \"\"\"\n",
    "        return \"The cash register holds: \\n20s: \" + str(self.twenties) \\\n",
    "            + \"\\n10s: \" + str(self.tens) + \"\\n5s: \" + str(self.fives) \\\n",
    "            + \"\\n2s: \" + str(self.toonies) + \"\\n1s: \" + str(self.loonies)\n",
    "        \n",
    "register = Cash_Register(4, 2, 4, 5, 5)\n",
    "print(register)\n"
   ]
  },
  {
   "cell_type": "markdown",
   "metadata": {},
   "source": [
    "### Method get_total\n",
    "\n",
    "Now we could create a method to calculate the total amount of money in the cash register.\n"
   ]
  },
  {
   "cell_type": "code",
   "execution_count": null,
   "metadata": {},
   "outputs": [],
   "source": [
    "    def get_total(self):\n",
    "        '''\n",
    "        (self) -> num\n",
    "        Return the total value of the cash in the register\n",
    "        '''\n",
    "        return 20 * self.twenties + 10 * self.tens + 5 * self.fives + 2 * self.toonies + self.loonies\n"
   ]
  },
  {
   "cell_type": "markdown",
   "metadata": {},
   "source": [
    "### Method add and remove\n",
    "\n",
    "Create a methods to add a particular amount of a particular denomination and to remove a particular amount of a particular denomination.\n"
   ]
  },
  {
   "cell_type": "code",
   "execution_count": null,
   "metadata": {},
   "outputs": [],
   "source": [
    "    def add(self, count, denomination):\n",
    "        '''\n",
    "        (self, num, str) -> NoneType\n",
    "        Add count bills of size denomination to the register\n",
    "        '''     \n",
    "        if denomination == 'loonies':\n",
    "            self.loonies += count\n",
    "        elif denomination == 'toonies':\n",
    "            self.toonies += count\n",
    "        elif denomination == 'fives':\n",
    "            self.fives += count\n",
    "        elif denomination == 'tens':\n",
    "            self.tens += count\n",
    "        elif denomination == 'twenties':\n",
    "            self.twenties += count    \n",
    "\n",
    "    def remove(self, count, denomination):\n",
    "        '''\n",
    "        (self, num, str) -> NoneType\n",
    "        Remove count bills of size denomination to the register\n",
    "        '''\n",
    "        self.add(-count,denomination)\n"
   ]
  },
  {
   "cell_type": "markdown",
   "metadata": {},
   "source": [
    "### Put it All Together"
   ]
  },
  {
   "cell_type": "code",
   "execution_count": 4,
   "metadata": {},
   "outputs": [
    {
     "name": "stdout",
     "output_type": "stream",
     "text": [
      "The cash register holds: \n",
      "20s: 5\n",
      "10s: 5\n",
      "5s: 4\n",
      "2s: 2\n",
      "1s: 4\n",
      "178\n",
      "197\n",
      "93\n"
     ]
    }
   ],
   "source": [
    "class Cash_Register:\n",
    "    \"\"\"A cash register.\"\"\"\n",
    "\n",
    "    def __init__(self, loonies, toonies, fives, tens, twenties):\n",
    "        \"\"\" \n",
    "        (self, int, int, int, int, int) -> NoneType\n",
    "        Creates a Cash_Register with loonies, toonies, fives, tens, and twenties.\n",
    "        \"\"\"\n",
    "\n",
    "        self.loonies = loonies\n",
    "        self.toonies = toonies\n",
    "        self.fives = fives\n",
    "        self.tens = tens\n",
    "        self.twenties = twenties\n",
    "\n",
    "    def __str__(self):\n",
    "        \"\"\"\n",
    "        (self) -> str\n",
    "        Return a string representing the cash register contents\n",
    "        \"\"\"\n",
    "        return \"The cash register holds: \\n20s: \" + str(self.twenties) \\\n",
    "            + \"\\n10s: \" + str(self.tens) + \"\\n5s: \" + str(self.fives) \\\n",
    "            + \"\\n2s: \" + str(self.toonies) + \"\\n1s: \" + str(self.loonies)\n",
    "        \n",
    "    def get_total(self):\n",
    "        '''\n",
    "        (self) -> num\n",
    "        Return the total value of the cash in the register\n",
    "        '''\n",
    "        return 20 * self.twenties + 10 * self.tens + 5 * self.fives + 2 * self.toonies + self.loonies\n",
    "\n",
    "    def add(self, count, denomination):\n",
    "        '''\n",
    "        (self, num, str) -> NoneType\n",
    "        Add count bills of size denomination to the register\n",
    "        '''     \n",
    "        if denomination == 'loonies':\n",
    "            self.loonies += count\n",
    "        elif denomination == 'toonies':\n",
    "            self.toonies += count\n",
    "        elif denomination == 'fives':\n",
    "            self.fives += count\n",
    "        elif denomination == 'tens':\n",
    "            self.tens += count\n",
    "        elif denomination == 'twenties':\n",
    "            self.twenties += count    \n",
    "\n",
    "    def remove(self, count, denomination):\n",
    "        '''\n",
    "        (self, num, str) -> NoneType\n",
    "        Remove count bills of size denomination to the register\n",
    "        '''\n",
    "        self.add(-count,denomination)\n",
    "        \n",
    "register = Cash_Register(4, 2, 4, 5, 5)\n",
    "print(register)\n",
    "print(register.get_total())\n",
    "\n",
    "register.add(3, 'fives')\n",
    "register.add(4, 'loonies')\n",
    "print(register.get_total())\n",
    "\n",
    "register.remove(2, 'toonies')\n",
    "register.remove(5, 'twenties')\n",
    "print(register.get_total())\n",
    "\n"
   ]
  },
  {
   "cell_type": "markdown",
   "metadata": {},
   "source": [
    "Something to think about: the ``CashRegister`` used a different variable for each denomination of currency. What if you wanted to implement it differently. Perhaps you want to use a dictionary? That way you could keep track of Canadian dollars, US dollars, euros, etc. all in the same ``CashRegister`` object. Can you change the implementation without changing the methods so that someone using your ``CashRegister`` object doesn't have to change their code?"
   ]
  },
  {
   "cell_type": "markdown",
   "metadata": {},
   "source": [
    "<div class=\"alert alert-block alert-info\">\n",
    "<big><b>This Lecture</b></big>\n",
    "<ul>  \n",
    " <li>Encapsulation hides the implementation details inside the class - so that someone can use the class without knowing how it is implemented</li>  \n",
    "</ul>  \n",
    "</div>"
   ]
  },
  {
   "cell_type": "code",
   "execution_count": null,
   "metadata": {},
   "outputs": [],
   "source": []
  }
 ],
 "metadata": {
  "kernelspec": {
   "display_name": "Python 3",
   "language": "python",
   "name": "python3"
  },
  "language_info": {
   "codemirror_mode": {
    "name": "ipython",
    "version": 3
   },
   "file_extension": ".py",
   "mimetype": "text/x-python",
   "name": "python",
   "nbconvert_exporter": "python",
   "pygments_lexer": "ipython3",
   "version": "3.7.2"
  }
 },
 "nbformat": 4,
 "nbformat_minor": 1
}
