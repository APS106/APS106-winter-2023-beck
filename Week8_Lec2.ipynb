{
 "cells": [
  {
   "cell_type": "markdown",
   "metadata": {},
   "source": [
    "# APS106 Lecture Notes - Week 8, Lecture 2\n",
    "# Dictionaries\n",
    "\n",
    "## Dictionaries are Cool\n",
    "\n",
    "A dictionary is another type of container object (Python type dict), that is different from sequences like strings, tuples, and lists. Dictionaries contain references to objects as **key-value pairs** – each key in the dictionary is associated with a value, like each word in an English language dictionary is associated with a definition. \n",
    "\n",
    "The elements of a dictionary are ordered in the same order that you insert them (since Python 3.6). \n",
    "\n",
    "Dictionaries are created using curly braces { } around key-value pairs of literals and/or variables. They key and value for each element in a dictionary are separated by a colon."
   ]
  },
  {
   "cell_type": "code",
   "execution_count": 2,
   "metadata": {},
   "outputs": [
    {
     "name": "stdout",
     "output_type": "stream",
     "text": [
      "{'John': 'A+', 'Brad': 'C-'}\n"
     ]
    }
   ],
   "source": [
    "student_grades = {'John' : 'A+', \"Brad\" : \"C-\"}\n",
    "print(student_grades)"
   ]
  },
  {
   "cell_type": "code",
   "execution_count": 1,
   "metadata": {},
   "outputs": [
    {
     "name": "stdout",
     "output_type": "stream",
     "text": [
      "{'canada goose': 3, 'northern fulmar': 1}\n",
      "1\n"
     ]
    }
   ],
   "source": [
    "bird_to_observations = {'canada goose':3, 'northern fulmar':1}\n",
    "print(bird_to_observations)\n",
    "print(bird_to_observations['northern fulmar'])"
   ]
  },
  {
   "cell_type": "markdown",
   "metadata": {},
   "source": [
    "The above creates a dictionary with two keys: 'canada goose' and 'northern fulmar' that are associated with the quantities 1 and 3 respectively.\n",
    "\n",
    "You can also create a dictionary by adding keys and values one-by-one."
   ]
  },
  {
   "cell_type": "code",
   "execution_count": 7,
   "metadata": {},
   "outputs": [
    {
     "name": "stdout",
     "output_type": "stream",
     "text": [
      "dos\n",
      "{'two': 'dos', 'one': 'uno'}\n"
     ]
    }
   ],
   "source": [
    "# create an empty dictionary\n",
    "eng2sp = {}\n",
    "\n",
    "# add a couple of entries\n",
    "x = \"one\"\n",
    "eng2sp[x] = \"uno\"\n",
    "eng2sp[\"two\"] = \"dos\"\n",
    "\n",
    "x = \"two\"\n",
    "print(eng2sp[x])\n",
    "print(eng2sp)"
   ]
  },
  {
   "cell_type": "markdown",
   "metadata": {},
   "source": [
    "So far we have only added contants to a dictionary. Of course, we can add the values of variables too (just like we can add the values of variables to other containers)."
   ]
  },
  {
   "cell_type": "code",
   "execution_count": 3,
   "metadata": {},
   "outputs": [
    {
     "name": "stdout",
     "output_type": "stream",
     "text": [
      "{'canada goose': 3, 'northern fulmar': 1, 'blue jay': 27}\n"
     ]
    }
   ],
   "source": [
    "my_bird = 'blue jay'\n",
    "num_blue_jays = 27\n",
    "bird_to_observations[my_bird] = num_blue_jays\n",
    "print(bird_to_observations)"
   ]
  },
  {
   "cell_type": "markdown",
   "metadata": {},
   "source": [
    "The key:value pairs of the dictionary are separated by commas. Each pair contains a key and a value separated by a colon. \n",
    "\n",
    "<div class=\"alert alert-block alert-warning\">\n",
    "As of Python 3.6 dictionaries store the (key, value) pairs in the order in which they are inserted. You may still see some old information that they are unordered and usually I really don't consider them as having a particular order, but they do.\n",
    "</div>\n",
    "\n",
    "Dictionaries are mutable so entries can be added, modified, and removed.\n",
    "\n",
    "The table below shows some common dict operations (Gries p. 214).\n",
    "\n",
    "Operation|Description|Example code\n",
    "---------|-----------|------------\n",
    "my_dict[key]|Indexing operation – retrieves the value associated with key.|john_grade = my_dict['John']\n",
    "my_dict[key] = value|Adds an entry if the entry does not exist, else modifies the existing entry.|\tmy_dict['John'] = 'B+'\n",
    "del my_dict[key]|Deletes the key:value from a dict.|del my_dict['John']\n",
    "key in my_dict|Tests for existence of key in my_dict|if 'John' in my_dict:   ...\n",
    "\n",
    "\n",
    "Dictionaries can contain objects of arbitrary type, even other containers such as lists and nested dictionaries. For example:"
   ]
  },
  {
   "cell_type": "code",
   "execution_count": 9,
   "metadata": {},
   "outputs": [
    {
     "name": "stdout",
     "output_type": "stream",
     "text": [
      "['B+', 'A']\n",
      "{'Jason': ['B+', 'A']}\n"
     ]
    }
   ],
   "source": [
    "my_dict = {}\n",
    "my_dict[\"Jason\"] = ['B+', 'A']\n",
    "print(my_dict['Jason'])\n",
    "print(my_dict)"
   ]
  },
  {
   "cell_type": "markdown",
   "metadata": {},
   "source": [
    "Above we have created an empty dictionary and then added an element with key 'jason' and value being a list of strings."
   ]
  },
  {
   "cell_type": "markdown",
   "metadata": {},
   "source": [
    "There is no reason to only use strings as keys. Any type can be used."
   ]
  },
  {
   "cell_type": "code",
   "execution_count": 10,
   "metadata": {},
   "outputs": [
    {
     "name": "stdout",
     "output_type": "stream",
     "text": [
      "{0: 'zero', 3: 'three'}\n"
     ]
    }
   ],
   "source": [
    "int_dict = {}\n",
    "int_dict[0] = \"zero\"\n",
    "int_dict[3] = \"three\"\n",
    "\n",
    "print(int_dict)"
   ]
  },
  {
   "cell_type": "code",
   "execution_count": 11,
   "metadata": {},
   "outputs": [
    {
     "name": "stdout",
     "output_type": "stream",
     "text": [
      "{'j': 'ello', 20.5: 68.9}\n",
      "68.9\n"
     ]
    }
   ],
   "source": [
    "# I am not sure why you would want to do this\n",
    "strange_dict = {20.5 : 68.9, \"j\" : \"ello\"}\n",
    "print(strange_dict)\n",
    "print(strange_dict[20.5])"
   ]
  },
  {
   "cell_type": "markdown",
   "metadata": {},
   "source": [
    "### Dictionary Methods\n",
    "\n",
    "Like lists, tuples, and sets, dictionaries are objects and have methods that can be applied on them.\n"
   ]
  },
  {
   "cell_type": "code",
   "execution_count": null,
   "metadata": {},
   "outputs": [],
   "source": [
    "dir(dict)"
   ]
  },
  {
   "cell_type": "markdown",
   "metadata": {},
   "source": [
    "Let's look at some examples.\n",
    "\n",
    "### Clear\n",
    "\n",
    "Remove all the elements from a dictionary."
   ]
  },
  {
   "cell_type": "code",
   "execution_count": 1,
   "metadata": {},
   "outputs": [
    {
     "name": "stdout",
     "output_type": "stream",
     "text": [
      "{'Bob': 1, 'Jane': 42}\n",
      "{}\n"
     ]
    }
   ],
   "source": [
    "d = {\"Bob\" : 1, \"Jane\":42}\n",
    "print(d)\n",
    "d.clear()\n",
    "print(d)"
   ]
  },
  {
   "cell_type": "markdown",
   "metadata": {},
   "source": [
    "### Get\n",
    "Reads the value of the key entry from the dict. If the key does not exist in the dictionary, then returns the default value (the second parameter)."
   ]
  },
  {
   "cell_type": "code",
   "execution_count": 2,
   "metadata": {},
   "outputs": [
    {
     "name": "stdout",
     "output_type": "stream",
     "text": [
      "Help on method_descriptor:\n",
      "\n",
      "get(self, key, default=None, /)\n",
      "    Return the value for key if key is in the dictionary, else default.\n",
      "\n"
     ]
    }
   ],
   "source": [
    "help(dict.get)"
   ]
  },
  {
   "cell_type": "code",
   "execution_count": 5,
   "metadata": {},
   "outputs": [
    {
     "name": "stdout",
     "output_type": "stream",
     "text": [
      "{'Bob': 1, 'Jane': 42}\n",
      "42\n",
      "N/A\n",
      "None\n",
      "The following line should cause an error. Why?\n"
     ]
    },
    {
     "ename": "KeyError",
     "evalue": "'Chad'",
     "output_type": "error",
     "traceback": [
      "\u001b[0;31m---------------------------------------------------------------------------\u001b[0m",
      "\u001b[0;31mKeyError\u001b[0m                                  Traceback (most recent call last)",
      "\u001b[0;32m<ipython-input-5-0db3935930c6>\u001b[0m in \u001b[0;36m<module>\u001b[0;34m()\u001b[0m\n\u001b[1;32m      5\u001b[0m \u001b[0mprint\u001b[0m\u001b[0;34m(\u001b[0m\u001b[0md\u001b[0m\u001b[0;34m.\u001b[0m\u001b[0mget\u001b[0m\u001b[0;34m(\u001b[0m\u001b[0;34m\"Chad\"\u001b[0m\u001b[0;34m)\u001b[0m\u001b[0;34m)\u001b[0m\u001b[0;34m\u001b[0m\u001b[0m\n\u001b[1;32m      6\u001b[0m \u001b[0mprint\u001b[0m\u001b[0;34m(\u001b[0m\u001b[0;34m\"The following line should cause an error. Why?\"\u001b[0m\u001b[0;34m)\u001b[0m\u001b[0;34m\u001b[0m\u001b[0m\n\u001b[0;32m----> 7\u001b[0;31m \u001b[0mprint\u001b[0m\u001b[0;34m(\u001b[0m\u001b[0md\u001b[0m\u001b[0;34m[\u001b[0m\u001b[0;34m\"Chad\"\u001b[0m\u001b[0;34m]\u001b[0m\u001b[0;34m)\u001b[0m\u001b[0;34m\u001b[0m\u001b[0m\n\u001b[0m",
      "\u001b[0;31mKeyError\u001b[0m: 'Chad'"
     ]
    }
   ],
   "source": [
    "d = {\"Bob\" : 1, \"Jane\":42}\n",
    "\n",
    "print(d)\n",
    "print(d.get(\"Jane\", \"N/A\"))\n",
    "print(d.get(\"Chad\", \"N/A\"))\n",
    "print(d.get(\"Chad\"))\n",
    "\n",
    "print(\"The following line should cause an error. Why?\")\n",
    "print(d[\"Chad\"])"
   ]
  },
  {
   "cell_type": "markdown",
   "metadata": {},
   "source": [
    "### Update\n",
    "Merges dictionary my_dict with another dictionary my_dict2. Existing entries in my_dict1 are overwritten if the same keys exist in my_dict2."
   ]
  },
  {
   "cell_type": "code",
   "execution_count": 26,
   "metadata": {},
   "outputs": [
    {
     "name": "stdout",
     "output_type": "stream",
     "text": [
      "{'Bob': 1, 'Jane': 42}\n",
      "{'John': 50, 'Bob': 7, 'Jane': 42}\n"
     ]
    }
   ],
   "source": [
    "d = {\"Bob\" : 1, \"Jane\":42}\n",
    "print(d)\n",
    "\n",
    "d.update({\"John\":50,\"Bob\":7})\n",
    "print(d)"
   ]
  },
  {
   "cell_type": "markdown",
   "metadata": {},
   "source": [
    "### Pop\n",
    "Removes and returns the key value from the dictionary. If key does not exist, then default is returned."
   ]
  },
  {
   "cell_type": "code",
   "execution_count": 33,
   "metadata": {},
   "outputs": [
    {
     "name": "stdout",
     "output_type": "stream",
     "text": [
      "{'Bob': 1, 'Jane': 42}\n",
      "{'Jane': 42}\n",
      "val = 1\n",
      "N/A\n"
     ]
    }
   ],
   "source": [
    "d = {\"Bob\" : 1, \"Jane\":42}\n",
    "print(d)\n",
    "\n",
    "val = d.pop(\"Bob\")\n",
    "print(d)\n",
    "\n",
    "print(\"val =\", val)\n",
    "val2 = d.pop(\"John\", \"N/A\")\n",
    "print(val2)"
   ]
  },
  {
   "cell_type": "markdown",
   "metadata": {},
   "source": [
    "Question: why is val equal to 1?\n",
    "\n",
    "## Iterating over a dictionary"
   ]
  },
  {
   "cell_type": "markdown",
   "metadata": {},
   "source": [
    "We can use iteration to create a dictionary from lists."
   ]
  },
  {
   "cell_type": "code",
   "execution_count": 6,
   "metadata": {},
   "outputs": [
    {
     "name": "stdout",
     "output_type": "stream",
     "text": [
      "{'bob': 1, 'jane': 42}\n"
     ]
    }
   ],
   "source": [
    "key_list = [\"bob\", \"jane\"]\n",
    "value_list = [1, 42]\n",
    "new_d ={}\n",
    "for i in range(len(key_list)):\n",
    "    new_d[key_list[i]] = value_list[i]\n",
    "print(new_d)"
   ]
  },
  {
   "cell_type": "markdown",
   "metadata": {},
   "source": [
    "What is the line in the for-loop doing? Nested indexing!!!"
   ]
  },
  {
   "cell_type": "markdown",
   "metadata": {},
   "source": [
    "We can also search for elements in a dictionary in a couple of different ways."
   ]
  },
  {
   "cell_type": "code",
   "execution_count": 7,
   "metadata": {},
   "outputs": [
    {
     "name": "stdout",
     "output_type": "stream",
     "text": [
      "bob 1\n",
      "jane 42\n",
      "chad is not in the dictionary\n",
      "bob 1\n",
      "jane 42\n",
      "chad is not in the dictionary\n"
     ]
    }
   ],
   "source": [
    "# Code that demonstrates two ways to implement looking in the \n",
    "# dictionary for keys that might not be there\n",
    "key_list.append(\"chad\")\n",
    "for key in key_list:\n",
    "    if key in new_d:\n",
    "        print(key, new_d[key])\n",
    "    else:\n",
    "        print(key, \"is not in the dictionary\")\n",
    "\n",
    "for key in key_list:\n",
    "    print(key, new_d.get(key, \"is not in the dictionary\"))"
   ]
  },
  {
   "cell_type": "markdown",
   "metadata": {},
   "source": [
    "A common programming task is to iterate over a dictionary and access or modify the elements of the dictionary. \n",
    "\n",
    "Example:"
   ]
  },
  {
   "cell_type": "code",
   "execution_count": 1,
   "metadata": {},
   "outputs": [
    {
     "name": "stdout",
     "output_type": "stream",
     "text": [
      "Newton was born in 1642\n",
      "Darwin was born in 1809\n",
      "Turing was born in 1912\n"
     ]
    }
   ],
   "source": [
    "scientist_to_birthdate = {'Newton' : 1642, 'Darwin' : 1809, 'Turing' : 1912}\n",
    "\n",
    "# one way to iterate\n",
    "for scientist, birthdate in scientist_to_birthdate.items():\n",
    "    print(scientist, 'was born in', birthdate)"
   ]
  },
  {
   "cell_type": "markdown",
   "metadata": {},
   "source": [
    "### The **in** Operator\n",
    "\n",
    "Above we used the `in` operator in a way that is similar to the way it is used for lists, sets, and tuples. Another example:"
   ]
  },
  {
   "cell_type": "code",
   "execution_count": 35,
   "metadata": {},
   "outputs": [
    {
     "name": "stdout",
     "output_type": "stream",
     "text": [
      "False\n",
      "True\n"
     ]
    }
   ],
   "source": [
    "fruit_to_colour = {'watermelon': 'green', 'pomegranate': 'red',\n",
    "'peach': 'orange', 'cherry': 'red', 'pear': 'green',\n",
    "'banana': 'yellow', 'plum': 'purple', 'orange': 'orange'}\n",
    "\n",
    "print(\"yellow\" in fruit_to_colour)\n",
    "print(\"banana\" in fruit_to_colour)"
   ]
  },
  {
   "cell_type": "markdown",
   "metadata": {},
   "source": [
    "Notice the `in` operator searches across keys and not the values. In order to search for values we need to apply the built-in method `values()`."
   ]
  },
  {
   "cell_type": "code",
   "execution_count": 4,
   "metadata": {},
   "outputs": [
    {
     "name": "stdout",
     "output_type": "stream",
     "text": [
      "True\n",
      "False\n"
     ]
    }
   ],
   "source": [
    "fruit_to_colour = {'watermelon': 'green', 'pomegranate': 'red',\n",
    "'peach': 'orange', 'cherry': 'red', 'pear': 'green',\n",
    "'banana': 'yellow', 'plum': 'purple', 'orange': 'orange'}\n",
    "\n",
    "print(\"yellow\" in fruit_to_colour.values())\n",
    "print(\"banana\" in fruit_to_colour.values())"
   ]
  },
  {
   "cell_type": "markdown",
   "metadata": {},
   "source": [
    "The fact that `in` iterates over the keys gives us another way to iterate over a dictionary."
   ]
  },
  {
   "cell_type": "code",
   "execution_count": 2,
   "metadata": {},
   "outputs": [
    {
     "name": "stdout",
     "output_type": "stream",
     "text": [
      "Newton was born in 1642\n",
      "Darwin was born in 1809\n",
      "Turing was born in 1912\n"
     ]
    }
   ],
   "source": [
    "scientist_to_birthdate = {'Newton' : 1642, 'Darwin' : 1809, 'Turing' : 1912}\n",
    "\n",
    "# another way to iterate\n",
    "for s in scientist_to_birthdate:\n",
    "    print(s, 'was born in', scientist_to_birthdate[s])"
   ]
  },
  {
   "cell_type": "markdown",
   "metadata": {},
   "source": [
    "## Dictionary nesting\n",
    "Dictionaries can, of course, be nested!"
   ]
  },
  {
   "cell_type": "code",
   "execution_count": 3,
   "metadata": {},
   "outputs": [
    {
     "name": "stdout",
     "output_type": "stream",
     "text": [
      "{'John': {'Grade': 'A+', 'StudentID': 22321}}\n",
      "{'Grade': 'A+', 'StudentID': 22321}\n",
      "A+\n"
     ]
    }
   ],
   "source": [
    "students = {}\n",
    "students[\"John\"] = {\"Grade\":\"A+\",\"StudentID\":22321}\n",
    "\n",
    "print(students)\n",
    "print(students[\"John\"])\n",
    "print(students[\"John\"][\"Grade\"])"
   ]
  },
  {
   "cell_type": "markdown",
   "metadata": {},
   "source": [
    "The variable `students` is first created as an empty dictionary. Then a new entry is added with the key 'John' and the value associated with `John` is another dictionary. Indexing operations can be applied to the nested dictionary by using consecutive sets of brackets just like for nested lists. "
   ]
  },
  {
   "cell_type": "markdown",
   "metadata": {},
   "source": [
    "### Dictionaries as Data Structures\n",
    "Dictionaries are useful as \"quick and dirty\" data structures. (For production code that will be used and maintained for a long time it would be better to use objects - we'll see those in a few weeks.)"
   ]
  },
  {
   "cell_type": "code",
   "execution_count": 40,
   "metadata": {},
   "outputs": [
    {
     "name": "stdout",
     "output_type": "stream",
     "text": [
      "Enter student name: Ricky Bobby\n",
      "Final percentage:   54.5\n",
      "Enter student name: John Ponting\n",
      "Final percentage:   87.76666666666667\n",
      "Enter student name: Chris Beck\n",
      "Enter student name: exit\n"
     ]
    }
   ],
   "source": [
    "# A data structure for grades\n",
    "# This is a dictionary (indexed by a string - the students name), \n",
    "# with another dictionary as a value, index by strings 'Homework', 'Midterm', 'Final'\n",
    "# and with elements (of the inner dictionary being lists and ints)\n",
    "grades = {\n",
    "    'John Ponting': {\n",
    "        'Homework': [79, 80, 74],\n",
    "        'Midterm': 85,\n",
    "        'Final': 92\n",
    "    },\n",
    "    'Jacqueline Kallis': {\n",
    "        'Homework': [90, 92, 65],\n",
    "        'Midterm': 87,\n",
    "        'Final': 75\n",
    "    },\n",
    "    'Ricky Bobby': {\n",
    "        'Homework': [50, 52, 78],\n",
    "        'Midterm': 40,\n",
    "        'Final': 65\n",
    "    },\n",
    "}\n",
    "\n",
    "user_input = ''\n",
    "\n",
    "while user_input != 'exit':    \n",
    "    \n",
    "    user_input = input('Enter student name: ')\n",
    "    \n",
    "    if user_input in grades:\n",
    "        \n",
    "        # Get values from nested dict\n",
    "        homework = grades[user_input]['Homework']\n",
    "        midterm = grades[user_input]['Midterm']\n",
    "        final = grades[user_input]['Final']\n",
    "\n",
    "        # Compute student total score\n",
    "        total_points = \\\n",
    "        0.1*sum(homework)/len(homework) + 0.4*midterm + 0.5*final\n",
    "        print('Final percentage:  ', total_points)\n"
   ]
  },
  {
   "cell_type": "markdown",
   "metadata": {},
   "source": [
    "For the Design Problem in next Friday's class, you will need to set up a dictionary as a data structure to keep track of information about housing sales. This will be a nested structure and a bit complicated. It will be good practice to see if you understand the lecture today to do the design task on your own.\n",
    "\n",
    "<div class=\"alert alert-block alert-info\">\n",
    "<big><b>This Lecture: Dictionaries</b></big>\n",
    "<ul>  \n",
    "    <li>A container of key:value pairs</li>\n",
    "    <li>Accessing an element via its key</li>\n",
    "    <li>Dictionary methods</li>\n",
    "    <li>Iterating over dictionaries</li>\n",
    "    <li>Testing membership: in</li>\n",
    "     <li>Dictionaries as data structures</li>\n",
    "<b>See Chapter 11 of the Gries textbook. This is all in there.</b>\n",
    "</div>"
   ]
  },
  {
   "cell_type": "code",
   "execution_count": null,
   "metadata": {},
   "outputs": [],
   "source": []
  }
 ],
 "metadata": {
  "kernelspec": {
   "display_name": "Python 3",
   "language": "python",
   "name": "python3"
  },
  "language_info": {
   "codemirror_mode": {
    "name": "ipython",
    "version": 3
   },
   "file_extension": ".py",
   "mimetype": "text/x-python",
   "name": "python",
   "nbconvert_exporter": "python",
   "pygments_lexer": "ipython3",
   "version": "3.7.2"
  }
 },
 "nbformat": 4,
 "nbformat_minor": 1
}
