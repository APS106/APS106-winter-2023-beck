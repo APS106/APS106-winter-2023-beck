{
 "cells": [
  {
   "cell_type": "markdown",
   "metadata": {},
   "source": [
    "## APS106 Lecture Notes - Week 4, Lecture 2\n",
    "# More Loops"
   ]
  },
  {
   "cell_type": "markdown",
   "metadata": {},
   "source": [
    "Recall the form of a while-loop:\n",
    "\n",
    "```\n",
    "while expression:    \n",
    "    body\n",
    "```\n",
    "\n",
    "The `expression` that gets evaluated is just an boolean expression - something that evaluates to `True` or `False`. As a result it can be arbitrarily complex just like any expression. In particular it can include:\n",
    "- logical operators (and, or, not)\n",
    "- comparison operators\n",
    "- function calls\n",
    "\n",
    "... anything that evaluates to `True` or `False`.\n",
    "\n",
    "### And Even Lazy Evaluation\n",
    "\n",
    "Just like for if-statements, if you use `and` or `or` in a while-loop `expression`, it is subject to lazy evaluation."
   ]
  },
  {
   "cell_type": "code",
   "execution_count": 1,
   "metadata": {},
   "outputs": [
    {
     "name": "stdout",
     "output_type": "stream",
     "text": [
      "First loop\n",
      "Inside my_func 13\n",
      "Inside my_func 12\n",
      "Inside my_func 11\n",
      "Second loop\n",
      "Inside my_func 13\n",
      "Inside my_func 12\n",
      "Inside my_func 11\n",
      "Inside my_func 10\n"
     ]
    }
   ],
   "source": [
    "\n",
    "def my_func(x):\n",
    "    print(\"Inside my_func\", x)\n",
    "    return True\n",
    "\n",
    "x = 13\n",
    "print(\"First loop\")\n",
    "while x > 10 and my_func(x):\n",
    "    #print(x)\n",
    "    x = x - 1\n",
    "    \n",
    "print(\"Second loop\")\n",
    "x = 13\n",
    "while my_func(x) and x > 10:\n",
    "    #print(x)\n",
    "    x = x - 1\n",
    "\n"
   ]
  },
  {
   "cell_type": "markdown",
   "metadata": {},
   "source": [
    "## Back to Our Problem from Yesterday\n",
    "\n",
    "We were workng on a simple game:\n",
    "- get the computer to choose a random integer from 0 to 100\n",
    "- ask the user for a guess and allow the user to input a guess or \"q\"\n",
    "- if the user inputs \"q\" print a nice message and end the program\n",
    "- if the user enters a guess, tell them if they should guess higher, lower, or if they got it right\n",
    "- if they got it right, print a nice message and quit\n",
    "\n",
    "And this was the code we wrote."
   ]
  },
  {
   "cell_type": "code",
   "execution_count": 1,
   "metadata": {},
   "outputs": [
    {
     "name": "stdout",
     "output_type": "stream",
     "text": [
      "Guess a number between 0 and 100 inclusive ('q' to end): 50\n",
      "You guessed: 50\n",
      "Lower\n",
      "Guess a number between 0 and 100 inclusive ('q' to end): 25\n",
      "You guessed: 25\n",
      "Higher\n",
      "Guess a number between 0 and 100 inclusive ('q' to end): 32\n",
      "You guessed: 32\n",
      "Lower\n",
      "Guess a number between 0 and 100 inclusive ('q' to end): 28\n",
      "You guessed: 28\n",
      "Higher\n",
      "Guess a number between 0 and 100 inclusive ('q' to end): 30\n",
      "You guessed: 30\n",
      "Lower\n",
      "Guess a number between 0 and 100 inclusive ('q' to end): 29\n",
      "You guessed: 29\n",
      "Got it!\n",
      "Guess a number between 0 and 100 inclusive ('q' to end): q\n"
     ]
    }
   ],
   "source": [
    "import random\n",
    "\n",
    "num_min = 0\n",
    "num_max = 100\n",
    "num_to_guess = random.randrange(num_min, num_max + 1)\n",
    "\n",
    "guess = input(\"Guess a number between \" + str(num_min) +  \" and \" + str(num_max) + \" inclusive ('q' to end): \")\n",
    "while guess != 'q':\n",
    "    print(\"You guessed:\", guess)\n",
    "    guess_int = int(guess)\n",
    "    \n",
    "    if guess_int == num_to_guess:\n",
    "        guess = 'q'\n",
    "        print(\"Got it!\")\n",
    "    elif guess_int > num_to_guess:\n",
    "        print(\"Lower\")\n",
    "    else:\n",
    "        print(\"Higher\")\n",
    "        \n",
    "    guess = input(\"Guess a number between \" + str(num_min) +  \" and \" + str(num_max) + \" inclusive ('q' to end): \")\n"
   ]
  },
  {
   "cell_type": "markdown",
   "metadata": {},
   "source": [
    "So what is happening?\n",
    "\n",
    "The problem is that when they guess the right answer we do not want to ask the user to guess again. And so we added a line to assign the `guess` variable to 'q' after a correct guess. However, this did not solve our problem because every time through the loop, we ask the user for a new guess. \n",
    "\n",
    "We could have tried to solve this problem in another way: only ask the user for a new guess if they have not guess the right number. That would look like this:"
   ]
  },
  {
   "cell_type": "code",
   "execution_count": null,
   "metadata": {},
   "outputs": [],
   "source": [
    "import random\n",
    "\n",
    "num_min = 0\n",
    "num_max = 100\n",
    "num_to_guess = random.randint(num_min,num_max)\n",
    "#print(num_to_guess)\n",
    "\n",
    "guess = input(\"Guess a number between \" + str(num_min) + \" and \" + str(num_max) + \" inclusive. ('q' to end): \")\n",
    "while guess != 'q':\n",
    "    print(\"You guessed: \", guess)\n",
    "    guess_int = int(guess) \n",
    "    \n",
    "    if guess_int == num_to_guess:\n",
    "        print(\"You got it!\")\n",
    "        #guess = 'q'  # commented out for now to make a point\n",
    "    else:\n",
    "        if guess_int > num_to_guess:\n",
    "            print(\"Lower\")\n",
    "        else:\n",
    "            print(\"Higher\")\n",
    "        \n",
    "        guess = input(\"Guess a number between \" + str(num_min) + \" and \" + str(num_max) + \" inclusive. ('q' to end): \")\n"
   ]
  },
  {
   "cell_type": "markdown",
   "metadata": {},
   "source": [
    "So what is happening?\n",
    "\n",
    "The problem is that when they guess the right answer we do not want to ask the user to guess again. And so we moved the changing of the `guess` variable to inside the `else` block. But that also means that after the right guess the `guess` variable never gets modified. It is the same forever and its value satisfies the `condition`.\n",
    "\n",
    "This is called an **infinite loop**. It is obviously a bug and it unfortunately is not that uncommon. We have failed to make sure that there is a possibility for the loop to end (i.e., for `condition` to be `False`) and so the code loops forever.\n",
    "\n",
    "<div class=\"alert alert-block alert-info\">\n",
    "<big><b>Beck's First Rule of Loops</b></big>\n",
    "    \n",
    "Make sure that there is some way for a loop to exit. For a while\n",
    "loop, this means that the loop condition must evaluate to False at some point.\n",
    "</div>\n",
    "\n",
    "\n",
    "To fix this, we need to combine our two solutions to ensure:\n",
    "- every path of execution through the loop potentially changes `guess`\n",
    "- the user is not asked to guess after they've found the right number"
   ]
  },
  {
   "cell_type": "code",
   "execution_count": 8,
   "metadata": {},
   "outputs": [
    {
     "name": "stdout",
     "output_type": "stream",
     "text": [
      "Guess a number between 0 and 100 inclusive. ('q' to end): 50\n",
      "You guessed:  50\n",
      "Higher\n",
      "Guess a number between 0 and 100 inclusive. ('q' to end): q\n"
     ]
    }
   ],
   "source": [
    "import random\n",
    "\n",
    "num_min = 0\n",
    "num_max = 100\n",
    "num_to_guess = random.randint(num_min,num_max)\n",
    "#print(num_to_guess)\n",
    "\n",
    "guess = input(\"Guess a number between \" + str(num_min) + \" and \" + str(num_max) + \" inclusive. ('q' to end): \")\n",
    "while guess != 'q':\n",
    "    print(\"You guessed: \", guess)\n",
    "    guess_int = int(guess) \n",
    "    \n",
    "    if guess_int == num_to_guess:\n",
    "        print(\"You got it!\")\n",
    "        guess = 'q'\n",
    "    else:\n",
    "        if guess_int > num_to_guess:\n",
    "            print(\"Lower\")\n",
    "        else:\n",
    "            print(\"Higher\")\n",
    "        \n",
    "        guess = input(\"Guess a number between \" + str(num_min) + \" and \" + str(num_max) + \" inclusive. ('q' to end): \")\n"
   ]
  },
  {
   "cell_type": "markdown",
   "metadata": {},
   "source": [
    "## What About A Penalty?\n",
    "\n",
    "**Note: this is material I've added since the 'starter' files were posted.**\n",
    "\n",
    "Imagine that you want to penalize the player for making a wrong guess and furthermore that penalty should correlate with how wrong the user is in their guess. For now, let's assume that the penalty is making the user wait before they can make a new guess and that the length of time that they wait should be how far their guess is from the real number.\n",
    "\n",
    "How do you make the user wait? Let's investigate the `time` module."
   ]
  },
  {
   "cell_type": "code",
   "execution_count": 2,
   "metadata": {},
   "outputs": [
    {
     "name": "stdout",
     "output_type": "stream",
     "text": [
      "Help on built-in function sleep in module time:\n",
      "\n",
      "sleep(...)\n",
      "    sleep(seconds)\n",
      "    \n",
      "    Delay execution for a given number of seconds.  The argument may be\n",
      "    a floating point number for subsecond precision.\n",
      "\n"
     ]
    }
   ],
   "source": [
    "import time\n",
    "help(time.sleep)"
   ]
  },
  {
   "cell_type": "markdown",
   "metadata": {},
   "source": [
    "So let's incorporate the penalty into our code."
   ]
  },
  {
   "cell_type": "code",
   "execution_count": 4,
   "metadata": {},
   "outputs": [
    {
     "name": "stdout",
     "output_type": "stream",
     "text": [
      "Guess a number between 0 and 50 inclusive. ('q' to end): 25\n",
      "You guessed:  25\n",
      "You got it wrong and have to wait for some time.\n",
      "Higher\n",
      "Guess a number between 0 and 50 inclusive. ('q' to end): 45\n",
      "You guessed:  45\n",
      "You got it wrong and have to wait for some time.\n",
      "Higher\n",
      "Guess a number between 0 and 50 inclusive. ('q' to end): 49\n",
      "You guessed:  49\n",
      "You got it wrong and have to wait for some time.\n",
      "Lower\n",
      "Guess a number between 0 and 50 inclusive. ('q' to end): 48\n",
      "You guessed:  48\n",
      "You got it!\n"
     ]
    }
   ],
   "source": [
    "import random\n",
    "import time\n",
    "\n",
    "num_min = 0\n",
    "num_max = 50\n",
    "num_to_guess = random.randint(num_min,num_max)\n",
    "#print(num_to_guess)\n",
    "\n",
    "guess = input(\"Guess a number between \" + str(num_min) + \" and \" + str(num_max) + \" inclusive. ('q' to end): \")\n",
    "while guess != 'q':\n",
    "    print(\"You guessed: \", guess)\n",
    "    guess_int = int(guess) \n",
    "    \n",
    "    if guess_int == num_to_guess:\n",
    "        print(\"You got it!\")\n",
    "        guess = 'q'\n",
    "    else:\n",
    "        wait_time = abs(num_to_guess - guess_int)\n",
    "        print(\"You got it wrong and have to wait for some time.\")\n",
    "        time.sleep(wait_time)\n",
    "        \n",
    "        if guess_int > num_to_guess:\n",
    "            print(\"Lower\")\n",
    "        else:\n",
    "            print(\"Higher\")\n",
    "        \n",
    "        guess = input(\"Guess a number between \" + str(num_min) + \" and \" + str(num_max) + \" inclusive. ('q' to end): \")\n"
   ]
  },
  {
   "cell_type": "markdown",
   "metadata": {},
   "source": [
    "## Taking it Up a Level\n",
    "\n",
    "Our code allows the user to play one guessing game. What if we want to give them the option to play multiple games on after the other?\n",
    "\n",
    "As usual there are a number of ways to do this. One way that is appealing to a computer programmer is to turn the code for one game into a function and then to call it from inside a loop that controls if the user wants to keep playing.\n",
    "\n",
    "So let's take this one step at a time. First, turn the code we've written into a function."
   ]
  },
  {
   "cell_type": "code",
   "execution_count": 10,
   "metadata": {},
   "outputs": [
    {
     "name": "stdout",
     "output_type": "stream",
     "text": [
      "Guess a number between 0 and 100 inclusive. ('q' to end): q\n"
     ]
    }
   ],
   "source": [
    "import random\n",
    "\n",
    "def play_one_game():\n",
    "    '''\n",
    "    (None) -> None\n",
    "    Pick a number and let the user guess until they get it or quit.\n",
    "    '''\n",
    "    \n",
    "    num_min = 0\n",
    "    num_max = 100\n",
    "    num_to_guess = random.randint(num_min,num_max)\n",
    "    #print(num_to_guess)\n",
    "\n",
    "    guess = input(\"Guess a number between \" + str(num_min) + \" and \" + str(num_max) + \" inclusive. ('q' to end): \")\n",
    "    while guess != 'q':\n",
    "        print(\"You guessed: \", guess)\n",
    "        guess_int = int(guess) \n",
    "    \n",
    "        if guess_int == num_to_guess:\n",
    "            print(\"You got it!\")\n",
    "            guess = 'q'\n",
    "        else:\n",
    "            if guess_int > num_to_guess:\n",
    "                print(\"Lower\")\n",
    "            else:\n",
    "                print(\"Higher\")\n",
    "        \n",
    "            guess = input(\"Guess a number between \" + str(num_min) + \" and \" + str(num_max) + \" inclusive. ('q' to end): \")\n",
    "\n",
    "play_one_game()"
   ]
  },
  {
   "cell_type": "markdown",
   "metadata": {},
   "source": [
    "Now, put the calls to this function inside a loop."
   ]
  },
  {
   "cell_type": "code",
   "execution_count": 13,
   "metadata": {},
   "outputs": [
    {
     "name": "stdout",
     "output_type": "stream",
     "text": [
      "Guess a number between 0 and 100 inclusive. ('q' to end): 10\n",
      "You guessed:  10\n",
      "Higher\n",
      "Guess a number between 0 and 100 inclusive. ('q' to end): q\n",
      "Do you want to play again? (y/n): n\n"
     ]
    }
   ],
   "source": [
    "import random\n",
    "\n",
    "def play_one_game():\n",
    "    '''\n",
    "    (None) -> None\n",
    "    Pick a number and let the user guess until they get it or quit.\n",
    "    '''\n",
    "    \n",
    "    num_min = 0\n",
    "    num_max = 100\n",
    "    num_to_guess = random.randint(num_min,num_max)\n",
    "    #print(num_to_guess)\n",
    "\n",
    "    guess = input(\"Guess a number between \" + str(num_min) + \" and \" + str(num_max) + \" inclusive. ('q' to end): \")\n",
    "    while guess != 'q':\n",
    "        print(\"You guessed: \", guess)\n",
    "        guess_int = int(guess) \n",
    "    \n",
    "        if guess_int == num_to_guess:\n",
    "            print(\"You got it!\")\n",
    "            guess = 'q'\n",
    "        else:\n",
    "            if guess_int > num_to_guess:\n",
    "                print(\"Lower\")\n",
    "            else:\n",
    "                print(\"Higher\")\n",
    "        \n",
    "            guess = input(\"Guess a number between \" + str(num_min) + \" and \" + str(num_max) + \" inclusive. ('q' to end): \")\n",
    "\n",
    "play_again = 'y'\n",
    "while play_again == 'y':\n",
    "    play_one_game()\n",
    "    play_again = input(\"Do you want to play again? (y/n): \")\n",
    "     "
   ]
  },
  {
   "cell_type": "markdown",
   "metadata": {},
   "source": [
    "It is a bit strange to ask the user if they want to play again after they've just explicitly quit. But this raises an interesting problem: the user quits (i.e., enters 'q') inside the function. But we want to know about that **outside** the function. That is, outside the function, we want to do different things depending on if the user has guessed right or has quit.\n",
    "\n",
    "So we need to get some information from the function. Happily, we know how to do that ... with a return value."
   ]
  },
  {
   "cell_type": "code",
   "execution_count": 17,
   "metadata": {},
   "outputs": [
    {
     "name": "stdout",
     "output_type": "stream",
     "text": [
      "Guess a number between 0 and 100 inclusive. ('q' to end): 50\n",
      "You guessed:  50\n",
      "Higher\n",
      "Guess a number between 0 and 100 inclusive. ('q' to end): 75\n",
      "You guessed:  75\n",
      "Higher\n",
      "Guess a number between 0 and 100 inclusive. ('q' to end): 87\n",
      "You guessed:  87\n",
      "Lower\n",
      "Guess a number between 0 and 100 inclusive. ('q' to end): 81\n",
      "You guessed:  81\n",
      "Higher\n",
      "Guess a number between 0 and 100 inclusive. ('q' to end): 84\n",
      "You guessed:  84\n",
      "Higher\n",
      "Guess a number between 0 and 100 inclusive. ('q' to end): 85\n",
      "You guessed:  85\n",
      "You got it!\n",
      "Do you want to play again? (y/n): y\n",
      "Guess a number between 0 and 100 inclusive. ('q' to end): 50\n",
      "You guessed:  50\n",
      "Higher\n",
      "Guess a number between 0 and 100 inclusive. ('q' to end): 75\n",
      "You guessed:  75\n",
      "Higher\n",
      "Guess a number between 0 and 100 inclusive. ('q' to end): 87\n",
      "You guessed:  87\n",
      "Higher\n",
      "Guess a number between 0 and 100 inclusive. ('q' to end): 94\n",
      "You guessed:  94\n",
      "Lower\n",
      "Guess a number between 0 and 100 inclusive. ('q' to end): 90\n",
      "You guessed:  90\n",
      "Lower\n",
      "Guess a number between 0 and 100 inclusive. ('q' to end): 88\n",
      "You guessed:  88\n",
      "You got it!\n",
      "Do you want to play again? (y/n): n\n"
     ]
    }
   ],
   "source": [
    "import random\n",
    "\n",
    "def play_one_game():\n",
    "    '''\n",
    "    (None) -> bool\n",
    "    Pick a number and let the user guess until they get it or quit.\n",
    "    Returns True if the player was successful in guessing the number and False if they quit\n",
    "    '''\n",
    "    \n",
    "    num_min = 0\n",
    "    num_max = 100\n",
    "    num_to_guess = random.randint(num_min,num_max)\n",
    "    #print(num_to_guess)\n",
    "\n",
    "    guess = input(\"Guess a number between \" + str(num_min) + \" and \" + str(num_max) + \" inclusive. ('q' to end): \")\n",
    "    while guess != 'q':\n",
    "        print(\"You guessed: \", guess)\n",
    "        guess_int = int(guess) \n",
    "    \n",
    "        if guess_int == num_to_guess:\n",
    "            print(\"You got it!\")\n",
    "            return True\n",
    "        else:\n",
    "            if guess_int > num_to_guess:\n",
    "                print(\"Lower\")\n",
    "            else:\n",
    "                print(\"Higher\")\n",
    "        \n",
    "            guess = input(\"Guess a number between \" + str(num_min) + \" and \" + str(num_max) + \" inclusive. ('q' to end): \")\n",
    "\n",
    "    return False\n",
    "\n",
    "\n",
    "play_again = 'y'\n",
    "while play_again == 'y':\n",
    "    success = play_one_game()\n",
    "    if success:\n",
    "        play_again = input(\"Do you want to play again? (y/n): \")\n",
    "    else:\n",
    "        play_again = 'n'"
   ]
  },
  {
   "cell_type": "markdown",
   "metadata": {},
   "source": [
    "### Extra Challenge\n",
    "\n",
    "You may have noticed that I followed a particular pattern in guessing numbers. It was actually an optimal pattern that on average will guess the right number with the minimum expected number of questions.\n",
    "\n",
    "It is beyond what we've taught in the course so far, so I do not expect you to be able to do this but ... can you create code that will play this game instead of the user? Rather than asking the user, ask your code for the guess and implement the optimal algorithm in your code."
   ]
  },
  {
   "cell_type": "markdown",
   "metadata": {},
   "source": [
    "## Back to Something a Bit Easier (but still challenging!)\n",
    "\n",
    "The inverse hyperbolic tangent (now that's a cool name!) can be approxmated with the following series:\n",
    "\n",
    "$$tanh^{-1}(x) = x + x^3/3 + x^5/5 + x^7/7 + x^9/9 ...$$\n",
    "\n",
    "where $$-1.0 \\leq x \\leq 1.0$$\n",
    "\n",
    "Notice that each term in the series is smaller than the previous one. One way we can end such a series is to decide on an `epsilon` value and stop when the next term in the series is less than `epsilon`. So let's do that.\n",
    "\n",
    "Write a function that takes in an x value (between 1 and -1) and an epsilon value (0.000001 is a good one to test with) and returns the value of the inverse hyperbolic tangent. Do not use the math module!\n",
    "\n",
    "Let's first write some test code - code that will use the function and will get the user input."
   ]
  },
  {
   "cell_type": "code",
   "execution_count": 19,
   "metadata": {},
   "outputs": [
    {
     "name": "stdout",
     "output_type": "stream",
     "text": [
      "Enter x between -1 and 1: 0.5\n",
      "Enter epsilon: 0.00001\n",
      "tanh-1(0.5) = 1\n"
     ]
    }
   ],
   "source": [
    "def estimate_tanh_inv(x, epsilon):\n",
    "    '''(float, float) -> float\n",
    "    Returns an estimate of tanh^-1 based on the series:\n",
    "    tanh-1(x) = x + x3/3 + x5/5 + x7/7 + x9/9 + ...\n",
    "    Stops when the next item is the series is less than epsilon\n",
    "    '''\n",
    "    return 1 # just return some dummy value\n",
    "\n",
    "x = -2\n",
    "while x < -1.0 or x > 1.0:\n",
    "    x = float(input(\"Enter x between -1 and 1: \"))\n",
    "    eps = float(input(\"Enter epsilon: \"))\n",
    "\n",
    "tanh_inv = estimate_tanh_inv(x,eps)\n",
    "print(\"tanh-1(\", x, \") = \", tanh_inv, sep=\"\")"
   ]
  },
  {
   "cell_type": "markdown",
   "metadata": {},
   "source": [
    "**NOTICE THE PROGRAMMING PLAN**: While I didn't explicitly create a programming plan (as this seems like a small task), I am implicitly following one. First, I am setting up the \"easy\" part of the code. This is not the only way to go about writing code for this problem but it makes sense for a couple of reasons:\n",
    "1. It's nice to ease into solving the problem. Getting something running and making some progress is psychologically a good step.\n",
    "1. When you write the hard stuff, you are going to need to write code to test it. So before you know if the hard paer is right, you are going to have to write code something like this anyway.\n",
    "\n",
    "So now let's work on the hard part: the function. \n",
    "\n",
    "Because we have a series, it is natural to think of a loop. We are going to create a loop such that everytime through the loop:\n",
    "- we will calculate the next term in the series \n",
    "- check if the new term is less than epsilon\n",
    "- if it is greater than epsilon, add it to the sum\n",
    "- if it is less than epsilon, return the estimate\n"
   ]
  },
  {
   "cell_type": "code",
   "execution_count": null,
   "metadata": {},
   "outputs": [],
   "source": [
    "def estimate_tanh_inv(x, epsilon):\n",
    "    '''(float, float) -> float\n",
    "    Returns an estimate of tanh^-1 based on the series:\n",
    "    tanh-1(x) = x + x3/3 + x5/5 + x7/7 + x9/9 + ...\n",
    "    Stops when the next item is the series is less than epsilon\n",
    "    '''\n",
    "    # initialize variables\n",
    "    # calculate first term\n",
    "    while term > epsilon:\n",
    "        # add term to tanh\n",
    "        # calculate new term\n",
    "    \n",
    "\n",
    "x = -2\n",
    "while x < -1.0 or x > 1.0:\n",
    "    x = float(input(\"Enter x between -1 and 1: \"))\n",
    "    eps = float(input(\"Enter epsilon: \"))\n",
    "\n",
    "tanh_inv = estimate_tanh_inv(x,eps)\n",
    "print(\"tanh-1(\", x, \") = \", tanh_inv, sep=\"\")"
   ]
  },
  {
   "cell_type": "markdown",
   "metadata": {},
   "source": [
    "What is the first term?"
   ]
  },
  {
   "cell_type": "code",
   "execution_count": 23,
   "metadata": {},
   "outputs": [
    {
     "name": "stdout",
     "output_type": "stream",
     "text": [
      "Enter x between -1 and 1: 0.5\n",
      "Enter epsilon: 0.000001\n",
      "tanh-1(0.5) = 0.549305565717919\n"
     ]
    }
   ],
   "source": [
    "def estimate_tanh_inv(x, epsilon):\n",
    "    '''(float, float) -> float\n",
    "    Returns an estimate of tanh^-1 based on the series:\n",
    "    tanh-1(x) = x + x3/3 + x5/5 + x7/7 + x9/9 + ...\n",
    "    Stops when the next item is the series is less than epsilon\n",
    "    '''\n",
    "    # initialize variables\n",
    "    tanh_inv = 0\n",
    "    num = 3\n",
    "    \n",
    "    # calculate first term\n",
    "    term = x\n",
    "    while term > epsilon:\n",
    "        tanh_inv = tanh_inv + term\n",
    "        # calculate next term\n",
    "        term = x**num/num\n",
    "        num = num + 2\n",
    "    \n",
    "    return tanh_inv\n",
    "\n",
    "x = -2\n",
    "while x < -1.0 or x > 1.0:\n",
    "    x = float(input(\"Enter x between -1 and 1: \"))\n",
    "    eps = float(input(\"Enter epsilon: \"))\n",
    "\n",
    "tanh_inv = estimate_tanh_inv(x,eps)\n",
    "print(\"tanh-1(\", x, \") = \", tanh_inv, sep=\"\")"
   ]
  },
  {
   "cell_type": "markdown",
   "metadata": {},
   "source": [
    "One question that I have about this code is how many iterations does the while-loop do depending on epsilon? Does it go for a long time or just a few iterations? We can add some code to make some measurements."
   ]
  },
  {
   "cell_type": "code",
   "execution_count": 26,
   "metadata": {},
   "outputs": [
    {
     "name": "stdout",
     "output_type": "stream",
     "text": [
      "Enter x between -1 and 1: 0.4\n",
      "Enter epsilon: 0.0000001\n",
      "num iters: 7\n",
      "tanh-1(0.4) = 0.42364884681296877\n"
     ]
    }
   ],
   "source": [
    "def estimate_tanh_inv(x, epsilon):\n",
    "    '''(float, float) -> float\n",
    "    Returns an estimate of tanh^-1 based on the series:\n",
    "    tanh-1(x) = x + x3/3 + x5/5 + x7/7 + x9/9 + ...\n",
    "    Stops when the next item is the series is less than epsilon\n",
    "    '''\n",
    "    # initialize variables\n",
    "    tanh_inv = 0\n",
    "    num = 3\n",
    "    \n",
    "    # calculate first term\n",
    "    term = x\n",
    "    \n",
    "    iters = 0\n",
    "    while term > epsilon:\n",
    "        tanh_inv = tanh_inv + term\n",
    "        # calculate next term\n",
    "        term = x**num/num\n",
    "        num = num + 2\n",
    "        iters = iters + 1\n",
    "    \n",
    "    print(\"num iters:\", iters)\n",
    "    \n",
    "    return tanh_inv\n",
    "\n",
    "x = -2\n",
    "while x < -1.0 or x > 1.0:\n",
    "    x = float(input(\"Enter x between -1 and 1: \"))\n",
    "    eps = float(input(\"Enter epsilon: \"))\n",
    "\n",
    "tanh_inv = estimate_tanh_inv(x,eps)\n",
    "print(\"tanh-1(\", x, \") = \", tanh_inv, sep=\"\")"
   ]
  },
  {
   "cell_type": "markdown",
   "metadata": {},
   "source": [
    "<div class=\"alert alert-block alert-info\">\n",
    "<big><b>This Lecture</b></big>\n",
    "    \n",
    "\n",
    "<ul>  \n",
    " <li>infinite loops</li>  \n",
    "    <li>practice with loops!</li>\n",
    "</ul>  \n",
    "\n",
    "</div>\n"
   ]
  },
  {
   "cell_type": "code",
   "execution_count": null,
   "metadata": {},
   "outputs": [],
   "source": []
  }
 ],
 "metadata": {
  "kernelspec": {
   "display_name": "Python 3",
   "language": "python",
   "name": "python3"
  },
  "language_info": {
   "codemirror_mode": {
    "name": "ipython",
    "version": 3
   },
   "file_extension": ".py",
   "mimetype": "text/x-python",
   "name": "python",
   "nbconvert_exporter": "python",
   "pygments_lexer": "ipython3",
   "version": "3.7.2"
  }
 },
 "nbformat": 4,
 "nbformat_minor": 1
}
