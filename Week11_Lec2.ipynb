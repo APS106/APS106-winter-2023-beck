{
 "cells": [
  {
   "cell_type": "markdown",
   "metadata": {},
   "source": [
    "# APS106 Lecture Notes - Week 11, Lecture 2\n",
    "# Advanced Data Structures\n",
    "\n",
    "## Linked Lists\n",
    "\n",
    "Linked lists are a linear collection of data elements made up of nodes. Each node contains a link to the next node in the list and a unit (or multiple units) of data (i.e. str, int, list, set, etc.) that we will call the \"cargo\". Linked-list data structures allow for efficient insertion and removal of elements from any position in the sequence without needing to reallocate or reorganize the data. The last node in a linked list is None and does not provide a link to any other nodes.\n",
    "\n",
    "![LinkedList1](images/linked1.png)\n",
    "\n",
    "Insertion of a new node requires that the previous node (node1) point to the new node (new_node), and the new node points to where the previous node had pointed to before (node2).\n",
    "\n",
    "![LinkedList2](images/linked2.png)\n",
    "\n",
    "Let us now use our knowledge of classes to prepare a linked list data structure in Python.\n",
    "\n",
    "### The Node class\n",
    "\n",
    "As usual when writing a new class, we’ll start with the initialization, __init__ and __str__ methods so that we can test the basic mechanism of creating and displaying the new type:\n"
   ]
  },
  {
   "cell_type": "code",
   "execution_count": 2,
   "metadata": {},
   "outputs": [
    {
     "name": "stdout",
     "output_type": "stream",
     "text": [
      "test\n"
     ]
    }
   ],
   "source": [
    "class Node:\n",
    "    '''An object that represents an element in a linked list'''\n",
    "    \n",
    "    def __init__(self, cargo=None, next=None):\n",
    "        '''\n",
    "        (self,object,Node) -> NoneType\n",
    "        '''\n",
    "        self.cargo = cargo\n",
    "        self.next  = next\n",
    "\n",
    "    def __str__(self):\n",
    "        return str(self.cargo)\n",
    "\n",
    "node = Node(\"test\")\n",
    "print(node)"
   ]
  },
  {
   "cell_type": "markdown",
   "metadata": {},
   "source": [
    "To make it interesting, we need a list with more than one node:"
   ]
  },
  {
   "cell_type": "code",
   "execution_count": 3,
   "metadata": {},
   "outputs": [],
   "source": [
    "node1 = Node(1)\n",
    "node2 = Node(2)\n",
    "node3 = Node(3)"
   ]
  },
  {
   "cell_type": "markdown",
   "metadata": {},
   "source": [
    "This code creates three nodes, but we don’t have a list yet because the nodes are not linked. The state diagram looks like this:\n",
    "\n",
    "![LinkedList3](images/linked3.png)\n",
    "\n",
    "To link the nodes, we have to make the first node refer to the second and the second node refer to the third:"
   ]
  },
  {
   "cell_type": "code",
   "execution_count": 4,
   "metadata": {},
   "outputs": [
    {
     "name": "stdout",
     "output_type": "stream",
     "text": [
      "1\n",
      "2\n",
      "3\n"
     ]
    }
   ],
   "source": [
    "node1.next = node2\n",
    "node2.next = node3\n",
    "\n",
    "# iterate through linked list\n",
    "n = node1\n",
    "while n:\n",
    "    print(n)\n",
    "    n = n.next"
   ]
  },
  {
   "cell_type": "markdown",
   "metadata": {},
   "source": [
    "The `next` reference of the third node is None, which indicates that it is the end of the list. Now the state diagram looks like this:\n",
    "\n",
    "![LinkedList4](images/linked4.png)\n",
    "\n",
    "We can also add additional elements to the list."
   ]
  },
  {
   "cell_type": "code",
   "execution_count": 6,
   "metadata": {},
   "outputs": [
    {
     "name": "stdout",
     "output_type": "stream",
     "text": [
      "\n",
      "7\n",
      "6\n",
      "5\n",
      "4\n",
      "3\n",
      "1\n",
      "2\n",
      "3\n"
     ]
    }
   ],
   "source": [
    "l = [3,4,5,6,7]\n",
    "head = node1\n",
    "for c in l:\n",
    "    n = Node(c)\n",
    "    n.next = head\n",
    "    head = n\n",
    "\n",
    "print()\n",
    "n = head\n",
    "while n:\n",
    "    print(n)\n",
    "    n = n.next"
   ]
  },
  {
   "cell_type": "markdown",
   "metadata": {},
   "source": [
    "Draw a diagram of the list now.\n",
    "\n",
    "### Lists as collections\n",
    "\n",
    "Lists are useful because they provide a way to assemble multiple objects into a single entity, sometimes called a collection. The first and last nodes of a linked list are also known as the head and tail of the list, respectively. In the example the first node of the list (head) serves as a reference to the entire list.\n",
    "\n",
    "To pass the list as a parameter, we only have to pass a reference to the first node. For example, the function print_list takes a single node as an argument; starting with the head of the list, it prints each node until it gets to the end or tail of the list, this is also called traversing the list:\n"
   ]
  },
  {
   "cell_type": "code",
   "execution_count": 7,
   "metadata": {},
   "outputs": [
    {
     "name": "stdout",
     "output_type": "stream",
     "text": [
      "1\n",
      "2\n",
      "3\n",
      "\n",
      "2\n",
      "3\n"
     ]
    }
   ],
   "source": [
    "class Node:\n",
    "    def __init__(self, cargo=None, next=None):\n",
    "        self.cargo = cargo\n",
    "        self.next  = next\n",
    "\n",
    "    def __str__(self):\n",
    "        return str(self.cargo)\n",
    "\n",
    "\n",
    "#function to print linked nodes\n",
    "def print_list(n):\n",
    "    while n:\n",
    "        print(n)\n",
    "        n = n.next\n",
    "    \n",
    "node1 = Node(1)\n",
    "node2 = Node(2)\n",
    "node3 = Node(3)\n",
    "\n",
    "node1.next = node2\n",
    "node2.next = node3\n",
    "\n",
    "print_list(node1)\n",
    "print()\n",
    "print_list(node2)"
   ]
  },
  {
   "cell_type": "markdown",
   "metadata": {},
   "source": [
    "Inside print_list we have a reference to the first node of the list, but there is no variable that refers to the other nodes. We have to use the `next` value from each node to get to the next node. To traverse a linked list, it is common to use a loop variable like `node` to refer to each of the nodes in succession.\n",
    "\n",
    "What would happen if we input `node2` instead of `node1`?\n"
   ]
  },
  {
   "cell_type": "code",
   "execution_count": 7,
   "metadata": {},
   "outputs": [
    {
     "name": "stdout",
     "output_type": "stream",
     "text": [
      "2\n",
      "3\n"
     ]
    }
   ],
   "source": [
    "print_list(node2)"
   ]
  },
  {
   "cell_type": "markdown",
   "metadata": {},
   "source": [
    "### Infinite Lists\n",
    "\n",
    "There is nothing to prevent a node from referring back to an earlier node in the list, including itself. For example:\n"
   ]
  },
  {
   "cell_type": "code",
   "execution_count": 8,
   "metadata": {},
   "outputs": [],
   "source": [
    "node4 = Node(4)\n",
    "node5 = Node(5)\n",
    "\n",
    "node4.next = node5\n",
    "node5.next = node5\n"
   ]
  },
  {
   "cell_type": "markdown",
   "metadata": {},
   "source": [
    "This is usually a bug."
   ]
  },
  {
   "cell_type": "markdown",
   "metadata": {},
   "source": [
    "### Modifying lists\n",
    "\n",
    "There are two ways to modify a linked list. Obviously, we can change the cargo of one of the nodes, but the more interesting operations are the ones that add, remove, or reorder the nodes.\n",
    "\n",
    "As an example, let’s write a method that removes the second node in the list and returns a reference to the removed node:\n"
   ]
  },
  {
   "cell_type": "code",
   "execution_count": 10,
   "metadata": {},
   "outputs": [
    {
     "name": "stdout",
     "output_type": "stream",
     "text": [
      "1\n",
      "2\n",
      "3\n",
      "\n",
      "2\n",
      "\n",
      "1\n",
      "3\n"
     ]
    }
   ],
   "source": [
    "def remove_second(node):\n",
    "    '''Remove and return the second element of the list'''\n",
    "    if list is None:\n",
    "        return None\n",
    "    \n",
    "    first = node\n",
    "    second = node.next\n",
    "    \n",
    "    first.next = second.next\n",
    "    second.next = None\n",
    "    \n",
    "    return second\n",
    "\n",
    "\n",
    "print_list(node1)\n",
    "print()\n",
    "removed = remove_second(node1)\n",
    "print_list(removed)\n",
    "print()\n",
    "print_list(node1)\n"
   ]
  },
  {
   "cell_type": "markdown",
   "metadata": {},
   "source": [
    "Next week, we'll look at a more general `remove` function."
   ]
  },
  {
   "cell_type": "markdown",
   "metadata": {},
   "source": [
    "### Print Backwards\n",
    "\n",
    "How would we print the list backwards? Notice that the code we used to print the list forward doesn't really work since there is no easy way to find the \"previous\" node. And how do we find the end of the list?"
   ]
  },
  {
   "cell_type": "code",
   "execution_count": 3,
   "metadata": {},
   "outputs": [],
   "source": [
    "#function to print linked nodes\n",
    "def print_list(n):\n",
    "    while n:\n",
    "        print(n)\n",
    "        n = n.next "
   ]
  },
  {
   "cell_type": "markdown",
   "metadata": {},
   "source": [
    "We could do this recursively (but we are not going to talk about recursion in APS106 - if you are interested you can google it) and the only other way is:\n",
    "1. traverse forward though the linked list, saving the elements we want to print out later in sme data structure\n",
    "1. using the data sructure just created, print the elements out backward"
   ]
  },
  {
   "cell_type": "code",
   "execution_count": 1,
   "metadata": {},
   "outputs": [
    {
     "name": "stdout",
     "output_type": "stream",
     "text": [
      "Print forward\n",
      "0 1 2 3 4 5 6 7 \n"
     ]
    }
   ],
   "source": [
    "class Node:\n",
    "    def __init__(self, cargo=None, next=None):\n",
    "        self.cargo = cargo\n",
    "        self.next  = next\n",
    "\n",
    "    def __str__(self):\n",
    "        return str(self.cargo)\n",
    "\n",
    "\n",
    "#function to print linked nodes\n",
    "def print_forward(n):\n",
    "    while n:\n",
    "        print(n, end = \" \")\n",
    "        n = n.next \n",
    "        \n",
    "# create a list\n",
    "l = list(range(7,-1,-1))\n",
    "head = Node(l[0])\n",
    "for c in l[1:]:\n",
    "    n = Node(c)\n",
    "    n.next = head\n",
    "    head = n\n",
    "\n",
    "print(\"Print forward\")\n",
    "print_forward(head)\n",
    "print()\n",
    "\n",
    "#print(\"Print backward\")\n",
    "#head.print_backward()"
   ]
  },
  {
   "cell_type": "code",
   "execution_count": 2,
   "metadata": {},
   "outputs": [
    {
     "name": "stdout",
     "output_type": "stream",
     "text": [
      "Print forward\n",
      "0 1 2 3 4 5 6 7 \n",
      "Print backward\n",
      "7 6 5 4 3 2 1 0 \n"
     ]
    }
   ],
   "source": [
    "def print_backward(n):\n",
    "    backward_list = []\n",
    "    while n:\n",
    "        backward_list.insert(0,n)\n",
    "        n = n.next \n",
    "\n",
    "    for n in backward_list:\n",
    "        print(n, end = \" \")\n",
    "\n",
    "print(\"Print forward\")\n",
    "print_forward(head)\n",
    "print()\n",
    "\n",
    "print(\"Print backward\")\n",
    "print_backward(head)\n",
    "print()"
   ]
  },
  {
   "cell_type": "markdown",
   "metadata": {},
   "source": [
    "### A General Approach to Removing Elements from a Linked List\n",
    "\n",
    "We saw above how to remove the second element from a list. This is not really that useful - how many times are we going to know that it is the second item we want to remove?\n",
    "\n",
    "How about creating a remove() funciton that takes the value of a cargo and remove **all** elements with that value? "
   ]
  },
  {
   "cell_type": "code",
   "execution_count": 5,
   "metadata": {},
   "outputs": [
    {
     "name": "stdout",
     "output_type": "stream",
     "text": [
      "6 2 11 5 8 16 18 17 1 1 9 18 5 5 17 3 6 11 20 18 "
     ]
    }
   ],
   "source": [
    "import random\n",
    "\n",
    "class Node:\n",
    "    def __init__(self, cargo=None, next=None):\n",
    "        self.cargo = cargo\n",
    "        self.next  = next\n",
    "\n",
    "    def __str__(self):\n",
    "        return str(self.cargo)\n",
    "\n",
    "#function to print linked nodes\n",
    "def print_forward(n):\n",
    "    while n:\n",
    "        print(n, end = \" \")\n",
    "        n = n.next \n",
    "        \n",
    "# create a list\n",
    "head = None\n",
    "max_cargo = 20\n",
    "for ele in range(0,20):\n",
    "    n = Node(random.randrange(0,max_cargo+1))\n",
    "    n.next = head\n",
    "    head = n\n",
    "\n",
    "print_forward(head)\n"
   ]
  },
  {
   "cell_type": "markdown",
   "metadata": {},
   "source": [
    "Let's first solve an easier problem. What if we want to remove one item of a given value?\n",
    "\n",
    "If we want to remove an element what do we need? Let's say I know I want to remove the 13th element. How do I do it?"
   ]
  },
  {
   "cell_type": "code",
   "execution_count": 12,
   "metadata": {},
   "outputs": [
    {
     "name": "stdout",
     "output_type": "stream",
     "text": [
      "9 8 7 6 5 4 3 2 1 0 \n",
      "9 8 7 6 5 4 3 2 1 0 "
     ]
    }
   ],
   "source": [
    "def remove_one_element(head, item):\n",
    "    '''\n",
    "    (Node, numbber) -> bool\n",
    "    Remove a single list element with cargo equal to cargo_to_remove.\n",
    "    Return True if an item is removed and False if no such item was on the list\n",
    "    '''\n",
    "    # create two references that move in step through the list\n",
    "    previous = None\n",
    "    current = head\n",
    "        \n",
    "    # find an item to remove: current will reference the matching item, previous the Node before\n",
    "    while current and current.cargo != item:\n",
    "        previous = current\n",
    "        current = current.next\n",
    "            \n",
    "    if current:  # found the item\n",
    "        if previous is None:              # removing the first element\n",
    "            head = current.next\n",
    "            # this condition is a problem. Why?\n",
    "            # in fact it is a major problem such that we need to rethink our whole approach\n",
    "        else:                             # removing internal element\n",
    "            previous.next = current.next\n",
    "            \n",
    "        current.next = None\n",
    "        return True\n",
    "    \n",
    "    return False\n",
    "\n",
    "# create a list\n",
    "head = None\n",
    "max_cargo = 10\n",
    "for ele in range(0,max_cargo):\n",
    "    n = Node(ele)\n",
    "    n.next = head\n",
    "    head = n\n",
    "    \n",
    "print_forward(head)\n",
    "print()\n",
    "\n",
    "remove_one_element(head, 9)\n",
    "print_forward(head)"
   ]
  },
  {
   "cell_type": "markdown",
   "metadata": {},
   "source": [
    "Oh no. We have a major design problem here. "
   ]
  },
  {
   "cell_type": "code",
   "execution_count": 11,
   "metadata": {},
   "outputs": [
    {
     "name": "stdout",
     "output_type": "stream",
     "text": [
      "9 None\n"
     ]
    }
   ],
   "source": [
    "print(head.cargo, head.next)"
   ]
  },
  {
   "cell_type": "markdown",
   "metadata": {},
   "source": [
    "Even though we reassigned `head` inside the function, `head` outside the function, of course, doesn't change. There is no easy way to fix this with our design. We need to re-think  our approach to this - which is what we will do next week."
   ]
  },
  {
   "cell_type": "markdown",
   "metadata": {},
   "source": [
    "<div class=\"alert alert-block alert-info\">\n",
    "<big><b>This Lecture</b></big>\n",
    "<ul>  \n",
    " <li>Linked list are a flexible data structure where each element links (references) the next element in the list</li>  \n",
    "<li>Using functions and/or methods on a Node class, we can implement functionality to add, remove, print linked lists.</li>  \n",
    "    <li>However, the design of functionality can be subtle and we might not be able to do what we want to do with all designs.</li>  \n",
    "</ul>  \n",
    "</div>"
   ]
  },
  {
   "cell_type": "code",
   "execution_count": null,
   "metadata": {},
   "outputs": [],
   "source": []
  }
 ],
 "metadata": {
  "kernelspec": {
   "display_name": "Python 3",
   "language": "python",
   "name": "python3"
  },
  "language_info": {
   "codemirror_mode": {
    "name": "ipython",
    "version": 3
   },
   "file_extension": ".py",
   "mimetype": "text/x-python",
   "name": "python",
   "nbconvert_exporter": "python",
   "pygments_lexer": "ipython3",
   "version": "3.7.2"
  }
 },
 "nbformat": 4,
 "nbformat_minor": 1
}
