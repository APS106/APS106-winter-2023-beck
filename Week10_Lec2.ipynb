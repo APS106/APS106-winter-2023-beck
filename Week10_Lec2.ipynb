{
 "cells": [
  {
   "cell_type": "markdown",
   "metadata": {},
   "source": [
    "# APS106 Lecture Notes - Week 10, Lecture 2\n",
    "# Object-Oriented Programming\n",
    "\n",
    "# Methods\n",
    "\n",
    "We’ve already seen methods for objects like `Turtle` and `str`. A method behaves like a function but it is invoked on a specific instance, i.e. `tina.right(90)`. Like a data attribute, methods are accessed using dot notation.\n",
    "\n",
    "An object is not just a collection of related data but also of related methods! This is a very powerful organizational idea for our programs and our thinking.\n",
    "\n",
    "We can group together the sensible operations, and the kinds of data they apply to, and each instance of the class can have its own state. For example, if we have 3 ovens, with each one set to a different temperature, then all of that would be maintained inside three different `Oven` objects and when we call a method on one of the objects, it can respond appropriately based on its temperature (i.e. a hot oven may provide a red warning light, whereas a cold oven would not). \n",
    "\n",
    "The key advantage of using a class like `Point` rather than a simple tuple (2, 4) is that we can add methods to the `Point` class that are sensible for points, but which may not be appropriate for other tuples like (25, 12) which might represent, say, a day and a month, e.g. Christmas day. So being able to calculate the distance from the origin is sensible for points, but not for (day, month) data. For (day, month) data, we’d like different operations, perhaps to find what day of the week it will fall on in some year in the future.\n",
    "\n",
    "Extend the `Point` class from the last lecture by adding a `distance_from_origin` method.\n"
   ]
  },
  {
   "cell_type": "code",
   "execution_count": 1,
   "metadata": {},
   "outputs": [
    {
     "name": "stdout",
     "output_type": "stream",
     "text": [
      "3\n",
      "4\n",
      "Outside 4406570848\n",
      "Inside 4406570848\n",
      "5.0\n",
      "Outside 4406570904\n",
      "Inside 4406570904\n",
      "0.0\n"
     ]
    }
   ],
   "source": [
    "class Point:\n",
    "    \"\"\" A 2D point, at coordinates x, y \"\"\"\n",
    "\n",
    "    def __init__(self, x=0, y=0):\n",
    "        ''' \n",
    "        (self) -> None\n",
    "        Initializes a new point at (x,y), defaults to (0,0)\n",
    "        '''\n",
    "        self.x = x\n",
    "        self.y = y\n",
    "\n",
    "    def distance_from_origin(self):\n",
    "        ''' \n",
    "        (self) -> float\n",
    "        Returns the distance of teh current point to (0,0)\n",
    "        '''\n",
    "        return (self.x**2 + self.y**2)**0.5\n",
    "    \n",
    "p = Point(3,4)\n",
    "print(p.x)\n",
    "print(p.y)\n",
    "\n",
    "print(p.distance_from_origin())\n",
    "\n",
    "q = Point()\n",
    "print(q.distance_from_origin())\n"
   ]
  },
  {
   "cell_type": "markdown",
   "metadata": {},
   "source": [
    "A common error is to omit the self argument as the first parameter of a method definition. In such cases, calling the method produces an error indicating too many arguments to the method were given by the programmer, because a method call automatically inserts an instance reference as the first argument.\n",
    "\n",
    "When defining a method, the first parameter refers to the instance being manipulated. As already noted, it is customary to name this parameter `self`. Notice that when you call `distance_from_origin` you do not explicitly provide an instance of `Point` as an argument (i.e., in the parenthesis) — this is done for us internally.\n"
   ]
  },
  {
   "cell_type": "markdown",
   "metadata": {},
   "source": [
    "Let’s create a few point instances, look at their attributes, and call our new method on them"
   ]
  },
  {
   "cell_type": "code",
   "execution_count": 2,
   "metadata": {},
   "outputs": [
    {
     "name": "stdout",
     "output_type": "stream",
     "text": [
      "3\n",
      "4\n",
      "5.0\n",
      "5\n",
      "12\n",
      "13.0\n",
      "0\n",
      "0\n",
      "0.0\n",
      "[<__main__.Point object at 0x1047bccc0>, <__main__.Point object at 0x1047bce80>, <__main__.Point object at 0x1046922e8>]\n"
     ]
    }
   ],
   "source": [
    "p = Point(3,4)\n",
    "print(p.x)\n",
    "print(p.y)\n",
    "print(p.distance_from_origin())\n",
    "\n",
    "q = Point(5, 12)\n",
    "print(q.x)\n",
    "print(q.y)\n",
    "print(q.distance_from_origin())\n",
    "\n",
    "r = Point()\n",
    "print(r.x)\n",
    "print(r.y)\n",
    "print(r.distance_from_origin())\n",
    "\n",
    "point_list = [p, q, r]\n",
    "print(point_list)"
   ]
  },
  {
   "cell_type": "markdown",
   "metadata": {},
   "source": [
    "## Two ways to call methods\n",
    "\n",
    "There are two ways to call a method. One way is to access the method through the class name and pass in the object."
   ]
  },
  {
   "cell_type": "code",
   "execution_count": 3,
   "metadata": {},
   "outputs": [
    {
     "name": "stdout",
     "output_type": "stream",
     "text": [
      "5.0\n",
      "Browning\n"
     ]
    }
   ],
   "source": [
    "print(Point.distance_from_origin(p))\n",
    "print(str.capitalize(\"browning\"))"
   ]
  },
  {
   "cell_type": "markdown",
   "metadata": {},
   "source": [
    " The other is to use object-oriented syntax."
   ]
  },
  {
   "cell_type": "code",
   "execution_count": 4,
   "metadata": {},
   "outputs": [
    {
     "name": "stdout",
     "output_type": "stream",
     "text": [
      "5.0\n",
      "Browning\n"
     ]
    }
   ],
   "source": [
    "print(p.distance_from_origin())\n",
    "print(\"browning\".capitalize())"
   ]
  },
  {
   "cell_type": "markdown",
   "metadata": {},
   "source": [
    "Personally, I always use the OO way of doing it."
   ]
  },
  {
   "cell_type": "markdown",
   "metadata": {},
   "source": [
    "## Objects and Functions\n",
    "\n",
    "Functions and methods can return instances. For example, given two `Point` objects, what if you want to create a point halfway in between? First we’ll write this as a regular function:\n"
   ]
  },
  {
   "cell_type": "code",
   "execution_count": 5,
   "metadata": {},
   "outputs": [
    {
     "name": "stdout",
     "output_type": "stream",
     "text": [
      "4.0 8.0\n"
     ]
    }
   ],
   "source": [
    "def midpoint(p1, p2):\n",
    "    \"\"\" \n",
    "    (Point, Point) -> Point\n",
    "    Returns the midpoint of points p1 and p2 \n",
    "    \"\"\"\n",
    "    mx = (p1.x + p2.x)/2\n",
    "    my = (p1.y + p2.y)/2\n",
    "    return Point(mx,my)\n",
    "\n",
    "p = Point(3, 4)\n",
    "q = Point(5, 12)\n",
    "r = midpoint(p, q)\n",
    "print(r.x, r.y)"
   ]
  },
  {
   "cell_type": "markdown",
   "metadata": {},
   "source": [
    "Let's do this as a method instead. Suppose we have a `Point` object, and wish to find the midpoint halfway between it and some other target point:"
   ]
  },
  {
   "cell_type": "code",
   "execution_count": 6,
   "metadata": {},
   "outputs": [
    {
     "name": "stdout",
     "output_type": "stream",
     "text": [
      "4.0 8.0\n",
      "4.0 8.0\n"
     ]
    }
   ],
   "source": [
    "class Point:\n",
    "    \"\"\" A 2D point, at coordinates x, y \"\"\"\n",
    "\n",
    "    def __init__(self, x=0, y=0):\n",
    "        ''' \n",
    "        (self) -> None\n",
    "        Initializes a new point at (x,y), defaults to (0,0)\n",
    "        '''\n",
    "        self.x = x\n",
    "        self.y = y\n",
    "\n",
    "    def distance_from_origin(self):\n",
    "        ''' \n",
    "        (self) -> float\n",
    "        Returns the distance of teh current point to (0,0)\n",
    "        '''\n",
    "        return (self.x**2 + self.y**2)**0.5\n",
    "    \n",
    "    def halfway(self, target):\n",
    "        \"\"\" \n",
    "        (self,Point) -> Point\n",
    "        Return the halfway point between myself and the target\n",
    "        \"\"\"\n",
    "        mx = (self.x + target.x)/2\n",
    "        my = (self.y + target.y)/2\n",
    "        return Point(mx,my)\n",
    "\n",
    "p = Point(3, 4)\n",
    "q = Point(5, 12)\n",
    "r = p.halfway(q) # call the method\n",
    "s = Point.halfway(p,q)\n",
    "print(r.x, r.y)\n",
    "print(s.x, s.y)"
   ]
  },
  {
   "cell_type": "markdown",
   "metadata": {},
   "source": [
    "While this example assigns each point to a variable, this need not be done. Here is an alternative that uses no explicit variables that will blow your mind:"
   ]
  },
  {
   "cell_type": "code",
   "execution_count": 7,
   "metadata": {},
   "outputs": [
    {
     "name": "stdout",
     "output_type": "stream",
     "text": [
      "<__main__.Point object at 0x1045f9128>\n",
      "4.0\n"
     ]
    }
   ],
   "source": [
    "print(Point(3,4).halfway(Point(5,12)))\n",
    "print(Point(3,4).halfway(Point(5,12)).x)"
   ]
  },
  {
   "cell_type": "markdown",
   "metadata": {},
   "source": [
    "## Objects as Data Attributes of Classes\n",
    "\n",
    "Objects are programmer-created data types that can be used just like other data types. In particular, the data in an object can be in the form of instances of other classes."
   ]
  },
  {
   "cell_type": "code",
   "execution_count": 11,
   "metadata": {},
   "outputs": [
    {
     "name": "stdout",
     "output_type": "stream",
     "text": [
      "<__main__.Square object at 0x7fa4e469c588>\n",
      "225\n",
      "7.5 7.5\n"
     ]
    }
   ],
   "source": [
    "import math\n",
    "\n",
    "class Point:\n",
    "    \"\"\" A 2D point, at coordinates x, y \"\"\"\n",
    "\n",
    "    def __init__(self, x=0, y=0):\n",
    "        ''' \n",
    "        (self) -> None\n",
    "        Initializes a new point at (x,y), defaults to (0,0)\n",
    "        '''\n",
    "        self.x = x\n",
    "        self.y = y\n",
    "\n",
    "    def calculate_distance(self, other):\n",
    "        ''' \n",
    "        (self,Point) -> float\n",
    "        Calculates the Euclidean distance between self and other\n",
    "        '''\n",
    "        return math.sqrt((self.x - other.x)**2 + (self.y - other.y)**2)\n",
    "\n",
    "    def distance_from_origin(self):\n",
    "        ''' \n",
    "        (self) -> float\n",
    "        Returns the distance of teh current point to (0,0)\n",
    "        '''\n",
    "        return self.calculate_distance(Point(0,0))\n",
    "    \n",
    "    \n",
    "    def halfway(self, target):\n",
    "        \"\"\" \n",
    "        (self,Point) -> Point\n",
    "        Return the halfway point between myself and the target\n",
    "        \"\"\"\n",
    "        mx = (self.x + target.x)/2\n",
    "        my = (self.y + target.y)/2\n",
    "        return Point(mx,my)\n",
    "\n",
    "class Square:\n",
    "    '''A square represent by 2 Points: lower left and upper right'''\n",
    "    \n",
    "    def __init__(self, x1 = 0, y1 = 0, x2 = 0, y2 = 0):\n",
    "        '''\n",
    "        (self,number,number,number,number) -> None\n",
    "        Initializes a point with (x1,y1) as lower left corner and \n",
    "        (x2,y2) as upper-right corner. All default to zeros.\n",
    "        '''\n",
    "        self.lower_left = Point(x1,y1)\n",
    "        self.upper_right = Point(x2,y2)\n",
    "    \n",
    "    def area(self):\n",
    "        '''\n",
    "        (self) -> number\n",
    "        Returns the area of the square\n",
    "        '''\n",
    "        return ((self.upper_right.x - self.lower_left.x) *\n",
    "            (self.upper_right.y - self.lower_left.y))\n",
    "    \n",
    "    def centre(self):\n",
    "        '''\n",
    "        (self) -> Point\n",
    "        Returns the Point in the middle of the square\n",
    "        '''\n",
    "        return self.upper_right.halfway(self.lower_left)\n",
    "\n",
    "s = Square(0, 0, 15, 15)\n",
    "print(s)\n",
    "print(s.area())\n",
    "\n",
    "c = s.centre()\n",
    "print(c.x, c.y)\n",
    "\n"
   ]
  },
  {
   "cell_type": "markdown",
   "metadata": {},
   "source": [
    "## Objects in Collections\n",
    "\n",
    "Of course, you can put objects in lists, tuples, etc."
   ]
  },
  {
   "cell_type": "code",
   "execution_count": 12,
   "metadata": {},
   "outputs": [
    {
     "name": "stdout",
     "output_type": "stream",
     "text": [
      "35.35533905932738\n",
      "35.35533905932738\n"
     ]
    }
   ],
   "source": [
    "points = [Point(), Point(25,25), Point(50,50)]\n",
    "\n",
    "for i in range(len(points)-1):\n",
    "    print(points[i].calculate_distance(points[i+1]))\n"
   ]
  },
  {
   "cell_type": "markdown",
   "metadata": {},
   "source": [
    "What about dictionaries?"
   ]
  },
  {
   "cell_type": "code",
   "execution_count": 13,
   "metadata": {},
   "outputs": [
    {
     "name": "stdout",
     "output_type": "stream",
     "text": [
      "0\n"
     ]
    }
   ],
   "source": [
    "my_points = {\"origin\" : Point(0,0)}\n",
    "print(my_points[\"origin\"].x)"
   ]
  },
  {
   "cell_type": "markdown",
   "metadata": {},
   "source": [
    "## More Examples\n",
    "\n",
    "Let's go back to the `PatientData` class from the last lecture."
   ]
  },
  {
   "cell_type": "code",
   "execution_count": 1,
   "metadata": {},
   "outputs": [
    {
     "name": "stdout",
     "output_type": "stream",
     "text": [
      "Patient data (before): 0 cm, 0 kg\n",
      "Patient data (after): 155 cm, 52 kg\n"
     ]
    }
   ],
   "source": [
    "class PatientData:\n",
    "    '''A class that stores and manipulates patient data'''\n",
    "    \n",
    "    def __init__(self):\n",
    "        ''' (self) -> None\n",
    "        Initializes patient with data of 0\n",
    "        '''\n",
    "        self.height_cm = 0\n",
    "        self.weight_kg = 0\n",
    "\n",
    "    def print(self):\n",
    "        ''' \n",
    "        (self) -> None\n",
    "        Print the object\n",
    "        '''        \n",
    "        print(self.height_cm, \"cm,\", self.weight_kg, \"kg\")\n",
    "\n",
    "Luna_Lovegood = PatientData()\n",
    "print('Patient data (before):', end=' ')\n",
    "print(Luna_Lovegood.height_cm, 'cm,', end=' ')\n",
    "print(Luna_Lovegood.weight_kg, 'kg')\n",
    "\n",
    "\n",
    "Luna_Lovegood.height_cm = 155\n",
    "Luna_Lovegood.weight_kg = 52\n",
    "\n",
    "print('Patient data (after):', end=' ')\n",
    "print(Luna_Lovegood.height_cm, 'cm,', end=' ')\n",
    "print(Luna_Lovegood.weight_kg, 'kg')\n"
   ]
  },
  {
   "cell_type": "markdown",
   "metadata": {},
   "source": [
    "One thing that is missing is that `PatientData` does not contain any identifying information about the actual patient, just their height and weight. In a real system, we would probably want to know who the patient is.\n",
    "\n",
    "Also imagine that we want to keep medical records and so their may be multiple instances of `PatientData` for the same patient. You might get weighed and measured every year by your doctor.\n",
    "\n",
    "Given these two points (need to know who the patient is and want to record multiple instances of `PatientData`, how do you want to re-design `PatientData`?"
   ]
  },
  {
   "cell_type": "code",
   "execution_count": 4,
   "metadata": {},
   "outputs": [],
   "source": [
    "class Patient:\n",
    "    '''A class that stores identifying and contact information about a patient'''\n",
    "    \n",
    "    def __init__(self, name, family_name):\n",
    "        '''(self, str, str) -> None\n",
    "        Initialized patient contact information\n",
    "        '''\n",
    "        self.name = name\n",
    "        self.family_name = family_name\n",
    "        self.cell_number = \"\"\n",
    "        self.OHIP_number = \"\"\n",
    "        "
   ]
  },
  {
   "cell_type": "code",
   "execution_count": 7,
   "metadata": {},
   "outputs": [
    {
     "name": "stdout",
     "output_type": "stream",
     "text": [
      "same patient\n",
      "Luna Lovegood 154 cm, 70 kg\n",
      "Luna Lovegood 154 cm, 72 kg\n"
     ]
    }
   ],
   "source": [
    "class PatientData:\n",
    "    '''A class that stores and manipulates patient data'''\n",
    "    \n",
    "    def __init__(self,p,d):\n",
    "        ''' (self, Patient. tuple) -> None\n",
    "        Initializes patient with data of 0\n",
    "        '''\n",
    "        self.patient = p\n",
    "        self.date_of_measurements = d\n",
    "        self.height_cm = 0\n",
    "        self.weight_kg = 0\n",
    "\n",
    "    def print(self):\n",
    "        ''' \n",
    "        (self) -> None\n",
    "        Print the object\n",
    "        '''        \n",
    "        print(self.patient.name, self.patient.family_name, self.height_cm, \"cm,\", self.weight_kg, \"kg\")\n",
    "\n",
    "Luna_Lovegood = Patient(\"Luna\", \"Lovegood\")\n",
    "m = PatientData(Luna_Lovegood,(1,3,2021))\n",
    "m.height_cm = 154\n",
    "m.weight_kg = 70\n",
    "\n",
    "measurements = [m]\n",
    "\n",
    "m = PatientData(Luna_Lovegood,(24,3,2021))\n",
    "m.height_cm = 154\n",
    "m.weight_kg = 72\n",
    "measurements.append(m)\n",
    "\n",
    "if measurements[0].patient == measurements[1].patient:\n",
    "    print(\"same patient\")\n",
    "else:\n",
    "    print(\"different patient\")\n",
    "\n",
    "for m in measurements:\n",
    "    m.print()\n",
    "    "
   ]
  },
  {
   "cell_type": "markdown",
   "metadata": {},
   "source": [
    "How does wanting multiple instances of `PatientData` effect our design?\n",
    "\n",
    "Notice that we are representing the date as a tuple. We probably also want to store the patient's date of birth in the `Patient` class. This suggest that we could benefit from a `Date` class!"
   ]
  },
  {
   "cell_type": "markdown",
   "metadata": {},
   "source": [
    "<div class=\"alert alert-block alert-info\">\n",
    "<big><b>This Lecture</b></big>\n",
    "<ul>  \n",
    " <li>OO methods</li>  \n",
    " <li>classes as data attributes inside other classes </li>  \n",
    "</ul>  \n",
    "</div>"
   ]
  },
  {
   "cell_type": "code",
   "execution_count": null,
   "metadata": {},
   "outputs": [],
   "source": []
  }
 ],
 "metadata": {
  "kernelspec": {
   "display_name": "Python 3",
   "language": "python",
   "name": "python3"
  },
  "language_info": {
   "codemirror_mode": {
    "name": "ipython",
    "version": 3
   },
   "file_extension": ".py",
   "mimetype": "text/x-python",
   "name": "python",
   "nbconvert_exporter": "python",
   "pygments_lexer": "ipython3",
   "version": "3.7.2"
  }
 },
 "nbformat": 4,
 "nbformat_minor": 1
}
