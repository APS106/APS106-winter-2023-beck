{
 "cells": [
  {
   "cell_type": "markdown",
   "metadata": {},
   "source": [
    "# APS106 Lecture Notes - Week 9, Lecture 1\n",
    "# More Containers and Advanced Functions\n",
    "\n",
    "## Inverting a Dictionary\n",
    "Dictionaries have keys that are unique and each key has a value associated with it. To invert a dictionary means to convert a value into a key and take the dictionary key and make it into a value. "
   ]
  },
  {
   "cell_type": "code",
   "execution_count": 61,
   "metadata": {},
   "outputs": [],
   "source": [
    "# a dictionary\n",
    "eng2spa = {\"two\": \"dos\", \"one\": \"uno\"}\n",
    "\n",
    "# eng2spa inverted\n",
    "spa2eng = {\"dos\": \"two\", \"uno\": \"one\"}"
   ]
  },
  {
   "cell_type": "markdown",
   "metadata": {},
   "source": [
    "What code should we write to invert a dictionary? What is a problem you are going to have to deal with?"
   ]
  },
  {
   "cell_type": "code",
   "execution_count": 62,
   "metadata": {},
   "outputs": [
    {
     "name": "stdout",
     "output_type": "stream",
     "text": [
      "{'green': 'pear', 'red': 'cherry', 'orange': 'orange', 'yellow': 'banana', 'purple': 'plum'}\n"
     ]
    }
   ],
   "source": [
    "fruit_to_color = {'watermelon': 'green', 'pomegranate': 'red',\n",
    "                  'peach': 'orange',     'cherry': 'red',       'pear': 'green',\n",
    "                  'banana': 'yellow',    'plum': 'purple',      'orange': 'orange'}\n",
    "\n",
    "#invert the dictionary\n",
    "color_to_fruit = {}\n",
    "\n",
    "# for each key in the dictionary, find the value and enter\n",
    "# the old_value:old_key pair into the new dictionary \n",
    "# (reversing the key and value!)\n",
    "for fruit in fruit_to_color:\n",
    "    color = fruit_to_color[fruit]\n",
    "    color_to_fruit[color] = fruit\n",
    "    \n",
    "print(color_to_fruit)"
   ]
  },
  {
   "cell_type": "markdown",
   "metadata": {},
   "source": [
    "Q: What should you notice about the inverted dictionary? How do we fix this?\n",
    "\n",
    "A: What you should notice is that some of the entries in fruit_to_color had the same value (e.g., peach and orange) and this information is lost in color_to_fruit because each key must be unique. One way to fix this is to have the value in the inverted dictionary to be a list of strings rather than a string."
   ]
  },
  {
   "cell_type": "code",
   "execution_count": 63,
   "metadata": {},
   "outputs": [
    {
     "name": "stdout",
     "output_type": "stream",
     "text": [
      "{'green': ['watermelon', 'pear'], 'red': ['pomegranate', 'cherry'], 'orange': ['peach', 'orange'], 'yellow': ['banana'], 'purple': ['plum']}\n"
     ]
    }
   ],
   "source": [
    "fruit_to_color = {'watermelon': 'green', 'pomegranate': 'red',\n",
    "'peach': 'orange', 'cherry': 'red', 'pear': 'green',\n",
    "'banana': 'yellow', 'plum': 'purple', 'orange': 'orange'}\n",
    "\n",
    "#invert the dictionary\n",
    "color_to_fruit = {}\n",
    "\n",
    "for fruit in fruit_to_color:\n",
    "    # What color is the fruit?\n",
    "    color = fruit_to_color[fruit]\n",
    "    # This time add the fruit as the first element in the list\n",
    "    if color not in color_to_fruit:\n",
    "        color_to_fruit[color] = [fruit]\n",
    "    else:\n",
    "        color_to_fruit[color].append(fruit)\n",
    "    \n",
    "print(color_to_fruit)"
   ]
  },
  {
   "cell_type": "markdown",
   "metadata": {},
   "source": [
    "\n",
    "# Advanced Functions & Files\n",
    "\n",
    "## More on Mutability and Aliasing\n",
    "\n",
    "Back when we first talked about lists, we introduced aliasing. We looked at some code like this."
   ]
  },
  {
   "cell_type": "code",
   "execution_count": 1,
   "metadata": {},
   "outputs": [],
   "source": [
    "lst1 = [11, 12, 13, 14, 15, 16, 17]"
   ]
  },
  {
   "cell_type": "markdown",
   "metadata": {},
   "source": [
    "In memory we have:\n",
    "![lst1](images/alias_list1.png)"
   ]
  },
  {
   "cell_type": "code",
   "execution_count": 2,
   "metadata": {},
   "outputs": [],
   "source": [
    "lst2 = lst1"
   ]
  },
  {
   "cell_type": "markdown",
   "metadata": {},
   "source": [
    "![lst1](images/alias_list2.png)"
   ]
  },
  {
   "cell_type": "code",
   "execution_count": 3,
   "metadata": {},
   "outputs": [
    {
     "name": "stdout",
     "output_type": "stream",
     "text": [
      "[11, 12, 13, 14, 15, 16, 18]\n"
     ]
    }
   ],
   "source": [
    "lst1[-1] = 18\n",
    "print(lst2)"
   ]
  },
  {
   "cell_type": "markdown",
   "metadata": {},
   "source": [
    "![lst1](images/alias_list_change.png)"
   ]
  },
  {
   "cell_type": "code",
   "execution_count": 4,
   "metadata": {},
   "outputs": [
    {
     "name": "stdout",
     "output_type": "stream",
     "text": [
      "['chem', 'phy', 'cs', 'eng']\n"
     ]
    }
   ],
   "source": [
    "classes = ['chem', 'bio', 'cs', 'eng']\n",
    "new_classes = classes\n",
    "new_classes[1] = 'phy'\n",
    "print(classes)"
   ]
  },
  {
   "cell_type": "markdown",
   "metadata": {},
   "source": [
    "In the first example `lst2` and `lst1` are aliases: references to the same object. And so when we change and element of lst1 the corresponding element in `lst2` changes because they are really the same list! The same thing happens for `classes` and `new_classes`. (See Section 8.5 of your text to review aliasing.)\n",
    "\n",
    "### Aliasing and Function Calls\n",
    "\n",
    "When a function in called in Python, ***a reference to the parameter*** is passed. So if we pass a list into a function, it is a reference to that list. \n",
    "\n",
    "If we pass an immutable object into a function, like an int, then a change in the function makes the reference point someplace else and so the change inside the function is not \"seen\" outside the function."
   ]
  },
  {
   "cell_type": "code",
   "execution_count": 2,
   "metadata": {},
   "outputs": [
    {
     "name": "stdout",
     "output_type": "stream",
     "text": [
      "x = 1 \tx_new = 2\n"
     ]
    }
   ],
   "source": [
    "def f(y):\n",
    "    y *= 2 # this line changes the object that x references\n",
    "    return y\n",
    "\n",
    "x = 1\n",
    "x_new = f(x)\n",
    "print(\"x =\", x, \"\\tx_new =\", x_new)"
   ]
  },
  {
   "cell_type": "markdown",
   "metadata": {},
   "source": [
    "![fx](images/alias_f_x.png)"
   ]
  },
  {
   "cell_type": "markdown",
   "metadata": {},
   "source": [
    "The same thing happens for a list, if we reassign the reference inside the function."
   ]
  },
  {
   "cell_type": "code",
   "execution_count": 3,
   "metadata": {},
   "outputs": [
    {
     "name": "stdout",
     "output_type": "stream",
     "text": [
      "y = [1, 2, 3] \ty_new = ['a', 'b', 'c']\n"
     ]
    }
   ],
   "source": [
    "def g(y):\n",
    "    y = ['a','b', 'c']\n",
    "    return y\n",
    "\n",
    "y = [1,2,3]\n",
    "y_new = g(y)\n",
    "print(\"y =\", y, \"\\ty_new =\", y_new)"
   ]
  },
  {
   "cell_type": "markdown",
   "metadata": {},
   "source": [
    "![lists](images/alias_f_list.png)"
   ]
  },
  {
   "cell_type": "markdown",
   "metadata": {},
   "source": [
    "Q: What happens if we pass a mutable object and we change the contents of that object? That is, if we do not change the reference but the thing that the reference points to? \n",
    "\n",
    "Since Python passes in reference, the variable inside the function and the variable outside the function are references to the same object. *They are aliases!* If we make a change in the function, it is reflected outside! "
   ]
  },
  {
   "cell_type": "code",
   "execution_count": 5,
   "metadata": {},
   "outputs": [
    {
     "name": "stdout",
     "output_type": "stream",
     "text": [
      "[11, 12, 13, 14, 15, 16, 18]\n"
     ]
    }
   ],
   "source": [
    "def replace_last(lst):\n",
    "    lst[-1] = 18\n",
    "\n",
    "lst1 = [11, 12, 13, 14, 15, 16, 17]\n",
    "replace_last(lst1)\n",
    "print(lst1)"
   ]
  },
  {
   "cell_type": "markdown",
   "metadata": {},
   "source": [
    "![replace](images/alias_f_replace.png)"
   ]
  },
  {
   "cell_type": "code",
   "execution_count": 6,
   "metadata": {},
   "outputs": [
    {
     "name": "stdout",
     "output_type": "stream",
     "text": [
      "[4, 3, 2, 1, 0]\n"
     ]
    }
   ],
   "source": [
    "def reverse(lst):\n",
    "    ''' (list)->(list) reverses the contents of a list'''\n",
    "    lst_len = len(lst)\n",
    "    for x in range(lst_len//2):\n",
    "        lst[x],  lst[lst_len-1-x] = lst[lst_len-1-x], lst[x]\n",
    "\n",
    "lst = [0, 1, 2, 3, 4]\n",
    "reverse(lst)\n",
    "print(lst)"
   ]
  },
  {
   "cell_type": "markdown",
   "metadata": {},
   "source": [
    "This can lead to bugs!"
   ]
  },
  {
   "cell_type": "code",
   "execution_count": 8,
   "metadata": {},
   "outputs": [
    {
     "name": "stdout",
     "output_type": "stream",
     "text": [
      "new_list = [4, 3, 2, 3, 4]\n",
      "lst = [4, 3, 2, 3, 4]\n"
     ]
    }
   ],
   "source": [
    "def reverse(lst):\n",
    "    ''' (list)->(list) reverses the contents of a list'''\n",
    "    # But this version does not work. Why not?\n",
    "    new_lst = lst\n",
    "    lst_len = len(lst)\n",
    "    for x in range(lst_len):\n",
    "        new_lst[x] = (lst[lst_len-1-x])\n",
    "    return new_lst\n",
    "            \n",
    "lst = [0, 1, 2, 3, 4]\n",
    "new_lst = reverse(lst)\n",
    "print(\"new_list =\", new_lst)\n",
    "print(\"lst =\", lst)"
   ]
  },
  {
   "cell_type": "markdown",
   "metadata": {},
   "source": [
    "**Homework**: Trace through these two versions of reverse and understand what is happening. Why does the first one work and the second one doesn't?\n",
    "\n",
    "\n",
    "## Default Function Values\n",
    "\n",
    "You've seen that functions like `range` and `print` can have parameters that take on default values if you do not specify them."
   ]
  },
  {
   "cell_type": "code",
   "execution_count": 9,
   "metadata": {},
   "outputs": [
    {
     "name": "stdout",
     "output_type": "stream",
     "text": [
      "0\n",
      "1\n",
      "2\n",
      "\n",
      "0\n",
      "1\n",
      "2\n"
     ]
    }
   ],
   "source": [
    "for i in range(0,3):\n",
    "    print(i)\n",
    "print()\n",
    "\n",
    "for i in range(3): # the starting value is 0 by default\n",
    "    print(i)"
   ]
  },
  {
   "cell_type": "markdown",
   "metadata": {},
   "source": [
    "Let's explore the `print` function."
   ]
  },
  {
   "cell_type": "code",
   "execution_count": 10,
   "metadata": {},
   "outputs": [
    {
     "name": "stdout",
     "output_type": "stream",
     "text": [
      "Help on built-in function print in module builtins:\n",
      "\n",
      "print(...)\n",
      "    print(value, ..., sep=' ', end='\\n', file=sys.stdout, flush=False)\n",
      "    \n",
      "    Prints the values to a stream, or to sys.stdout by default.\n",
      "    Optional keyword arguments:\n",
      "    file:  a file-like object (stream); defaults to the current sys.stdout.\n",
      "    sep:   string inserted between values, default a space.\n",
      "    end:   string appended after the last value, default a newline.\n",
      "    flush: whether to forcibly flush the stream.\n",
      "\n"
     ]
    }
   ],
   "source": [
    "help(print)"
   ]
  },
  {
   "cell_type": "markdown",
   "metadata": {},
   "source": [
    "There are four optional arguments. Let's play with them."
   ]
  },
  {
   "cell_type": "code",
   "execution_count": 7,
   "metadata": {},
   "outputs": [
    {
     "name": "stdout",
     "output_type": "stream",
     "text": [
      "123\n",
      "456\n",
      "1 2 3\n",
      "1..2..3!not next line\n",
      "1CALCULUS2CALCULUS3\n"
     ]
    }
   ],
   "source": [
    "print(\"123\")\n",
    "print(\"456\")\n",
    "\n",
    "print(1,2,3)\n",
    "print(1,2,3, sep=\"..\", end=\"!\")\n",
    "print(\"not next line\")      \n",
    "\n",
    "print(1,2,3, sep=\"CALCULUS\")"
   ]
  },
  {
   "cell_type": "markdown",
   "metadata": {},
   "source": [
    "You can use default parameters in your own functions. \n",
    "\n",
    "First, here's is a function without defaults."
   ]
  },
  {
   "cell_type": "code",
   "execution_count": 8,
   "metadata": {},
   "outputs": [
    {
     "name": "stdout",
     "output_type": "stream",
     "text": [
      "[1, 3, 5]\n",
      "[1, 4]\n"
     ]
    }
   ],
   "source": [
    "def every_nth(L, n):\n",
    "    result = []\n",
    "    for i in range(0, len(L), n):\n",
    "        result.append(L[i])\n",
    "    return result\n",
    "\n",
    "print(every_nth([1, 2, 3, 4, 5, 6], 2))\n",
    "print(every_nth([1, 2, 3, 4, 5, 6], 3))"
   ]
  },
  {
   "cell_type": "markdown",
   "metadata": {},
   "source": [
    "We can create a default parameter, pretty much the way you would expect."
   ]
  },
  {
   "cell_type": "code",
   "execution_count": 9,
   "metadata": {},
   "outputs": [
    {
     "name": "stdout",
     "output_type": "stream",
     "text": [
      "[1, 3, 5]\n",
      "[1, 4]\n",
      "[1, 2, 3, 4, 5, 6]\n"
     ]
    }
   ],
   "source": [
    "def every_nth(L, n = 1):\n",
    "    result = []\n",
    "    for i in range(0, len(L), n):\n",
    "        result.append(L[i])\n",
    "    return result\n",
    "\n",
    "print(every_nth([1, 2, 3, 4, 5, 6], 2))\n",
    "print(every_nth([1, 2, 3, 4, 5, 6], 3))\n",
    "print(every_nth([1, 2, 3, 4, 5, 6]))"
   ]
  },
  {
   "cell_type": "markdown",
   "metadata": {},
   "source": [
    "How about modifying the code to create a starting index that is 0 by default?"
   ]
  },
  {
   "cell_type": "code",
   "execution_count": 12,
   "metadata": {},
   "outputs": [
    {
     "name": "stdout",
     "output_type": "stream",
     "text": [
      "[3, 4, 5, 6]\n",
      "[4, 6]\n",
      "[4, 6]\n"
     ]
    }
   ],
   "source": [
    "def every_nth(L, st = 0, n = 1):\n",
    "    result = []\n",
    "    for i in range(st, len(L), n):\n",
    "        result.append(L[i])\n",
    "    return result\n",
    "\n",
    "print(every_nth([1, 2, 3, 4, 5, 6], 2))\n",
    "print(every_nth([1, 2, 3, 4, 5, 6], 3, 2))\n",
    "print(every_nth([1, 2, 3, 4, 5, 6], n = 2, st = 3))\n"
   ]
  },
  {
   "cell_type": "markdown",
   "metadata": {},
   "source": [
    "One more example."
   ]
  },
  {
   "cell_type": "code",
   "execution_count": 11,
   "metadata": {},
   "outputs": [
    {
     "name": "stdout",
     "output_type": "stream",
     "text": [
      "Hello Mr. Smith\n",
      "Hello John\n"
     ]
    }
   ],
   "source": [
    "def make_greeting(title, name, surname, formal=True):\n",
    "    if formal:\n",
    "        return \"Hello \" + title + \" \" + surname\n",
    "\n",
    "    return \"Hello \" + name\n",
    "\n",
    "print(make_greeting(\"Mr.\", \"John\", \"Smith\"))\n",
    "print(make_greeting(\"Mr.\", \"John\", \"Smith\", False))"
   ]
  },
  {
   "cell_type": "markdown",
   "metadata": {},
   "source": [
    "## Multiple Return Values\n",
    "\n",
    "We already saw this last week but here's a quick reminder that you can use tuple packing and unpacking to return multiple values from a function."
   ]
  },
  {
   "cell_type": "code",
   "execution_count": 12,
   "metadata": {},
   "outputs": [
    {
     "name": "stdout",
     "output_type": "stream",
     "text": [
      "25.132741228718345\n",
      "50.26548245743669\n"
     ]
    }
   ],
   "source": [
    "import math\n",
    "\n",
    "def areaCircumference(radius):\n",
    "    \"\"\" (float)->(float, float)\n",
    "    Return (circumference, area) of a circle of radius r \n",
    "    \"\"\"\n",
    "\n",
    "    circumference = 2 * math.pi * radius\n",
    "    area = math.pi * radius * radius\n",
    "    return circumference, area\n",
    "\n",
    "circumference, area = areaCircumference(4)\n",
    "print(circumference)\n",
    "print(area)"
   ]
  },
  {
   "cell_type": "markdown",
   "metadata": {},
   "source": [
    "\n",
    "<div class=\"alert alert-block alert-info\">\n",
    "<big><b>This Lecture: Containers and Advanced Functions</b></big>\n",
    "<ul>  \n",
    "    <li>Inverting dictionaries</li>\n",
    "    <li>Aliases and function calls</li>\n",
    "    <li>Default parameter values</li>\n",
    "    <li>Multiple return values</li>\n",
    "</div>"
   ]
  },
  {
   "cell_type": "code",
   "execution_count": null,
   "metadata": {},
   "outputs": [],
   "source": []
  }
 ],
 "metadata": {
  "kernelspec": {
   "display_name": "Python 3",
   "language": "python",
   "name": "python3"
  },
  "language_info": {
   "codemirror_mode": {
    "name": "ipython",
    "version": 3
   },
   "file_extension": ".py",
   "mimetype": "text/x-python",
   "name": "python",
   "nbconvert_exporter": "python",
   "pygments_lexer": "ipython3",
   "version": "3.7.2"
  }
 },
 "nbformat": 4,
 "nbformat_minor": 1
}
