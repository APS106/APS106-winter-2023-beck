{
 "cells": [
  {
   "cell_type": "markdown",
   "metadata": {},
   "source": [
    "## APS106 Lecture Notes - Week 2, Lecture 1\n",
    "# Functions & Engineering Design"
   ]
  },
  {
   "cell_type": "markdown",
   "metadata": {},
   "source": [
    "## Lectures This Week\n",
    "\n",
    "\n",
    "| Lecture | Topics | Reading |\n",
    "| --- | --- | --- | \n",
    "| 2.1 | functions, input & output, importing modules | Sect 3.1-10, 4.4-5 |\n",
    "| 2.2 | defining your own function | Sect 6.1-2  |\n",
    "| 2.3 | engineering design, forward kinematics | |  \n",
    "\n",
    "## Functions\n",
    "\n",
    "A function is a small piece of code that you can \"call\" repeatedly to do one thing. \n",
    "\n",
    "Think about the `sin` key on your calculator. It takes in an angle and using some series of commands, calculates the sine of the angle. There is some algorithm in your calculator (and in Python) that does the calculation for you (See [here](https://www.homeschoolmath.net/teaching/sine_calculator.php) for one possibility.) \n",
    "\n",
    "Let's imagine that the algorithm takes 10 lines of code. It would be painful and inefficient if you had to write the exact same 10 lines of code everytime you wanted to calculate sine."
   ]
  },
  {
   "cell_type": "code",
   "execution_count": null,
   "metadata": {},
   "outputs": [],
   "source": [
    "# Note: this code won't run as it is just a sketch of what you would need to do\n",
    "# without functions\n",
    "\n",
    "angle1 = 30 # degrees\n",
    "# 10 lines to calculate sin\n",
    "# sin_angle1 = <something>\n",
    "\n",
    "angle2 = 60 # degrees\n",
    "# 10 lines to calculate sin\n",
    "# sin_angle2 = <something>\n",
    "\n",
    "result = sin_angle1 + sin_angle2\n",
    "print(result)"
   ]
  },
  {
   "cell_type": "markdown",
   "metadata": {},
   "source": [
    "Instead, you could create (or, in fact, someone else has already created) a function called `sin` that you can \"call\" (i.e., execute the code) whenever you want to calculate the sine of an angle.\n",
    "\n",
    "And so you can write code like this (you won't understand everything in this code until the end of this lecture)."
   ]
  },
  {
   "cell_type": "code",
   "execution_count": 1,
   "metadata": {},
   "outputs": [
    {
     "name": "stdout",
     "output_type": "stream",
     "text": [
      "1.366027688546146\n"
     ]
    }
   ],
   "source": [
    "import math\n",
    "\n",
    "angle1 = 0.5236 # 30 degrees in radians\n",
    "angle2 = 1.0472 # 60 degrees in radians\n",
    "\n",
    "result = math.sin(angle1) + math.sin(angle2)\n",
    "\n",
    "print(result)"
   ]
  },
  {
   "cell_type": "markdown",
   "metadata": {},
   "source": [
    "The above code calls the function `sin()` twice in the same expression! (As well as the the `+` operator.)\n",
    "\n",
    "### Function Call\n",
    "\n",
    "To use a function you need to \"call\" it. The general form of a function call is:\n",
    "\n",
    "  **function_name(arguments)**\n",
    "\n",
    "The **function_name** is the name of the function (like `sin` or `print`). The **arguments** are values that you pass into a function. It wouldn't be very useful to have a separate function to calculate the sine of every angle. So what you do is \"pass in\" the value of the angle that you want the sine of. Note this is very similar to the usual mathematical definition of a function.\n",
    "\n",
    "A function then executes its code and **returns** the result of its computations.\n",
    "\n",
    "#### Terminology\n",
    "- argument: a value given to a function\n",
    "- pass: to provide an argument to a function\n",
    "- call: ask Python to execute a function (by name)\n",
    "- return: give a value back to where the function was called from\n",
    "\n",
    "**Examples**"
   ]
  },
  {
   "cell_type": "code",
   "execution_count": 2,
   "metadata": {},
   "outputs": [
    {
     "name": "stdout",
     "output_type": "stream",
     "text": [
      "20\n"
     ]
    }
   ],
   "source": [
    "x = abs(-20)\n",
    "print(x)"
   ]
  },
  {
   "cell_type": "code",
   "execution_count": 3,
   "metadata": {},
   "outputs": [
    {
     "name": "stdout",
     "output_type": "stream",
     "text": [
      "23\n"
     ]
    }
   ],
   "source": [
    "y = abs(-20) + abs(-3)\n",
    "print(y)"
   ]
  },
  {
   "cell_type": "markdown",
   "metadata": {},
   "source": [
    "### Back to Evaluation of Expressions\n",
    "\n",
    "Last week we talked about the assignment statement (`=`) and about how it is evaluated. Recall that the value of the expression on the right-hand side of the `=` sign is figured out and then assigned to the variable on the left-hand side. \n",
    "\n",
    "So now, we have the thing on the right-hand side (RHS) containing function calls!\n",
    "\n",
    "Let's take the simpler case first."
   ]
  },
  {
   "cell_type": "code",
   "execution_count": 4,
   "metadata": {},
   "outputs": [
    {
     "name": "stdout",
     "output_type": "stream",
     "text": [
      "20\n"
     ]
    }
   ],
   "source": [
    "x = abs(-20)\n",
    "print(x)"
   ]
  },
  {
   "cell_type": "markdown",
   "metadata": {},
   "source": [
    "The thing on the RHS of the `=` sign is the name of a function and so this is a function call. Just like with expressions we've already seen, the function is evaluated, which means it is called and returns a value. This value is then assigned to the variable `x`.\n",
    "\n",
    "Let's make it a bit more complicated."
   ]
  },
  {
   "cell_type": "code",
   "execution_count": 5,
   "metadata": {},
   "outputs": [
    {
     "name": "stdout",
     "output_type": "stream",
     "text": [
      "20\n"
     ]
    }
   ],
   "source": [
    "y = -20\n",
    "x = abs(y)\n",
    "print(x)"
   ]
  },
  {
   "cell_type": "markdown",
   "metadata": {},
   "source": [
    "Now the argument of the function call is not a constant (`-20`) but rather a variable (`y`). The rules for function calls are that each argument needs to be evaluated and then the function is called. So `y` gets evaluated to its value (-20) and then -20 is passed to the function.\n",
    "\n",
    "How about this?"
   ]
  },
  {
   "cell_type": "code",
   "execution_count": 6,
   "metadata": {},
   "outputs": [
    {
     "name": "stdout",
     "output_type": "stream",
     "text": [
      "25\n"
     ]
    }
   ],
   "source": [
    "y = -20\n",
    "z = -5\n",
    "x = abs(y+z)\n",
    "print(x)"
   ]
  },
  {
   "cell_type": "markdown",
   "metadata": {},
   "source": [
    "The thing in the parenthesis is an expression! And so it can be evaluated following the normal rules. That means that:\n",
    "- `y` is evalulated to -20\n",
    "- z is evaluated to -5\n",
    "- the `+` operator is evaluated with -20 and -5 to result in -25\n",
    "- -25 is passed to the `abs` function\n",
    "- 25 is returned from the `abs` function and assigned to `x`\n",
    "\n",
    "**Q: So what is happening here?**"
   ]
  },
  {
   "cell_type": "code",
   "execution_count": 7,
   "metadata": {},
   "outputs": [
    {
     "name": "stdout",
     "output_type": "stream",
     "text": [
      "125\n"
     ]
    }
   ],
   "source": [
    "y = -20\n",
    "z = -5\n",
    "x = abs(y+z) + abs(y*z)\n",
    "print(x)"
   ]
  },
  {
   "cell_type": "markdown",
   "metadata": {},
   "source": [
    "### Built-in Functions\n",
    "\n",
    "Python has a number of built-in (i.e., already defined) functions. You can see a list by using the function `dir`."
   ]
  },
  {
   "cell_type": "code",
   "execution_count": null,
   "metadata": {},
   "outputs": [],
   "source": [
    "dir(__builtins__)"
   ]
  },
  {
   "cell_type": "markdown",
   "metadata": {},
   "source": [
    "Many of these will not make sense to you at this point - that is fine. Here are a few useful built-in functions."
   ]
  },
  {
   "cell_type": "code",
   "execution_count": 8,
   "metadata": {},
   "outputs": [
    {
     "name": "stdout",
     "output_type": "stream",
     "text": [
      "32\n",
      "1024\n"
     ]
    }
   ],
   "source": [
    "# pow(): raise a number to the power of another number\n",
    "x = pow(2,5)\n",
    "print(x)\n",
    "y = pow(x,2)\n",
    "print(y)"
   ]
  },
  {
   "cell_type": "code",
   "execution_count": 9,
   "metadata": {},
   "outputs": [
    {
     "name": "stdout",
     "output_type": "stream",
     "text": [
      "4\n",
      "3\n"
     ]
    }
   ],
   "source": [
    "# int(): convert a number to an integer - throwing away everything after the decimal\n",
    "z = int(4.2)\n",
    "print(z)\n",
    "w = int(3.999)\n",
    "print(w)"
   ]
  },
  {
   "cell_type": "markdown",
   "metadata": {},
   "source": [
    "Because the arguments of functions are expressions and because function calls are just expressions, following the rules we already know, we can call functions with the results of other functions like this:"
   ]
  },
  {
   "cell_type": "code",
   "execution_count": 10,
   "metadata": {},
   "outputs": [
    {
     "name": "stdout",
     "output_type": "stream",
     "text": [
      "25\n"
     ]
    }
   ],
   "source": [
    "x = pow(int(5.2), abs(-2))\n",
    "print(x)"
   ]
  },
  {
   "cell_type": "markdown",
   "metadata": {},
   "source": [
    "Remember: before a function is called, its arguments must be all evaluated. And so what happens above?\n",
    "\n",
    "- `int()` is called with the value 5.2 and returns 5\n",
    "- `abs()` is called with the value -2 and returns 2\n",
    "- `pow()` is called with the values 5 and 2 and returns 25\n",
    "\n",
    "\n",
    "<div class=\"alert alert-block alert-warning\">\n",
    "<img src=\"images/mind_blown.jpg\" alt=\"drawing\" width=\"400\"/>\n",
    "Last week I said that programming was weird because it is only a few key concepts (like expression evaluation) but that these get get stuck together in more and more complex ways? Here's your first example!<p>\n",
    "    \n",
    "We are still just evaluating the expression of the right-hand side of the = sign. But that expression is complex: a function call whose arguments are themselves function calls. But you already know how to figure this out.\n",
    "</div>\n",
    "\n",
    "\n",
    "You can go even further:"
   ]
  },
  {
   "cell_type": "code",
   "execution_count": 11,
   "metadata": {},
   "outputs": [
    {
     "name": "stdout",
     "output_type": "stream",
     "text": [
      "3125\n"
     ]
    }
   ],
   "source": [
    "# This isn't very good code because it is hard to understand. But it is legal!\n",
    "x = pow(abs(int(-5.2)), abs(-2) + 12 - pow(3,2))\n",
    "print(x)"
   ]
  },
  {
   "cell_type": "markdown",
   "metadata": {},
   "source": [
    "#### Function Help\n",
    "\n",
    "One very useful function is `help` which gives you documentation on functions."
   ]
  },
  {
   "cell_type": "code",
   "execution_count": 12,
   "metadata": {},
   "outputs": [
    {
     "name": "stdout",
     "output_type": "stream",
     "text": [
      "Help on built-in function abs in module builtins:\n",
      "\n",
      "abs(x, /)\n",
      "    Return the absolute value of the argument.\n",
      "\n"
     ]
    }
   ],
   "source": [
    "help(abs)"
   ]
  },
  {
   "cell_type": "code",
   "execution_count": 13,
   "metadata": {},
   "outputs": [
    {
     "name": "stdout",
     "output_type": "stream",
     "text": [
      "Help on built-in function pow in module builtins:\n",
      "\n",
      "pow(x, y, z=None, /)\n",
      "    Equivalent to x**y (with two arguments) or x**y % z (with three arguments)\n",
      "    \n",
      "    Some types, such as ints, are able to use a more efficient algorithm when\n",
      "    invoked using the three argument form.\n",
      "\n"
     ]
    }
   ],
   "source": [
    "help(pow)"
   ]
  },
  {
   "cell_type": "code",
   "execution_count": 14,
   "metadata": {},
   "outputs": [
    {
     "name": "stdout",
     "output_type": "stream",
     "text": [
      "Help on _Helper in module _sitebuiltins object:\n",
      "\n",
      "class _Helper(builtins.object)\n",
      " |  Define the builtin 'help'.\n",
      " |  \n",
      " |  This is a wrapper around pydoc.help that provides a helpful message\n",
      " |  when 'help' is typed at the Python interactive prompt.\n",
      " |  \n",
      " |  Calling help() at the Python prompt starts an interactive help session.\n",
      " |  Calling help(thing) prints help for the python object 'thing'.\n",
      " |  \n",
      " |  Methods defined here:\n",
      " |  \n",
      " |  __call__(self, *args, **kwds)\n",
      " |      Call self as a function.\n",
      " |  \n",
      " |  __repr__(self)\n",
      " |      Return repr(self).\n",
      " |  \n",
      " |  ----------------------------------------------------------------------\n",
      " |  Data descriptors defined here:\n",
      " |  \n",
      " |  __dict__\n",
      " |      dictionary for instance variables (if defined)\n",
      " |  \n",
      " |  __weakref__\n",
      " |      list of weak references to the object (if defined)\n",
      "\n"
     ]
    }
   ],
   "source": [
    "help(help)"
   ]
  },
  {
   "cell_type": "markdown",
   "metadata": {},
   "source": [
    "<div class=\"alert alert-block alert-info\">\n",
    "<big><b>Where Are We So Far</b></big>\n",
    "<ul>  \n",
    " <li>functions are little bits of code that you give a name to and can call many times</li>  \n",
    "    <li>functions return values</li>\n",
    "    <li>calling functions follows the same rules as expression evaluation: function calls <b>are</b> expressions!</li>  \n",
    " <li>Python has a set of built-in functions </li>  \n",
    "</ul>  \n",
    "</div>\n",
    "\n",
    "## Output\n",
    "\n",
    "Last week we saw the `print` function. It's one of the built-in functions and so we can do things like this."
   ]
  },
  {
   "cell_type": "code",
   "execution_count": 15,
   "metadata": {},
   "outputs": [
    {
     "name": "stdout",
     "output_type": "stream",
     "text": [
      "15\n"
     ]
    }
   ],
   "source": [
    "print(3 + 7 + abs(-5))"
   ]
  },
  {
   "cell_type": "markdown",
   "metadata": {},
   "source": [
    "`print()` can take more than one argument and its default behavior is to print each argument out, separated by a space."
   ]
  },
  {
   "cell_type": "code",
   "execution_count": 1,
   "metadata": {},
   "outputs": [
    {
     "name": "stdout",
     "output_type": "stream",
     "text": [
      "hello there General Kenobi\n"
     ]
    }
   ],
   "source": [
    "print(\"hello\", \"there\", \"General\", \"Kenobi\")"
   ]
  },
  {
   "cell_type": "markdown",
   "metadata": {},
   "source": [
    "We can mix different constant and variable types."
   ]
  },
  {
   "cell_type": "code",
   "execution_count": 17,
   "metadata": {},
   "outputs": [
    {
     "name": "stdout",
     "output_type": "stream",
     "text": [
      "The number is: 10\n"
     ]
    }
   ],
   "source": [
    "num = 10\n",
    "print(\"The number is:\", num)"
   ]
  },
  {
   "cell_type": "code",
   "execution_count": 18,
   "metadata": {},
   "outputs": [
    {
     "name": "stdout",
     "output_type": "stream",
     "text": [
      "The student's name is Priya\n"
     ]
    }
   ],
   "source": [
    "name = \"Priya\"\n",
    "print(\"The student's name is\",name)"
   ]
  },
  {
   "cell_type": "markdown",
   "metadata": {},
   "source": [
    "## Input\n",
    "\n",
    "It is also important to be able to input values to a program. Python does this via the `input()` function.\n",
    "\n",
    "The function `input()` is a built-in function that prompts the user to enter some input. The program waits for the user to enter the input (and press Enter), before continuing. **The value returned from this function is always a string.**\n",
    "\n",
    "For example:"
   ]
  },
  {
   "cell_type": "code",
   "execution_count": 19,
   "metadata": {},
   "outputs": [
    {
     "name": "stdout",
     "output_type": "stream",
     "text": [
      "What is your name? Priya\n",
      "Priya\n"
     ]
    }
   ],
   "source": [
    "name = input(\"What is your name? \")\n",
    "print(name)"
   ]
  },
  {
   "cell_type": "code",
   "execution_count": 20,
   "metadata": {},
   "outputs": [
    {
     "name": "stdout",
     "output_type": "stream",
     "text": [
      "What is your name? Priya\n",
      "Where do you live? Vaughn\n",
      "Priya lives in Vaughn\n"
     ]
    }
   ],
   "source": [
    "name = input(\"What is your name? \")\n",
    "location = input(\"Where do you live? \")\n",
    "\n",
    "print(name, \"lives in\", location)"
   ]
  },
  {
   "cell_type": "code",
   "execution_count": 21,
   "metadata": {},
   "outputs": [
    {
     "name": "stdout",
     "output_type": "stream",
     "text": [
      "How many coffees to you want? 5\n",
      "5\n"
     ]
    }
   ],
   "source": [
    "num_coffees = input(\"How many coffees to you want? \")\n",
    "print(num_coffees)"
   ]
  },
  {
   "cell_type": "markdown",
   "metadata": {},
   "source": [
    "**Question: What type of variable is `num_coffees`?**"
   ]
  },
  {
   "cell_type": "markdown",
   "metadata": {},
   "source": [
    "## Importing Functions\n",
    "\n",
    "### Modules\n",
    "\n",
    "Not all useful functions are built-in. In fact, one of the most valuable aspects of Python is that there are many **modules** (sets of functions) that you can import and use. For example, there are a lot of machine learning methods implemented in the [scikit-learn](https://scikit-learn.org/stable/) modules.\n",
    "\n",
    "A module is another Python file containing definitions of new functions (and other things).\n",
    "\n",
    "### Importing Modules\n",
    "\n",
    "To get access to the functions in a module, you need to `import` the module. You've already seen this earlier in the lecture."
   ]
  },
  {
   "cell_type": "code",
   "execution_count": 22,
   "metadata": {},
   "outputs": [],
   "source": [
    "# get access to the functions in the math module\n",
    "import math"
   ]
  },
  {
   "cell_type": "markdown",
   "metadata": {},
   "source": [
    "Once you have imported the module, you can get a list of the function using the `help()` function."
   ]
  },
  {
   "cell_type": "code",
   "execution_count": null,
   "metadata": {},
   "outputs": [],
   "source": [
    "help(math)"
   ]
  },
  {
   "cell_type": "markdown",
   "metadata": {},
   "source": [
    "You can access the functions in a module by using the syntax:\n",
    "\n",
    "**module_name.function_name(arguments)**\n",
    "\n",
    "So for example:"
   ]
  },
  {
   "cell_type": "code",
   "execution_count": 23,
   "metadata": {},
   "outputs": [
    {
     "name": "stdout",
     "output_type": "stream",
     "text": [
      "4.0\n"
     ]
    }
   ],
   "source": [
    "print(math.sqrt(16))"
   ]
  },
  {
   "cell_type": "code",
   "execution_count": 24,
   "metadata": {},
   "outputs": [
    {
     "name": "stdout",
     "output_type": "stream",
     "text": [
      "-0.9880316240928618\n"
     ]
    }
   ],
   "source": [
    "degrees = 30\n",
    "sin30 = math.sin(degrees)\n",
    "print(sin30)"
   ]
  },
  {
   "cell_type": "markdown",
   "metadata": {},
   "source": [
    "Does the above look problematic to you? Is the sine of 30 degrees correct?\n",
    "\n",
    "Maybe you are confused about the function `math.sin()`."
   ]
  },
  {
   "cell_type": "code",
   "execution_count": 25,
   "metadata": {},
   "outputs": [
    {
     "name": "stdout",
     "output_type": "stream",
     "text": [
      "Help on built-in function sin in module math:\n",
      "\n",
      "sin(x, /)\n",
      "    Return the sine of x (measured in radians).\n",
      "\n"
     ]
    }
   ],
   "source": [
    "help(math.sin)"
   ]
  },
  {
   "cell_type": "markdown",
   "metadata": {},
   "source": [
    "Aha!"
   ]
  },
  {
   "cell_type": "code",
   "execution_count": 26,
   "metadata": {},
   "outputs": [
    {
     "name": "stdout",
     "output_type": "stream",
     "text": [
      "0.49999999999999994\n"
     ]
    }
   ],
   "source": [
    "degrees = 30\n",
    "sin30 = math.sin(math.radians(degrees))\n",
    "print(sin30)"
   ]
  },
  {
   "cell_type": "markdown",
   "metadata": {},
   "source": [
    "Hmmm .... does that answer bother you?"
   ]
  },
  {
   "cell_type": "markdown",
   "metadata": {},
   "source": [
    "<div class=\"alert alert-block alert-info\">\n",
    "<big><b>Where Are We Now</b></big>\n",
    "<ul>  \n",
    " <li>print() and input() functions</li>  \n",
    "    <li>importing modules</li>\n",
    "    <li>the help function is your friend</li>  \n",
    "</ul>  \n",
    "</div>\n",
    "\n",
    "## Defining Your Own Functions\n",
    "\n",
    "The real power of functions is in defining your own. Good programs typically consist of many small functions that call each other. If you have a function that does only one thing (like calculate the sine of an angle), it is likely not too large: you can test it and make sure that it works without bugs. \n",
    "\n",
    "**As a general rule, you should not write functions more than a 30 or 40 lines (and smaller is better: 10 or less is good). If you need something bigger, break it up into multiple functions.** \\[Warning: you do not just want to randomly split up a large function into little bits. You want each bit to do some logical part of the overall function that you are trying to split up.\\]\n",
    "\n",
    "### Function Definitions\n",
    "\n",
    "The general form of a function definition is:\n",
    "\n",
    "`def function_body(parameters):\n",
    "    body`\n",
    "\n",
    "- `def` is a keyword, standing for \"definition\". All function definitions must begin with `def`. The `def` statement must end with a colon.\n",
    "- `function_name` is the name you will use to call the function (like `sin`, `abs` but you need to create your own name)\n",
    "- `parameters` are the variables that get values when you call the function. You can have 0 or more arguments, separated by commas. Must be in parenthesis.\n",
    "- `body` is a sequence of commands like we've already seen (assignment, multiplication, function calls).\n",
    "\n",
    "**Important: all the lines of `body` must be indented. That is how Python knows that they are part of the function.**\n",
    "\n",
    "For example:"
   ]
  },
  {
   "cell_type": "code",
   "execution_count": 27,
   "metadata": {},
   "outputs": [
    {
     "name": "stdout",
     "output_type": "stream",
     "text": [
      "4 16\n",
      "64\n"
     ]
    }
   ],
   "source": [
    "def square(x):\n",
    "    return x*x\n",
    "\n",
    "num = 4\n",
    "num_sq = square(num)\n",
    "print(num, num_sq)\n",
    "\n",
    "print(square(8))"
   ]
  },
  {
   "cell_type": "markdown",
   "metadata": {},
   "source": [
    "Note that the variable inside the function:\n",
    "- does not have to be the same name as the variable you pass in (e.g. `num` and `x`)\n",
    "- does not conflict with variable names outside the function. Even if they have the same name, they are different variables."
   ]
  },
  {
   "cell_type": "code",
   "execution_count": 28,
   "metadata": {},
   "outputs": [
    {
     "name": "stdout",
     "output_type": "stream",
     "text": [
      "4 64\n"
     ]
    }
   ],
   "source": [
    "def square(x):\n",
    "    return x*x\n",
    "\n",
    "x = 4\n",
    "num_sq = square(8)\n",
    "print(x, num_sq)"
   ]
  },
  {
   "cell_type": "code",
   "execution_count": 29,
   "metadata": {
    "scrolled": true
   },
   "outputs": [
    {
     "name": "stdout",
     "output_type": "stream",
     "text": [
      "Outside function. x =  4\n",
      "Inside function. x =  8\n",
      "Outside function. x =  4\n"
     ]
    }
   ],
   "source": [
    "def square(x):\n",
    "    print(\"Inside function. x = \", x)\n",
    "    return x*x\n",
    "\n",
    "x = 4\n",
    "print(\"Outside function. x = \", x)\n",
    "num_sq = square(8)\n",
    "print(\"Outside function. x = \", x)"
   ]
  },
  {
   "cell_type": "markdown",
   "metadata": {},
   "source": [
    "**The `x` variable inside the function and the `x` variable outside the function are completely independent!**\n",
    "\n",
    "You should think of variables named in the arguments of a function or created inside the function as living **only** in side the function. The variable does not exist before the function is called. It is created when the function is called and it is destroyed with the function ends. \n",
    "\n",
    "\n",
    "<div class=\"alert alert-block alert-info\">\n",
    "<big><b>Where Are We Now</b></big>\n",
    "<ul>  \n",
    " <li>You can define your own functions!</li>  \n",
    " <li>The variables inside a function are independent of those outside</li>  \n",
    "</ul>  \n",
    "</div>\n",
    "\n",
    "More on function definition in the next lecture!\n",
    "\n",
    "<div class=\"alert alert-block alert-info\">\n",
    "<big><b>This Lecture</b></big>\n",
    "<ul>  \n",
    "    <li>Functions</li>\n",
    "    <li>Calling functions</li>\n",
    "    <li>Importing Modules</li>\n",
    "    <li>Writing your own functions</li>\n",
    "</ul>  \n",
    "<b>See Chapter 3 of the Gries textbook.</b>\n",
    "</div>\n"
   ]
  },
  {
   "cell_type": "code",
   "execution_count": null,
   "metadata": {},
   "outputs": [],
   "source": []
  }
 ],
 "metadata": {
  "kernelspec": {
   "display_name": "Python 3",
   "language": "python",
   "name": "python3"
  },
  "language_info": {
   "codemirror_mode": {
    "name": "ipython",
    "version": 3
   },
   "file_extension": ".py",
   "mimetype": "text/x-python",
   "name": "python",
   "nbconvert_exporter": "python",
   "pygments_lexer": "ipython3",
   "version": "3.7.2"
  }
 },
 "nbformat": 4,
 "nbformat_minor": 1
}
