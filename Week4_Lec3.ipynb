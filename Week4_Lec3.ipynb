{
 "cells": [
  {
   "cell_type": "markdown",
   "metadata": {},
   "source": [
    "# APS106 Lecture Notes - Week 4, Lecture 3\n",
    "# Review"
   ]
  },
  {
   "cell_type": "markdown",
   "metadata": {},
   "source": [
    "## Old Midterm Questions\n",
    "\n",
    "1a) Consider the following piece of code:\n",
    "\n",
    "```\n",
    "def test_function(a_boolean_variable):\n",
    "\n",
    "   if a_boolean_variable != True:\n",
    "        return True\n",
    "   else:\n",
    "        return False\n",
    "```\n",
    "\n",
    "Which of the following statements can replace the body of test_function and produce the same result?\n",
    "\n",
    "```\n",
    "(a) return False\n",
    "(b) return a_boolean_variable\n",
    "(c) return True\n",
    "(d) return not a_boolean_variable\n",
    "(e) None of the above\n",
    "```\n"
   ]
  },
  {
   "cell_type": "markdown",
   "metadata": {},
   "source": [
    "Answer: **d**"
   ]
  },
  {
   "cell_type": "markdown",
   "metadata": {},
   "source": [
    "b) What is the output of the following program?\n",
    "\n",
    "```\n",
    "import math\n",
    "print(math.pow(math.pow(math.pow(2,2),3),2))\n",
    "\n",
    "(a) 24.0\n",
    "(b) 8192.0\n",
    "(c) 4096.0\n",
    "(d) No output\n",
    "(e) Syntax Error\n",
    "```"
   ]
  },
  {
   "cell_type": "markdown",
   "metadata": {},
   "source": [
    "Answer: **c**"
   ]
  },
  {
   "cell_type": "markdown",
   "metadata": {},
   "source": [
    "c) Which line of code is NOT equivalent to the other two? Circle your answer.\n",
    "\n",
    "```\n",
    "(a) if not (number_of_days + 1) % 2 == 1)\n",
    "(b) if not (number_of_days % 2 == 1)\n",
    "(c) if number_of_days % 2 == 0\n",
    "```"
   ]
  },
  {
   "cell_type": "markdown",
   "metadata": {},
   "source": [
    "Answer: **a**"
   ]
  },
  {
   "cell_type": "markdown",
   "metadata": {},
   "source": [
    "Question 2. What will this code print? "
   ]
  },
  {
   "cell_type": "code",
   "execution_count": 1,
   "metadata": {},
   "outputs": [
    {
     "name": "stdout",
     "output_type": "stream",
     "text": [
      "Failed\n"
     ]
    }
   ],
   "source": [
    "def grade_conversion(grade):\n",
    "    if grade >= 'B':                 \n",
    "        message = 'Very Good'   \n",
    "    if grade < 'B' and grade >= 'D':                 \n",
    "        message = 'Good'            \n",
    "    if grade < 'D':                \n",
    "        message = 'Failed' \n",
    " \n",
    "    return message    \n",
    "\n",
    "print(grade_conversion('A+'))"
   ]
  },
  {
   "cell_type": "markdown",
   "metadata": {},
   "source": [
    "Answer: Failed"
   ]
  },
  {
   "cell_type": "markdown",
   "metadata": {},
   "source": [
    "Question 3: What does this code print out?"
   ]
  },
  {
   "cell_type": "code",
   "execution_count": 3,
   "metadata": {},
   "outputs": [
    {
     "name": "stdout",
     "output_type": "stream",
     "text": [
      "3\n",
      "1\n",
      "2\n",
      "4\n",
      "8\n",
      "16\n"
     ]
    }
   ],
   "source": [
    "j = 6\n",
    "\n",
    "while 0 < j < 10:\n",
    "\n",
    "    if j % 3 == 0:\n",
    "        j = j // 2\n",
    "    elif j % 2 == 0:\n",
    "        j = j * 2\n",
    "    else:\n",
    "        j = j + 1\n",
    "\n",
    "    print(j)\n"
   ]
  },
  {
   "cell_type": "markdown",
   "metadata": {},
   "source": [
    "Question 4: **Hint: READ THE QUESTION CAREFULLY**\n",
    "\n",
    "The `weather` module defines the following function:\n",
    "\n",
    "```\n",
    "def forecast_high(days_from_now, city):\n",
    "    '''\n",
    "    (int, string) -> float\n",
    "    Return the forecasted high temperature in degrees Celsius\n",
    "    in the given city days_from_now into the future. \n",
    "    days_from_now can range from 0 (today) to 6\n",
    "    '''   \n",
    "```\n",
    "\n",
    "Write a complete program that does the following:\n",
    "- Asks the user for a city (you can assume that the user enters a valid city).\n",
    "- Asks the user for the number of days from now.\n",
    "- If the number of days from now is less than 0 or more than 6, output “Illegal input”.\n",
    "- If the number of days is greater than or equal to 0 and less than or equal to 6:\n",
    "    - Output the forecast temperature from the city.\n",
    "    - If the temperature is 30 or higher, output “Hot!”\n",
    "    - If the temperature is between -30 and 30, output “We can deal with that.”\n",
    "    - If the temperature is -30 or less, output “Welcome to Canada.”"
   ]
  },
  {
   "cell_type": "code",
   "execution_count": null,
   "metadata": {},
   "outputs": [],
   "source": [
    "import weather\n",
    "\n",
    "city_name = input(\"Please enter a city: \")\n",
    "days = int(input(\"Please enter a number of days into the future: \"))\n",
    "\n",
    "if days < 0 or days > 6:\n",
    "    print(\"Illegal input\")\n",
    "else:\n",
    "    high = weather.forecast_high(city_name,days)\n",
    "    print(\"The high temperature is:\", high)\n",
    "    \n",
    "    if high >= 30:\n",
    "        print(\"Hot!\")\n",
    "    elif high > -30:\n",
    "        print(\"We can deal with that\")\n",
    "    else:\n",
    "        print(\"Welcome to Canada\")\n"
   ]
  }
 ],
 "metadata": {
  "kernelspec": {
   "display_name": "Python 3",
   "language": "python",
   "name": "python3"
  },
  "language_info": {
   "codemirror_mode": {
    "name": "ipython",
    "version": 3
   },
   "file_extension": ".py",
   "mimetype": "text/x-python",
   "name": "python",
   "nbconvert_exporter": "python",
   "pygments_lexer": "ipython3",
   "version": "3.7.2"
  }
 },
 "nbformat": 4,
 "nbformat_minor": 1
}
