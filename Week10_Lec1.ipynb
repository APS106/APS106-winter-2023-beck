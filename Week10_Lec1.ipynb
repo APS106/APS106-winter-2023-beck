{
 "cells": [
  {
   "cell_type": "markdown",
   "metadata": {},
   "source": [
    "# APS106 Lecture Notes - Week 10, Lecture 1\n",
    "# Object-Oriented Programming\n",
    "\n",
    "# Classes and Objects\n",
    "\n",
    "If you recall a few weeks ago, we said that everything in Python is an object.\n",
    "\n",
    "There is in fact a function that you can call to confirm this."
   ]
  },
  {
   "cell_type": "code",
   "execution_count": 1,
   "metadata": {},
   "outputs": [
    {
     "name": "stdout",
     "output_type": "stream",
     "text": [
      "True\n",
      "True\n",
      "True\n"
     ]
    }
   ],
   "source": [
    "print(isinstance(4, object))\n",
    "print(isinstance(\"Hello\",object))\n",
    "print(isinstance(tuple,object))"
   ]
  },
  {
   "cell_type": "markdown",
   "metadata": {},
   "source": [
    "Every time we create a variable we are making a new object. Each object has a type or class that it belongs to.\n",
    "\n",
    "A **class** can be thought of as a template for the objects that are instances of it, where an **instance** of a class refers to an object whose type is defined as the class. \n",
    "\n",
    "The words \"instance\" and \"object\" are used interchangeably. For example when you store an integer value in a variable, then that variable becomes an instance of the class int. The same happens when you create variables of class float, int, str, list, set, tuple, dict, Turtle, etc. \n",
    "\n",
    "Each class has a predefined set of functions (\"methods\") that can only be applied to objects that are instances of the class. For example:\n"
   ]
  },
  {
   "cell_type": "code",
   "execution_count": 2,
   "metadata": {},
   "outputs": [
    {
     "name": "stdout",
     "output_type": "stream",
     "text": [
      "once upon a time there lived a dragon...\n",
      "once upon a time there lived a giant...\n"
     ]
    },
    {
     "ename": "AttributeError",
     "evalue": "'int' object has no attribute 'replace'",
     "output_type": "error",
     "traceback": [
      "\u001b[0;31m---------------------------------------------------------------------------\u001b[0m",
      "\u001b[0;31mAttributeError\u001b[0m                            Traceback (most recent call last)",
      "\u001b[0;32m<ipython-input-2-911e6c727f6c>\u001b[0m in \u001b[0;36m<module>\u001b[0;34m\u001b[0m\n\u001b[1;32m      5\u001b[0m \u001b[0;34m\u001b[0m\u001b[0m\n\u001b[1;32m      6\u001b[0m \u001b[0mx\u001b[0m \u001b[0;34m=\u001b[0m \u001b[0;36m17\u001b[0m\u001b[0;34m\u001b[0m\u001b[0;34m\u001b[0m\u001b[0m\n\u001b[0;32m----> 7\u001b[0;31m \u001b[0mx\u001b[0m\u001b[0;34m.\u001b[0m\u001b[0mreplace\u001b[0m\u001b[0;34m(\u001b[0m\u001b[0;36m17\u001b[0m\u001b[0;34m,\u001b[0m\u001b[0;36m19\u001b[0m\u001b[0;34m)\u001b[0m\u001b[0;34m\u001b[0m\u001b[0;34m\u001b[0m\u001b[0m\n\u001b[0m",
      "\u001b[0;31mAttributeError\u001b[0m: 'int' object has no attribute 'replace'"
     ]
    }
   ],
   "source": [
    "story = \"once upon a time there lived a dragon...\"\n",
    "print(story)\n",
    "story = story.replace('dragon', 'giant')\n",
    "print(story)\n",
    "\n",
    "x = 17\n",
    "x.replace(17,19)"
   ]
  },
  {
   "cell_type": "markdown",
   "metadata": {},
   "source": [
    "The method `replace` is associated with type `str`, not `int`, hence if we try to apply it to an int, we will get an error.\n",
    "\n",
    "We’ve been using turtles to visualize different aspects of programming. In these examples you may have noticed that there are methods associated to the turtle object that can only be applied to turtle objects."
   ]
  },
  {
   "cell_type": "code",
   "execution_count": 2,
   "metadata": {},
   "outputs": [],
   "source": [
    "import turtle\n",
    "alex = turtle.Turtle()\n",
    "\n",
    "alex.up()            # make alex raise its tail\n",
    "alex.goto(-150, 100) # make alex go to (-150, 100)\n",
    "alex.down()          # make alex lower its tail\n",
    "alex.circle(30)      # make alex draw a circle\n",
    "\n",
    "turtle.done()"
   ]
  },
  {
   "cell_type": "markdown",
   "metadata": {},
   "source": [
    "The above code creates an instance of the turtle object and names it `alex`. Then we have methods such as: up, goto, down, circle that `alex` can execute according to the provided arguments.\n",
    "\n",
    "As we have seen in previous weeks, we can use pre-defined objects and their methods just fine without needing to know what's inside. \n",
    "\n",
    "Up to now, most of the programs have been written using a procedural programming paradigm. In procedural programming the focus is on writing functions or procedures which operate on data. In what is to follow, we will learn about ways to create our own unique objects with unique methods that can be applied on them. However, before we get there, let us first discuss the motivation and a little history of object-oriented programming (OOP)."
   ]
  },
  {
   "cell_type": "markdown",
   "metadata": {},
   "source": [
    "## OO Introduction\n",
    "\n",
    "Programming with objects as the cognitive model of a problem is called “object oriented programming” (OOP). ('cognitive model' just means the way you think about things) Different from what we have been doing up to now, OOP focuses on the creation of objects which contain both **data and functionality** together and achieving the overall program functionality through the interaction of these objects.\n",
    "\n",
    "**OOP is a (different) way of thinking about the design and organization of your code.**\n",
    "\n",
    "OOP was developed as a way to handle the size and complexity of software systems and to make it easier to employ teams of programmers to create and maintain these large and complex systems over time. Think about a avionics system for an airplace or an financial accounting system for a bank.\n",
    "\n",
    "Usually, each object corresponds to some object or concept in the real world, and the functions that operate on that object correspond to the ways real-world objects interact. For example, we could think of an oven object. The oven allows us to perform a few specific operations, like put an item in the oven, or set the temperature.\n",
    "\n",
    "In object-oriented programming, the objects are considered to be active agents. In our early introduction to turtles, we used an object-oriented style, so that we said `tina.forward(100)`, which asks the turtle to move itself forward by the given number of steps. This change in perspective may not be initially obvious, nor might it be obvious that it is useful. But sometimes shifting responsibility from the functions onto the objects makes it possible to write more versatile functions and makes it easier to maintain and reuse code.\n",
    "\n",
    "The most important advantage of the object-oriented style is that it fits our mental chunking and real-life experience more accurately. In real life a `cook` method is part of our microwave oven — we don’t have a cook function sitting in the corner of the kitchen, into which we pass the microwave! Similarly, we use the cellphone’s own methods to send a text message or switch it to do not disturb. The functionality of real-world objects tends to be tightly bound up inside the objects themselves. OOP allows us to accurately mirror this when we organize our programs.\n",
    "Creating a program as a collection of objects can lead to a more understandable, manageable, and properly executing program.\n",
    "\n",
    "<div class=\"alert alert-block alert-info\">\n",
    "<big><b>Pro-tip</b></big>\n",
    "    \n",
    "If you get confused about OO, objects, instances, classes, methods, ..., think about Turtles. Turtle is a class. When you create a turtle variable (e.g. tina) you are creating an instance (also called an object) of the class Turtle. When you tell tina to do something, you are calling a method of the Turtle class.\n",
    "\n",
    "If you get confused - think about turtles.\n",
    "</div>"
   ]
  },
  {
   "cell_type": "markdown",
   "metadata": {},
   "source": [
    "## Classes : User-Defined Data Types\n",
    "\n",
    "The real strength of object-oriented programming comes from being able to define new classes. We’ve already seen classes like `str`, `int`, `float` and `Turtle`. We are now ready to create our own user-defined class: `Point`. It is good practice to use initial capitalization for class names.\n",
    "\n",
    "In math, in two dimensions, a point is two numbers (coordinates) that are treated collectively as a single object. Points are often written in parentheses with a comma separating the coordinates. For example, (0, 0) represents the origin, and (x, y) represents the point x units to the right and y units up from the origin.\n",
    "\n",
    "A natural way to represent a point in Python is with two numeric values. An object is a natural way to group these two variables. This can be done by defining a new class. We’ll want our points to each have an x and a y attribute, where an attribute is a named data item inside a class. So our first class definition would looks like this:"
   ]
  },
  {
   "cell_type": "code",
   "execution_count": 1,
   "metadata": {},
   "outputs": [
    {
     "name": "stdout",
     "output_type": "stream",
     "text": [
      "0 0\n",
      "0.5 100\n"
     ]
    }
   ],
   "source": [
    "class Point:\n",
    "    ''' A class that represents and manipulates 2D points'''\n",
    "    \n",
    "    def __init__(self):\n",
    "        ''' \n",
    "        (self) -> None\n",
    "        Initializes a new point at (0,0)\n",
    "        '''\n",
    "        self.x = 0\n",
    "        self.y = 0\n",
    "\n",
    "w = Point()\n",
    "print(w.x, w.y)\n",
    "\n",
    "w.x = 0.5\n",
    "w.y = 100\n",
    "print(w.x, w.y)"
   ]
  },
  {
   "cell_type": "markdown",
   "metadata": {},
   "source": [
    "An instantiation operation is performed by using parentheses like a function call\n"
   ]
  },
  {
   "cell_type": "code",
   "execution_count": 2,
   "metadata": {},
   "outputs": [
    {
     "name": "stdout",
     "output_type": "stream",
     "text": [
      "0 0\n"
     ]
    }
   ],
   "source": [
    "w = Point()\n",
    "print(w.x,w.y)"
   ]
  },
  {
   "cell_type": "markdown",
   "metadata": {},
   "source": [
    "An instantiation operation creates an instance, which is an individual object of the given class. \n",
    "\n",
    "An instantiation operation automatically calls the `__init__` method defined in the class definition. The `__init__` method, commonly known as a \"constructor\", is responsible for setting up the initial state of the new instance. \n",
    "\n",
    "In the example above, the `__init__` method creates two new attributes, `x` and `y`, and assigns default values of 0. The `self` parameter (we could choose any other name, but `self` is the convention) is automatically set to reference the newly created object that needs to be initialized.\n",
    "\n",
    "So let's do something with our new object."
   ]
  },
  {
   "cell_type": "code",
   "execution_count": 3,
   "metadata": {},
   "outputs": [
    {
     "name": "stdout",
     "output_type": "stream",
     "text": [
      "0 0 0 0\n"
     ]
    }
   ],
   "source": [
    "# Instantiate an object of type Point\n",
    "my_point = Point()\n",
    "\n",
    "# Make a second point\n",
    "second_point = Point()\n",
    "\n",
    "# Print the point data\n",
    "print(my_point.x, my_point.y, second_point.x, second_point.y)"
   ]
  },
  {
   "cell_type": "markdown",
   "metadata": {},
   "source": [
    "We can modify the attributes in an instance using dot notation:"
   ]
  },
  {
   "cell_type": "code",
   "execution_count": 4,
   "metadata": {},
   "outputs": [
    {
     "name": "stdout",
     "output_type": "stream",
     "text": [
      "4 4.6\n"
     ]
    }
   ],
   "source": [
    "my_point.x = 4\n",
    "my_point.y = 4.6\n",
    "print(my_point.x, my_point.y)"
   ]
  },
  {
   "cell_type": "markdown",
   "metadata": {},
   "source": [
    "To create a point at position (2, 4) currently needs three lines of code:"
   ]
  },
  {
   "cell_type": "code",
   "execution_count": 5,
   "metadata": {},
   "outputs": [
    {
     "name": "stdout",
     "output_type": "stream",
     "text": [
      "2 4\n"
     ]
    }
   ],
   "source": [
    "p = Point()\n",
    "p.x = 2\n",
    "p.y = 4\n",
    "print(p.x, p.y)"
   ]
  },
  {
   "cell_type": "markdown",
   "metadata": {},
   "source": [
    "We can make our class constructor more convenient by placing extra parameters in the `__init__` method, as shown in this example:"
   ]
  },
  {
   "cell_type": "code",
   "execution_count": 4,
   "metadata": {},
   "outputs": [],
   "source": [
    "class Point:\n",
    "    ''' A class that represents and manipulates 2D points'''\n",
    "    \n",
    "    def __init__(self, x = 0, y = 0):\n",
    "        ''' \n",
    "        (self) -> None\n",
    "        Initializes a new point at (0,0)\n",
    "        '''\n",
    "        self.x = x\n",
    "        self.y = y"
   ]
  },
  {
   "cell_type": "markdown",
   "metadata": {},
   "source": [
    "The `x` and `y` parameters here are both optional. If the caller does not supply arguments, they’ll get the default values of 0. Here is our improved class in action:"
   ]
  },
  {
   "cell_type": "code",
   "execution_count": 5,
   "metadata": {},
   "outputs": [
    {
     "name": "stdout",
     "output_type": "stream",
     "text": [
      "2 4\n",
      "8 15\n"
     ]
    }
   ],
   "source": [
    "p = Point()\n",
    "p.x = 2\n",
    "p.y = 4\n",
    "print(p.x, p.y)\n",
    "\n",
    "q = Point(8,15)\n",
    "print(q.x,q.y)\n"
   ]
  },
  {
   "cell_type": "markdown",
   "metadata": {},
   "source": [
    "So far, our class doesn't do much. What kinds of methods would make sense to add to the `Point` class?\n",
    "\n",
    "How about one that calculates the Euclidean distance to another point?"
   ]
  },
  {
   "cell_type": "code",
   "execution_count": null,
   "metadata": {},
   "outputs": [],
   "source": [
    "import math \n",
    "class Point:\n",
    "    ''' A class that represents and manipulates 2D points'''\n",
    "    \n",
    "    def __init__(self, x = 0, y = 0):\n",
    "        ''' \n",
    "        (self) -> None\n",
    "        Initializes a new point at (0,0)\n",
    "        '''\n",
    "        self.x = x\n",
    "        self.y = y\n",
    "\n",
    "    def calculate_distance(self, other):\n",
    "        ''' \n",
    "        (self,Point) -> float\n",
    "        Calculates the Euclidean distance between self and other\n",
    "        '''\n",
    "        return math.sqrt((self.x - other.x)**2 + (self.y - other.y)**2)"
   ]
  },
  {
   "cell_type": "code",
   "execution_count": 8,
   "metadata": {},
   "outputs": [
    {
     "name": "stdout",
     "output_type": "stream",
     "text": [
      "2 4\n",
      "8 15\n",
      "12.529964086141668\n"
     ]
    }
   ],
   "source": [
    "p = Point()\n",
    "p.x = 2\n",
    "p.y = 4\n",
    "print(p.x, p.y)\n",
    "\n",
    "q = Point(8,15)\n",
    "print(q.x,q.y)\n",
    "\n",
    "print(q.calculate_distance(p))"
   ]
  },
  {
   "cell_type": "markdown",
   "metadata": {},
   "source": [
    "## Another Example: hours & minutes\n",
    "\n",
    "Create a class that keeps track of time by representing hours and minutes."
   ]
  },
  {
   "cell_type": "code",
   "execution_count": null,
   "metadata": {},
   "outputs": [],
   "source": [
    "class Time:\n",
    "    '''A class that represents time objects in terms of hours and minutes'''\n",
    "    \n",
    "    def __init__(self, h = 0, m = 0):\n",
    "        ''' \n",
    "        (self,int=0,int=0) -> None\n",
    "        Initializes a new Time object with hours = h, minutes = m, defaulting to 0,0\n",
    "        '''        \n",
    "        self.hours = h\n",
    "        self.minutes = m\n",
    "    \n",
    "time1 = Time()\n",
    "\n",
    "time1.hours = 7\n",
    "time1.minutes = 15\n",
    "\n",
    "time2 = Time(12,45)  \n",
    "\n",
    "print(time1.hours, time1.minutes)\n",
    "print(time2.hours, time2.minutes)\n"
   ]
  },
  {
   "cell_type": "markdown",
   "metadata": {},
   "source": [
    "What methods would we like the `Time` class to be able to perform? By analogy to `Point`, perhaps we want to be able to calculate the time between two time points."
   ]
  },
  {
   "cell_type": "code",
   "execution_count": null,
   "metadata": {},
   "outputs": [],
   "source": [
    "class Time:\n",
    "    '''A class that represents time objects in terms of hours and minutes'''\n",
    "    \n",
    "    def __init__(self, h = 0, m = 0):\n",
    "        ''' \n",
    "        (self,int=0,int=0) -> None\n",
    "        Initializes a new Time object with hours = h, minutes = m, defaulting to 0,0\n",
    "        '''        \n",
    "        self.hours = h\n",
    "        self.minutes = m\n",
    "\n",
    "    def difference(self, other):\n",
    "        # TODO: some algorithm to calculate time difference\n",
    "        print(\"** Unimplemented function **. Here I am:\", other.hours, other.minutes)\n",
    "        ans = Time(3,21)\n",
    "        return ans\n",
    "    \n",
    "time1 = Time()\n",
    "\n",
    "time1.hours = 7\n",
    "time1.minutes = 15\n",
    "\n",
    "time2 = Time(12,45)  \n",
    "\n",
    "print(time1.hours, time1.minutes)\n",
    "print(time2.hours, time2.minutes)\n",
    "\n",
    "time_diff = time1.difference(time2)\n",
    "\n",
    "print(time_diff.hours, time_diff.minutes)"
   ]
  },
  {
   "cell_type": "markdown",
   "metadata": {},
   "source": [
    "So now we have the infrastructure for the method - we just need to figure out the right way to write it. It might not be immediately apparent what to do here if you think about the different cases: other could be in the past or future, other could be many hours different from self, ... and so we are going to have to figure out how to do the hours/minutes conversion, etc. \n",
    "\n",
    "Other questions: how to handle AM and PM? how to handle times on different days?\n",
    "\n",
    "We'll leave this for you to think about."
   ]
  },
  {
   "cell_type": "markdown",
   "metadata": {},
   "source": [
    "## Another Example: patient data\n",
    "\n",
    "What if you are writing a medical application that needs to keep track of patients and their data. (Or a system like ACORN that needs to keep track of students). Because you have a very obvious object (the patient, the student), and object oriented approach may be a good idea.\n",
    "\n",
    "Here's a small example of a data to keep track of patient data. We would probably need many more attributes. We may want to add another object: Patient."
   ]
  },
  {
   "cell_type": "code",
   "execution_count": null,
   "metadata": {},
   "outputs": [],
   "source": [
    "class PatientData:\n",
    "    '''A class that stores and manipulates patient data'''\n",
    "    \n",
    "    def __init__(self):\n",
    "        ''' (self) -> None\n",
    "        Initializes patient data to 0\n",
    "        '''\n",
    "        self.height_cm = 0\n",
    "        self.weight_kg = 0\n",
    "\n",
    "Luna_Lovegood = PatientData()\n",
    "print('Patient data (before):', end=' ')\n",
    "print(Luna_Lovegood.height_cm, 'cm,', end=' ')\n",
    "print(Luna_Lovegood.weight_kg, 'kg')\n",
    "\n",
    "\n",
    "Luna_Lovegood.height_cm = 155\n",
    "Luna_Lovegood.weight_kg = 52\n",
    "\n",
    "print('Patient data (after):', end=' ')\n",
    "print(Luna_Lovegood.height_cm, 'cm,', end=' ')\n",
    "print(Luna_Lovegood.weight_kg, 'kg')\n",
    "\n"
   ]
  },
  {
   "cell_type": "markdown",
   "metadata": {},
   "source": [
    "<div class=\"alert alert-block alert-info\">\n",
    "<big><b>This Lecture</b></big>\n",
    "<ul>  \n",
    " <li>Object Oriented programming: a new way to think about programs</li>  \n",
    " <li>class, instance, object </li>  \n",
    "    <li>defining classes, data attributes, etc.</li>\n",
    "</ul>  \n",
    "</div>"
   ]
  },
  {
   "cell_type": "code",
   "execution_count": null,
   "metadata": {},
   "outputs": [],
   "source": []
  }
 ],
 "metadata": {
  "kernelspec": {
   "display_name": "Python 3",
   "language": "python",
   "name": "python3"
  },
  "language_info": {
   "codemirror_mode": {
    "name": "ipython",
    "version": 3
   },
   "file_extension": ".py",
   "mimetype": "text/x-python",
   "name": "python",
   "nbconvert_exporter": "python",
   "pygments_lexer": "ipython3",
   "version": "3.7.2"
  }
 },
 "nbformat": 4,
 "nbformat_minor": 1
}
