{
 "cells": [
  {
   "cell_type": "markdown",
   "metadata": {},
   "source": [
    "## APS106 Lecture Notes - Week 6, Lecture 1\n",
    "# Loops"
   ]
  },
  {
   "cell_type": "markdown",
   "metadata": {},
   "source": [
    "## Some Programmer History\n",
    "\n",
    "![Worsley](images/Beatrice_Worsley.jpeg)\n",
    "\n",
    "(From Wikipedia) [Beatrice Worsley]([https://en.wikipedia.org/wiki/Beatrice_Worsley) earned the first PhD in computer science (University of Cambridge supervised by Alan Turing and Douglas Hartree). \"She wrote the first program to run on EDSAC, co-wrote the first compiler for Toronto's Ferranti Mark 1, wrote numerous papers in computer science, and taught computers and engineering at Queen's University and the University of Toronto for over 20 years before her death at the age of 50.\"\n",
    "\n",
    "![Worsley](images/worsley.jpeg)\n",
    "\n",
    "![Worsley](images/worsley_location2.png)"
   ]
  },
  {
   "cell_type": "markdown",
   "metadata": {},
   "source": [
    "## Lectures This Week\n",
    "\n",
    "\n",
    "| Lecture | Topics | Reading |\n",
    "| --- | --- | --- | \n",
    "| 6.1 | For-loops: `while` is so last month | Sect 9.3, 9.4 |\n",
    "| 6.2 | For-loops on indices, nested loops | Sect 9.5-9.9 |\n",
    "| 6.3 | Design Problem: MadLib |  |\n",
    "\n",
    " "
   ]
  },
  {
   "cell_type": "markdown",
   "metadata": {},
   "source": [
    "Problem: You have had your DNA sequenced and each of your chromosomes is represented by a string of nucleotides: adenine (A), thymine (T), guanine (G), and cytosine (C). Each nucleotide is represented by its corresponding letter. For example:\n",
    " \n",
    "```\n",
    "chrome_4 = \"ATGGGCAATCGATGGCCTAATCTCTCTAAG\"\n",
    "```\n",
    "\n",
    "You want to do some data analysis of your genome and to start (this is called \"Exploratory Data Analysis (EDA)\" in data science), you want to count the number of occurences of each letter.\n",
    "\n",
    "There are a number of ways to do this.\n",
    "\n",
    "First, there exists a handy method on the string objects which counts sub-strings."
   ]
  },
  {
   "cell_type": "code",
   "execution_count": 1,
   "metadata": {},
   "outputs": [
    {
     "name": "stdout",
     "output_type": "stream",
     "text": [
      "Help on method_descriptor:\n",
      "\n",
      "count(...)\n",
      "    S.count(sub[, start[, end]]) -> int\n",
      "    \n",
      "    Return the number of non-overlapping occurrences of substring sub in\n",
      "    string S[start:end].  Optional arguments start and end are\n",
      "    interpreted as in slice notation.\n",
      "\n"
     ]
    }
   ],
   "source": [
    "help(str.count)"
   ]
  },
  {
   "cell_type": "code",
   "execution_count": 5,
   "metadata": {},
   "outputs": [
    {
     "name": "stdout",
     "output_type": "stream",
     "text": [
      "A 8\n",
      "C 7\n",
      "W 0\n"
     ]
    }
   ],
   "source": [
    "chrome_4 = \"ATGGGCAATCGATGGCCTAATCTCTCTAAG\"\n",
    "print(\"A\",chrome_4.count('A'))\n",
    "print(\"C\",chrome_4.count('C'))\n",
    "print(\"W\",chrome_4.count('W'))"
   ]
  },
  {
   "cell_type": "markdown",
   "metadata": {},
   "source": [
    "`count()` doesn't just apply to sub-strings of size 1."
   ]
  },
  {
   "cell_type": "code",
   "execution_count": 7,
   "metadata": {},
   "outputs": [
    {
     "name": "stdout",
     "output_type": "stream",
     "text": [
      "TC 4\n"
     ]
    }
   ],
   "source": [
    "print(\"TC\",chrome_4.count('TC'))"
   ]
  },
  {
   "cell_type": "markdown",
   "metadata": {},
   "source": [
    "**A Second Way**: since we know about indexing and a while-loop, can you do this with a loop?"
   ]
  },
  {
   "cell_type": "code",
   "execution_count": 10,
   "metadata": {},
   "outputs": [
    {
     "name": "stdout",
     "output_type": "stream",
     "text": [
      "0 A\n",
      "1 T\n",
      "2 G\n",
      "3 G\n",
      "4 G\n",
      "5 C\n",
      "6 A\n",
      "7 A\n",
      "8 T\n",
      "9 C\n",
      "10 G\n",
      "11 A\n",
      "12 T\n",
      "13 G\n",
      "14 G\n",
      "15 C\n",
      "16 C\n",
      "17 T\n",
      "18 A\n",
      "19 A\n",
      "20 T\n",
      "21 C\n",
      "22 T\n",
      "23 C\n",
      "24 T\n",
      "25 C\n",
      "26 T\n",
      "27 A\n",
      "28 A\n",
      "29 G\n"
     ]
    }
   ],
   "source": [
    "i = 0\n",
    "while i < len(chrome_4):\n",
    "    print(i, chrome_4[i])\n",
    "    i += 1"
   ]
  },
  {
   "cell_type": "code",
   "execution_count": 12,
   "metadata": {},
   "outputs": [
    {
     "name": "stdout",
     "output_type": "stream",
     "text": [
      "A 8\n"
     ]
    }
   ],
   "source": [
    "i = 0\n",
    "counter = 0\n",
    "while i < len(chrome_4):\n",
    "    if chrome_4[i] == 'A':\n",
    "        counter += 1\n",
    "    i += 1\n",
    "    \n",
    "print('A', counter)"
   ]
  },
  {
   "cell_type": "markdown",
   "metadata": {},
   "source": [
    "In fact, we can put this in a function so that it looks a bit like `count()`"
   ]
  },
  {
   "cell_type": "code",
   "execution_count": 14,
   "metadata": {},
   "outputs": [
    {
     "name": "stdout",
     "output_type": "stream",
     "text": [
      "A 8\n",
      "C 7\n",
      "W 0\n"
     ]
    }
   ],
   "source": [
    "def my_count(target, letter):\n",
    "    '''\n",
    "    (str, str) -> int\n",
    "    Returns the number of times that letter appears in target\n",
    "    '''\n",
    "    i = 0\n",
    "    counter = 0\n",
    "    while i < len(target):\n",
    "        if target[i] == letter:\n",
    "            counter += 1\n",
    "        i += 1\n",
    "\n",
    "    return counter\n",
    "\n",
    "print(\"A\",my_count(chrome_4, 'A'))\n",
    "print(\"C\",my_count(chrome_4, 'C'))\n",
    "print(\"W\",my_count(chrome_4, 'W'))"
   ]
  },
  {
   "cell_type": "markdown",
   "metadata": {},
   "source": [
    "Now let's look at a new way to do this -- a more convenient looping construct: `for`.\n",
    "\n",
    "## For Loops\n",
    "\n",
    "The general form of a for loop is:\n",
    "```\n",
    "for item in iterable:\n",
    "    body\n",
    "```\n",
    "Where \"iterable\" can be anything that can be 'iterated' over. So far, the only iterable we know about are strings.\n",
    "\n",
    "Similar to `if` and `while` statements, there are two things to note here:\n",
    "- There must be a colon (:) at the end of the `for` statement.\n",
    "- The body must be indented.\n",
    "\n",
    "The best way to understand for loops is to look at a few examples.\n",
    "\n",
    "**For Loops Over Strings**\n",
    "\n",
    "The general form of a for loop over a string is:\n",
    "```\n",
    "for variable in string:\n",
    "    body\n",
    "```\n",
    "The variable refers to each character of the string in order and executes the body of the loop for each item. So let's go back to our example."
   ]
  },
  {
   "cell_type": "code",
   "execution_count": 16,
   "metadata": {},
   "outputs": [
    {
     "name": "stdout",
     "output_type": "stream",
     "text": [
      "A T G G G C A A T C G A T G G C C T A A T C T C T C T A A G \n"
     ]
    }
   ],
   "source": [
    "chrome_4 = \"ATGGGCAATCGATGGCCTAATCTCTCTAAG\"\n",
    "\n",
    "for ch in chrome_4:\n",
    "    print(ch, end=\" \")\n",
    "    \n",
    "print()\n"
   ]
  },
  {
   "cell_type": "markdown",
   "metadata": {},
   "source": [
    "This is really just an easier way to do what we did with the `while` loop above. However, notice the differences:\n",
    "- in the `while` loop the loop variable (`i`) was the index of each character, while in the `for` loop the loop variable (`ch`) is the **value** of each character.\n",
    "- we do not have to worry about how long the string is (e.g., use `len()`) because the `for` loop will go through every character of the string exactly once\n",
    "- we do not have to worry about incrementing the loop variable (`i += 1`) as the `for` loop takes care of this.\n",
    "\n",
    "Let's re-write our `my_count` function."
   ]
  },
  {
   "cell_type": "code",
   "execution_count": 17,
   "metadata": {},
   "outputs": [
    {
     "name": "stdout",
     "output_type": "stream",
     "text": [
      "A 8\n",
      "C 7\n",
      "W 0\n"
     ]
    }
   ],
   "source": [
    "def my_count(target, letter):\n",
    "    '''\n",
    "    (str, str) -> int\n",
    "    Returns the number of times that letter appears in target\n",
    "    '''\n",
    "    counter = 0\n",
    "    for c in target:\n",
    "        if c == letter:\n",
    "            counter += 1\n",
    "\n",
    "    return counter\n",
    "\n",
    "print(\"A\",my_count(chrome_4, 'A'))\n",
    "print(\"C\",my_count(chrome_4, 'C'))\n",
    "print(\"W\",my_count(chrome_4, 'W'))"
   ]
  },
  {
   "cell_type": "markdown",
   "metadata": {},
   "source": [
    "**Example: Numeric Accumulator**\n",
    "\n",
    "Write a function that takes in a string and returns the number of vowels in the string.\n",
    "\n",
    "Hint: The `in` operator can be very helpful here."
   ]
  },
  {
   "cell_type": "code",
   "execution_count": 18,
   "metadata": {},
   "outputs": [
    {
     "name": "stdout",
     "output_type": "stream",
     "text": [
      "yes\n",
      "no\n"
     ]
    }
   ],
   "source": [
    "if 'a' in 'abc':\n",
    "    print(\"yes\")\n",
    "else:\n",
    "    print('no')\n",
    "\n",
    "if 'w' in 'abc':\n",
    "    print(\"yes\")\n",
    "else:\n",
    "    print('no')\n"
   ]
  },
  {
   "cell_type": "code",
   "execution_count": 13,
   "metadata": {},
   "outputs": [],
   "source": [
    "def count_vowels(s):\n",
    "    \"\"\"\n",
    "    (str) -> int\n",
    "    Return the number of vowles in s\n",
    "    \"\"\"\n",
    "\n",
    "    num_vowels = 0\n",
    "    \n",
    "    for char in s:\n",
    "        if char in 'aeiouAEIOU':\n",
    "            num_vowels += 1\n",
    "    return num_vowels"
   ]
  },
  {
   "cell_type": "code",
   "execution_count": 15,
   "metadata": {},
   "outputs": [
    {
     "name": "stdout",
     "output_type": "stream",
     "text": [
      "5\n"
     ]
    }
   ],
   "source": [
    "print(count_vowels('Happy Anniversary!'))"
   ]
  },
  {
   "cell_type": "code",
   "execution_count": 16,
   "metadata": {},
   "outputs": [
    {
     "name": "stdout",
     "output_type": "stream",
     "text": [
      "0\n"
     ]
    }
   ],
   "source": [
    "print(count_vowels('xyz'))"
   ]
  },
  {
   "cell_type": "markdown",
   "metadata": {},
   "source": [
    "The loop in the function above will loop over each character in `s`, in turn. The body of the loop is executed for each character, and when a character is a vowel, the `if` condition is `True` and the value that `num_vowels` refers to is increased by one.\n",
    "\n",
    "The variable `num_vowels` is an \"accumulator\", because it accumulates information. It starts out referring to the value 0 and by the end of the function it refers to the number of vowels in s.\n",
    "\n",
    "**Example: String Accumulator**\n",
    "\n",
    "Let's do the same thing but rather than return the number of vowels, return a list of all the vowels encountered. \n",
    "\n",
    "Hint: Your accumulator needs to be a string variable and you need to add each vowel to the end of it."
   ]
  },
  {
   "cell_type": "code",
   "execution_count": 1,
   "metadata": {},
   "outputs": [],
   "source": [
    "def collect_vowels(s):\n",
    "    \"\"\" (str) -> str \"\"\"\n",
    "    vowels = ''\n",
    "    for char in s:\n",
    "        if char in 'aeiouAEIOU':\n",
    "            vowels += char\n",
    "    return vowels"
   ]
  },
  {
   "cell_type": "code",
   "execution_count": 2,
   "metadata": {},
   "outputs": [
    {
     "name": "stdout",
     "output_type": "stream",
     "text": [
      "aAiea\n"
     ]
    }
   ],
   "source": [
    "print(collect_vowels('Happy Anniversary!'))"
   ]
  },
  {
   "cell_type": "code",
   "execution_count": 3,
   "metadata": {},
   "outputs": [
    {
     "name": "stdout",
     "output_type": "stream",
     "text": [
      "\n"
     ]
    }
   ],
   "source": [
    "print(collect_vowels('xyz'))"
   ]
  },
  {
   "cell_type": "markdown",
   "metadata": {},
   "source": [
    "Variable `vowels` initially refers to the empty string, but over the course of the function it accumulates the vowels from `s`.\n",
    "\n",
    "<div class=\"alert alert-block alert-info\">\n",
    "<big><b>This Lecture</b></big>\n",
    "<ul>  \n",
    "    <li>Looping over strings</li>\n",
    "    <li>Accumulators</li>\n",
    "<b>See Chapter 9 of the Gries textbook. This is all in there.</b>\n",
    "</div>"
   ]
  },
  {
   "cell_type": "code",
   "execution_count": null,
   "metadata": {},
   "outputs": [],
   "source": []
  }
 ],
 "metadata": {
  "kernelspec": {
   "display_name": "Python 3",
   "language": "python",
   "name": "python3"
  },
  "language_info": {
   "codemirror_mode": {
    "name": "ipython",
    "version": 3
   },
   "file_extension": ".py",
   "mimetype": "text/x-python",
   "name": "python",
   "nbconvert_exporter": "python",
   "pygments_lexer": "ipython3",
   "version": "3.7.2"
  }
 },
 "nbformat": 4,
 "nbformat_minor": 1
}
