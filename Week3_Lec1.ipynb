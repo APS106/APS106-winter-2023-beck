{
 "cells": [
  {
   "cell_type": "markdown",
   "metadata": {},
   "source": [
    "# APS106 Lecture Notes - Week 3, Lecture 1\n",
    "# Conditionals"
   ]
  },
  {
   "cell_type": "markdown",
   "metadata": {},
   "source": [
    "## Lectures This Week\n",
    "\n",
    "\n",
    "| Lecture | Topics | Reading |\n",
    "| --- | --- | --- | \n",
    "| 3.1 | Booleans, conditionals, and if-statements  | Ch 5 |\n",
    "| 3.2 | advanced comparisons, else & elif, nested ifs | Ch 5  |\n",
    "| 3.3 | Rock, Paper, Scissors, Spock, Lizard | |  \n",
    "\n",
    "## Booleans\n",
    "\n",
    "So far we've seen 3 data types in Python: `int` for integers, `float` for real numbers, and `str` for strings of characters. Programming languages typically also have a data type that is dedicated to representing values of true and false. In Python this type is called `bool`. You can think of it as a strange type of variable with only two possible values: True and False. Here are some examples of Boolean assignment:\n"
   ]
  },
  {
   "cell_type": "code",
   "execution_count": 1,
   "metadata": {},
   "outputs": [
    {
     "name": "stdout",
     "output_type": "stream",
     "text": [
      "True\n"
     ]
    }
   ],
   "source": [
    "case = True\n",
    "print(case)"
   ]
  },
  {
   "cell_type": "code",
   "execution_count": 2,
   "metadata": {},
   "outputs": [
    {
     "name": "stdout",
     "output_type": "stream",
     "text": [
      "False\n"
     ]
    }
   ],
   "source": [
    "state = False\n",
    "print(state)"
   ]
  },
  {
   "cell_type": "markdown",
   "metadata": {},
   "source": [
    "There real power of `bool` comes when they are combined with comparison operators.\n",
    "\n",
    "**Comparison operators**\n",
    "\n",
    "Think back to the usual mathematical operators like `+`. This operator takes two numeric types (`int` or `float`) and produces a new value of a numeric type (again, `int` or `float`) depending on the types of the input values.\n",
    "\n",
    "Comparison operators (like `<`) take two values and produce a `bool` value. (see Gries pg. 80).\n",
    "\n",
    "| Description  | Operator | Example | Result |\n",
    "|--------------|----------|---------|--------|\n",
    "| less than    | `<`        | 3 < 4.3   | True   |\n",
    "| greater than | `>`        | 3 > 4   | False  |\n",
    "| equal to     | `==`       | 3 == 4  | False  |\n",
    "| greater than or equal to | `>=` | 3.0 >= 4 |False |\n",
    "| less than or equal to | `<=` | 3 <= 4 | True |\n",
    "| not equal to | `!=`       | 3 != 4 | True |\n",
    "\n",
    "Examples:"
   ]
  },
  {
   "cell_type": "code",
   "execution_count": 3,
   "metadata": {},
   "outputs": [
    {
     "name": "stdout",
     "output_type": "stream",
     "text": [
      "True\n"
     ]
    }
   ],
   "source": [
    "print(1 == 1)"
   ]
  },
  {
   "cell_type": "code",
   "execution_count": 4,
   "metadata": {},
   "outputs": [
    {
     "name": "stdout",
     "output_type": "stream",
     "text": [
      "False\n"
     ]
    }
   ],
   "source": [
    "print(2 > 3)"
   ]
  },
  {
   "cell_type": "code",
   "execution_count": 5,
   "metadata": {},
   "outputs": [
    {
     "name": "stdout",
     "output_type": "stream",
     "text": [
      "False\n"
     ]
    }
   ],
   "source": [
    "print(1 != 1)"
   ]
  },
  {
   "cell_type": "code",
   "execution_count": 6,
   "metadata": {},
   "outputs": [
    {
     "name": "stdout",
     "output_type": "stream",
     "text": [
      "False\n"
     ]
    }
   ],
   "source": [
    "print(2*3 == 5)"
   ]
  },
  {
   "cell_type": "code",
   "execution_count": 7,
   "metadata": {},
   "outputs": [
    {
     "name": "stdout",
     "output_type": "stream",
     "text": [
      "True\n"
     ]
    }
   ],
   "source": [
    "print(2*3 != 5)"
   ]
  },
  {
   "cell_type": "markdown",
   "metadata": {},
   "source": [
    "We can, of course, do the same comparisons with variables."
   ]
  },
  {
   "cell_type": "code",
   "execution_count": 8,
   "metadata": {},
   "outputs": [
    {
     "name": "stdout",
     "output_type": "stream",
     "text": [
      "False\n"
     ]
    }
   ],
   "source": [
    "x = 5\n",
    "y = 3\n",
    "print(x == y)"
   ]
  },
  {
   "cell_type": "code",
   "execution_count": 9,
   "metadata": {},
   "outputs": [
    {
     "name": "stdout",
     "output_type": "stream",
     "text": [
      "True\n"
     ]
    }
   ],
   "source": [
    "print(x > y)"
   ]
  },
  {
   "cell_type": "markdown",
   "metadata": {},
   "source": [
    "**IMPORTANT: Note the difference between `=` and `==`!**\n",
    "\n",
    "As we have seen, `=` is an assignment. You assign the value of the thing on the right-hand side (rhs) to the thing on the left-hand side (lhs)."
   ]
  },
  {
   "cell_type": "code",
   "execution_count": 2,
   "metadata": {},
   "outputs": [
    {
     "name": "stdout",
     "output_type": "stream",
     "text": [
      "5\n"
     ]
    }
   ],
   "source": [
    "x = 5\n",
    "print(x)"
   ]
  },
  {
   "cell_type": "markdown",
   "metadata": {},
   "source": [
    "`==` is a comparison. It compares the value of the thing on the rhs to the value of the thing on the lhs and returns True if they are the same and False if they are different. "
   ]
  },
  {
   "cell_type": "code",
   "execution_count": 3,
   "metadata": {},
   "outputs": [
    {
     "name": "stdout",
     "output_type": "stream",
     "text": [
      "True\n"
     ]
    }
   ],
   "source": [
    "print(x == 5)"
   ]
  },
  {
   "cell_type": "code",
   "execution_count": 12,
   "metadata": {},
   "outputs": [
    {
     "name": "stdout",
     "output_type": "stream",
     "text": [
      "False\n"
     ]
    }
   ],
   "source": [
    "print(x == 3)"
   ]
  },
  {
   "cell_type": "code",
   "execution_count": 13,
   "metadata": {},
   "outputs": [
    {
     "name": "stdout",
     "output_type": "stream",
     "text": [
      "5\n"
     ]
    }
   ],
   "source": [
    "print(x)"
   ]
  },
  {
   "cell_type": "markdown",
   "metadata": {},
   "source": [
    "## The `if` Statement\n",
    "\n",
    "So what can we do with booleans? They are at the core of the first important “control structure” we will study in programming. Rather than having to execute a sequence of statements, like we’ve been doing so far, we can use the booleans and comparison operators to decide which statements to execute.\n",
    "\n",
    "Imagine you are writing code to control a self-driving car. One standard desire is to keep the car going at the speed that has been set by the driver. Depending on if you are going up a hill, down a hill, or on a flat stretch of road, you may have to decide to provide more acceleration or to brake. In pseudocode this could look something like:\n",
    "\n",
    "- Get current speed\n",
    "- If current speed is above the set speed: brake\n",
    "- If current speed is below the set speed: accelerate\n",
    "\n",
    "This can be translated almost directly into Python."
   ]
  },
  {
   "cell_type": "code",
   "execution_count": null,
   "metadata": {},
   "outputs": [],
   "source": [
    "current_speed = get_current_speed()\n",
    "set_speed = get_set_speed()\n",
    "if current_speed > set_speed:\n",
    "    brake()\n",
    "\n",
    "if current_speed < set_speed:\n",
    "    accelerate()"
   ]
  },
  {
   "cell_type": "markdown",
   "metadata": {},
   "source": [
    "(Of course, you need to implement the functions `get_current_speed`, `get_set_speed`, `brake`, and `accelerate`.)\n",
    "\n",
    "`if` statements can be used to control which instructions are executed by creating a “branch” in the code. The `if` statement evaluates a Boolean expression, and if it is True, then it runs the code under it, otherwise it skips it. A simple general form of an `if` statement is as follows:\n",
    "\n",
    "```\n",
    "if condition:\n",
    "    block\n",
    "``` \n",
    "\n",
    "`if` statements are always followed by a colon (:), this is how Python knows you are going to create a new block of code. Indenting four spaces tells Python what lines of code are in that block. You must indent a block!! A block can contain any number of lines and they all must be indented.\n",
    "\n",
    "Another example."
   ]
  },
  {
   "cell_type": "code",
   "execution_count": 14,
   "metadata": {},
   "outputs": [
    {
     "name": "stdout",
     "output_type": "stream",
     "text": [
      "Too many cats! The world is doomed!\n",
      "The world is dry!\n"
     ]
    }
   ],
   "source": [
    "people = 20\n",
    "cats = 30\n",
    "dogs = 15\n",
    "\n",
    "if people < cats:\n",
    "    print(\"Too many cats! The world is doomed!\")\n",
    "\n",
    "if people >= cats:\n",
    "    print(\"Not many cats! The world is saved!\")\n",
    "\n",
    "if people < dogs:\n",
    "    print(\"The world is drooled on!\")\n",
    "\n",
    "if people >= dogs:\n",
    "    print(\"The world is dry!\")\n",
    "\n"
   ]
  },
  {
   "cell_type": "markdown",
   "metadata": {},
   "source": [
    "In the above example, we have two `if` statements that are logically related. That is, the last two if-statements cannot both be true because the number of people will never be both less than and greater than or equal to the number of dogs. Thus, we can merge if statements using  `else`. (Same with the first two if-statements).\n",
    "\n",
    "We can re-write the example as follows."
   ]
  },
  {
   "cell_type": "code",
   "execution_count": 15,
   "metadata": {},
   "outputs": [
    {
     "name": "stdout",
     "output_type": "stream",
     "text": [
      "Too many cats! The world is doomed!\n",
      "The world is dry!\n"
     ]
    }
   ],
   "source": [
    "people = 20\n",
    "cats = 30\n",
    "dogs = 15\n",
    "\n",
    "if people < cats:\n",
    "    print(\"Too many cats! The world is doomed!\")\n",
    "else:\n",
    "    print(\"Not many cats! The world is saved!\")\n",
    "\n",
    "if people < dogs:\n",
    "    print(\"The world is drooled on!\")\n",
    "else:\n",
    "    print(\"The world is dry!\")\n"
   ]
  },
  {
   "cell_type": "markdown",
   "metadata": {},
   "source": [
    "The general form of an if-else is:\n",
    "```\n",
    "if condition:\n",
    "    block1\n",
    "else:\n",
    "    block2\n",
    "```\n",
    "\n",
    "Exactly one of block1 and block2 will be executed. **Note that the colons and indentation are required!**\n",
    "\n",
    "## Logical Operators\n",
    "\n",
    "Often our test is more complicated. For example, we probably only want to accelerate if we are under the set speed but also if there is not a car too close in front of us. And so we need to be able to test more than one condition.\n",
    "\n",
    "Just as numeric operators (like `+`) combine numeric types to produce numeric types, there are also three logical operators that allow us to combine Boolean values to produce Boolean values: `and`, `or`, and `not`. "
   ]
  },
  {
   "cell_type": "code",
   "execution_count": 16,
   "metadata": {},
   "outputs": [
    {
     "name": "stdout",
     "output_type": "stream",
     "text": [
      "False\n"
     ]
    }
   ],
   "source": [
    "print(not (80 >= 50))"
   ]
  },
  {
   "cell_type": "code",
   "execution_count": 18,
   "metadata": {},
   "outputs": [
    {
     "name": "stdout",
     "output_type": "stream",
     "text": [
      "False\n"
     ]
    }
   ],
   "source": [
    "print((80 >= 50) and (70 <= 50))"
   ]
  },
  {
   "cell_type": "code",
   "execution_count": 17,
   "metadata": {},
   "outputs": [
    {
     "name": "stdout",
     "output_type": "stream",
     "text": [
      "True\n"
     ]
    }
   ],
   "source": [
    "print((80 >= 50) or (70 <= 50))"
   ]
  },
  {
   "cell_type": "code",
   "execution_count": 19,
   "metadata": {},
   "outputs": [
    {
     "name": "stdout",
     "output_type": "stream",
     "text": [
      "False\n"
     ]
    }
   ],
   "source": [
    "print(4 > 5 and 2 > 1)"
   ]
  },
  {
   "cell_type": "code",
   "execution_count": 20,
   "metadata": {},
   "outputs": [
    {
     "name": "stdout",
     "output_type": "stream",
     "text": [
      "False\n"
     ]
    }
   ],
   "source": [
    "grade1 = 80\n",
    "grade2 = 40\n",
    "passed = grade1 >= 50 and grade2 >= 50\n",
    "print(passed)"
   ]
  },
  {
   "cell_type": "markdown",
   "metadata": {},
   "source": [
    "**The `and` Logic Table (Gries p. 80)**\n",
    "\n",
    "The `and` operator evaluates to `True` if and only if both of its operands are `True`.\n",
    "\n",
    "| expr1 | expr2 | expr1 `and` expr2 |\n",
    "|-------|-------|-------------------|\n",
    "| True  | True  | |\n",
    "| True  | False | |\n",
    "| False  | True  | |\n",
    "| False  | False | |\n",
    "\n",
    "**The `or` Logic Table (Gries p. 80)**\n",
    "\n",
    "The `or` operator evaluates to `True` if one (or both) of its operands are `True`.\n",
    "\n",
    "| expr1 | expr2 | expr1 `or` expr2 |\n",
    "|-------|-------|-------------------|\n",
    "| True  | True  | |\n",
    "| True  | False | |\n",
    "| False  | True  | |\n",
    "| False  | False | |\n",
    "\n",
    "**The ` not` Logic Table (Gries p. 80)**\n",
    "\n",
    "The `not` operator evaluates to `True` if and only if its operand is `False`.\n",
    "\n",
    "| expr1 | `not` expr1 |\n",
    "|-------|-------------------|\n",
    "| True  |  |\n",
    "| False  |  |\n",
    "\n",
    "**Examples**"
   ]
  },
  {
   "cell_type": "code",
   "execution_count": 21,
   "metadata": {},
   "outputs": [
    {
     "name": "stdout",
     "output_type": "stream",
     "text": [
      "True\n"
     ]
    }
   ],
   "source": [
    "print(True and True)"
   ]
  },
  {
   "cell_type": "code",
   "execution_count": 25,
   "metadata": {},
   "outputs": [
    {
     "name": "stdout",
     "output_type": "stream",
     "text": [
      "False\n"
     ]
    }
   ],
   "source": [
    "print(True and False)"
   ]
  },
  {
   "cell_type": "code",
   "execution_count": 24,
   "metadata": {},
   "outputs": [
    {
     "name": "stdout",
     "output_type": "stream",
     "text": [
      "True\n"
     ]
    }
   ],
   "source": [
    "print(False or True)"
   ]
  },
  {
   "cell_type": "code",
   "execution_count": 23,
   "metadata": {},
   "outputs": [
    {
     "name": "stdout",
     "output_type": "stream",
     "text": [
      "False\n"
     ]
    }
   ],
   "source": [
    "print(False or not True)"
   ]
  },
  {
   "cell_type": "code",
   "execution_count": 22,
   "metadata": {},
   "outputs": [
    {
     "name": "stdout",
     "output_type": "stream",
     "text": [
      "False\n"
     ]
    }
   ],
   "source": [
    "print(False or not not not not not True) # this is a very bad idea"
   ]
  },
  {
   "cell_type": "markdown",
   "metadata": {},
   "source": [
    "Using multiple combinations of `not` operators may be valid, but will lead to confusion and should be avoided. Whenever you can try to make your code readable.\n",
    "\n",
    "What is the result of the following?"
   ]
  },
  {
   "cell_type": "code",
   "execution_count": 26,
   "metadata": {},
   "outputs": [
    {
     "name": "stdout",
     "output_type": "stream",
     "text": [
      "True\n"
     ]
    }
   ],
   "source": [
    "print(0 > 5 or \"t\" > \"a\" and 'c' != 'd')"
   ]
  },
  {
   "cell_type": "code",
   "execution_count": 27,
   "metadata": {},
   "outputs": [
    {
     "name": "stdout",
     "output_type": "stream",
     "text": [
      "False\n"
     ]
    }
   ],
   "source": [
    "print(10 < 9 and \"t\" > \"a\" and not 'c' == 'd')"
   ]
  },
  {
   "cell_type": "code",
   "execution_count": 28,
   "metadata": {},
   "outputs": [
    {
     "name": "stdout",
     "output_type": "stream",
     "text": [
      "True\n"
     ]
    }
   ],
   "source": [
    "print((10 < 9 and \"t\" > \"a\") or not \"c\" == \"d\")"
   ]
  },
  {
   "cell_type": "markdown",
   "metadata": {},
   "source": [
    "The relevant issue is not why the code gives the result it does by what the programmer actually meant in writing such code.\n",
    "\n",
    "It is always a good idea to use parentheses for clarity - even if they are not needed for correctness.\n",
    "\n",
    "**Order of Precedence for Logical Operators**\n",
    "\n",
    "The order of precedence for logical operators is: `not`, `and`, then `or`.\n",
    "\n",
    "We can override precedence using parentheses and parentheses can also be added to make things easier to read and understand.\n",
    "For example, the `not` operator is applied before the `or` operator in the following code."
   ]
  },
  {
   "cell_type": "code",
   "execution_count": 29,
   "metadata": {},
   "outputs": [
    {
     "name": "stdout",
     "output_type": "stream",
     "text": [
      "True\n"
     ]
    }
   ],
   "source": [
    "grade = 80\n",
    "grade2 = 90\n",
    "print(not grade >= 50 or grade2 >= 50)"
   ]
  },
  {
   "cell_type": "markdown",
   "metadata": {},
   "source": [
    "Parentheses make the intention clear."
   ]
  },
  {
   "cell_type": "code",
   "execution_count": 30,
   "metadata": {},
   "outputs": [
    {
     "name": "stdout",
     "output_type": "stream",
     "text": [
      "True\n"
     ]
    }
   ],
   "source": [
    "print((not grade >= 50) or (grade2 >= 50))"
   ]
  },
  {
   "cell_type": "markdown",
   "metadata": {},
   "source": [
    "Alternatively, parentheses can be added to change the order of operations and therefore the meaning of the statement:"
   ]
  },
  {
   "cell_type": "code",
   "execution_count": 31,
   "metadata": {},
   "outputs": [
    {
     "name": "stdout",
     "output_type": "stream",
     "text": [
      "False\n"
     ]
    }
   ],
   "source": [
    "print(not ((grade >= 50) or (grade2 >= 50)))"
   ]
  },
  {
   "cell_type": "markdown",
   "metadata": {},
   "source": [
    "<div class=\"alert alert-block alert-info\">\n",
    "<big><b>Where Are We?</b></big>\n",
    "    \n",
    "\n",
    "<ul>  \n",
    " <li>the bool data type</li>  \n",
    " <li>comparison operators (<, <=, ...)</li>\n",
    " <li>if and if/else</li>  \n",
    " <li>logical operators: not, and, or</li>\n",
    "</ul>  \n",
    "</div>\n",
    "\n",
    "***Questions?***"
   ]
  },
  {
   "cell_type": "markdown",
   "metadata": {},
   "source": [
    "## Checking if a Variable is Within a Range (Easy)\n",
    "\n",
    "In math it is not uncommon to write something like $0 < x < 10$ to mean that $x$ is between 0 and 10 (not including the end points). You typically cannot do this in programming languages.\n",
    "\n",
    "**But in Python you can!**"
   ]
  },
  {
   "cell_type": "code",
   "execution_count": 4,
   "metadata": {},
   "outputs": [
    {
     "name": "stdout",
     "output_type": "stream",
     "text": [
      "3 is between 0 and 10\n",
      "3 is between 10 and 1\n",
      "3 is between 0 and 3 inclusive\n",
      "or not\n"
     ]
    }
   ],
   "source": [
    "x = 3\n",
    "\n",
    "if 0 < x < 10:\n",
    "    print(x, \"is between 0 and 10\")\n",
    "    \n",
    "if 10 > x > 1:\n",
    "    print(x, \"is between 10 and 1\")\n",
    "    \n",
    "if 0 <= x <= 3:\n",
    "    print(x, \"is between 0 and 3 inclusive\")\n",
    "\n",
    "if -3 <= x < 0:\n",
    "    print(x, \"is in the interval [-3, 0) inclusive\")\n",
    "else: \n",
    "    print(\"or not\")\n",
    "\n",
    "    "
   ]
  },
  {
   "cell_type": "markdown",
   "metadata": {},
   "source": [
    "## Lazy Evaluation (A bit harder - but important)\n",
    "\n",
    "The `or` operator evaluates to True if and only if at least one operand is True. So if the first operand is True, it is unnecessary to look at the second operand: it is already known that the expression will produce True.\n",
    "\n",
    "And this is what Python does. **If the first operand of `or` evaluates to True, it doesn't evaluate the second one.**\n",
    "\n",
    "To demonstrate this, we can create a function that will print, “function called” and return False. If the portion after the or operator is evaluated, we should see the output, “function called”. "
   ]
  },
  {
   "cell_type": "code",
   "execution_count": 34,
   "metadata": {},
   "outputs": [],
   "source": [
    "def func():\n",
    "    print(\"function called\")\n",
    "    return False"
   ]
  },
  {
   "cell_type": "code",
   "execution_count": 32,
   "metadata": {},
   "outputs": [
    {
     "name": "stdout",
     "output_type": "stream",
     "text": [
      "True\n"
     ]
    }
   ],
   "source": [
    "print(True or func())"
   ]
  },
  {
   "cell_type": "markdown",
   "metadata": {},
   "source": [
    "Wait a second! How can you do `True or func()`? What the heck does that mean?\n",
    "\n",
    "Just like with numbers, booleans and boolean operators are expressions. And so the rules you know about evaluating expressions apply here. Before `print()` is called the expression in the parenthesis is evaluated. That means the `or` operator is evaluated. And `or` is evaluated by first evaluating the first operand (the `True`) and then, **only if necessary**, evaluating the second operand (the `func()`).\n",
    "\n",
    "Above `func()` is not evaluated due to lazy evaluation: if the first operand of an `or` evaluates to `True` evaluation stops."
   ]
  },
  {
   "cell_type": "code",
   "execution_count": 35,
   "metadata": {},
   "outputs": [
    {
     "name": "stdout",
     "output_type": "stream",
     "text": [
      "function called\n",
      "False\n"
     ]
    }
   ],
   "source": [
    "print(False or func())"
   ]
  },
  {
   "cell_type": "code",
   "execution_count": 36,
   "metadata": {},
   "outputs": [
    {
     "name": "stdout",
     "output_type": "stream",
     "text": [
      "function called\n",
      "True\n"
     ]
    }
   ],
   "source": [
    "print(func() or True)"
   ]
  },
  {
   "cell_type": "code",
   "execution_count": 37,
   "metadata": {},
   "outputs": [
    {
     "name": "stdout",
     "output_type": "stream",
     "text": [
      "function called\n",
      "False\n"
     ]
    }
   ],
   "source": [
    "print(func() or False)"
   ]
  },
  {
   "cell_type": "markdown",
   "metadata": {},
   "source": [
    "Please stop and think about this for a moment. Do you understand why you get the output above?\n",
    "\n",
    "**So this is just about or?**\n",
    "\n",
    "No at all! The `and` operator produces True if and only if both expressions are True. So by the same logic as above, if the first operand is False, the second operand doesn't matter **and will not even be evaluated**: it is already known that the expression will be False.\n",
    "\n",
    "Examples:"
   ]
  },
  {
   "cell_type": "code",
   "execution_count": 38,
   "metadata": {},
   "outputs": [
    {
     "name": "stdout",
     "output_type": "stream",
     "text": [
      "False\n"
     ]
    }
   ],
   "source": [
    "print(False and func())"
   ]
  },
  {
   "cell_type": "code",
   "execution_count": 39,
   "metadata": {},
   "outputs": [
    {
     "name": "stdout",
     "output_type": "stream",
     "text": [
      "function called\n",
      "False\n"
     ]
    }
   ],
   "source": [
    "print(True and func())"
   ]
  },
  {
   "cell_type": "markdown",
   "metadata": {},
   "source": [
    "This is something you need to know. But it can also be useful in your code.\n",
    "\n",
    "Imagine you have a condition that you want to evaluate to True if x >= 2 and x/y > 2. This is pretty easy to write."
   ]
  },
  {
   "cell_type": "code",
   "execution_count": 40,
   "metadata": {},
   "outputs": [
    {
     "name": "stdout",
     "output_type": "stream",
     "text": [
      "True\n"
     ]
    }
   ],
   "source": [
    "x = 4\n",
    "y = 1\n",
    "print((x >= 2) and (x/y > 2))"
   ]
  },
  {
   "cell_type": "markdown",
   "metadata": {},
   "source": [
    "OK. But what if y could be zero?"
   ]
  },
  {
   "cell_type": "code",
   "execution_count": 41,
   "metadata": {},
   "outputs": [
    {
     "ename": "ZeroDivisionError",
     "evalue": "division by zero",
     "output_type": "error",
     "traceback": [
      "\u001b[0;31m---------------------------------------------------------------------------\u001b[0m",
      "\u001b[0;31mZeroDivisionError\u001b[0m                         Traceback (most recent call last)",
      "\u001b[0;32m<ipython-input-41-81c5a7dbb5b0>\u001b[0m in \u001b[0;36m<module>\u001b[0;34m()\u001b[0m\n\u001b[1;32m      1\u001b[0m \u001b[0mx\u001b[0m \u001b[0;34m=\u001b[0m \u001b[0;36m4\u001b[0m\u001b[0;34m\u001b[0m\u001b[0m\n\u001b[1;32m      2\u001b[0m \u001b[0my\u001b[0m \u001b[0;34m=\u001b[0m \u001b[0;36m0\u001b[0m\u001b[0;34m\u001b[0m\u001b[0m\n\u001b[0;32m----> 3\u001b[0;31m \u001b[0mprint\u001b[0m\u001b[0;34m(\u001b[0m\u001b[0;34m(\u001b[0m\u001b[0mx\u001b[0m \u001b[0;34m>=\u001b[0m \u001b[0;36m2\u001b[0m\u001b[0;34m)\u001b[0m \u001b[0;32mand\u001b[0m \u001b[0;34m(\u001b[0m\u001b[0mx\u001b[0m\u001b[0;34m/\u001b[0m\u001b[0my\u001b[0m \u001b[0;34m>\u001b[0m \u001b[0;36m2\u001b[0m\u001b[0;34m)\u001b[0m\u001b[0;34m)\u001b[0m\u001b[0;34m\u001b[0m\u001b[0m\n\u001b[0m",
      "\u001b[0;31mZeroDivisionError\u001b[0m: division by zero"
     ]
    }
   ],
   "source": [
    "x = 4\n",
    "y = 0\n",
    "print((x >= 2) and (x/y > 2))"
   ]
  },
  {
   "cell_type": "markdown",
   "metadata": {},
   "source": [
    "We need to check for this case (and do whatever the right thing is). An easy way to do so is to exploit lazy evaluation.\n"
   ]
  },
  {
   "cell_type": "code",
   "execution_count": 42,
   "metadata": {},
   "outputs": [
    {
     "name": "stdout",
     "output_type": "stream",
     "text": [
      "False\n"
     ]
    }
   ],
   "source": [
    "x = 4\n",
    "y = 0\n",
    "print((x >=2) and (y != 0) and (x/y > 2))"
   ]
  },
  {
   "cell_type": "code",
   "execution_count": 43,
   "metadata": {},
   "outputs": [
    {
     "ename": "ZeroDivisionError",
     "evalue": "division by zero",
     "output_type": "error",
     "traceback": [
      "\u001b[0;31m---------------------------------------------------------------------------\u001b[0m",
      "\u001b[0;31mZeroDivisionError\u001b[0m                         Traceback (most recent call last)",
      "\u001b[0;32m<ipython-input-43-0fafc388c645>\u001b[0m in \u001b[0;36m<module>\u001b[0;34m()\u001b[0m\n\u001b[1;32m      1\u001b[0m \u001b[0mx\u001b[0m \u001b[0;34m=\u001b[0m \u001b[0;36m4\u001b[0m\u001b[0;34m\u001b[0m\u001b[0m\n\u001b[1;32m      2\u001b[0m \u001b[0my\u001b[0m \u001b[0;34m=\u001b[0m \u001b[0;36m0\u001b[0m\u001b[0;34m\u001b[0m\u001b[0m\n\u001b[0;32m----> 3\u001b[0;31m \u001b[0mprint\u001b[0m\u001b[0;34m(\u001b[0m\u001b[0;34m(\u001b[0m\u001b[0mx\u001b[0m \u001b[0;34m>=\u001b[0m\u001b[0;36m2\u001b[0m\u001b[0;34m)\u001b[0m \u001b[0;32mand\u001b[0m \u001b[0;34m(\u001b[0m\u001b[0mx\u001b[0m\u001b[0;34m/\u001b[0m\u001b[0my\u001b[0m \u001b[0;34m>\u001b[0m \u001b[0;36m2\u001b[0m\u001b[0;34m)\u001b[0m \u001b[0;32mand\u001b[0m \u001b[0;34m(\u001b[0m\u001b[0my\u001b[0m \u001b[0;34m!=\u001b[0m \u001b[0;36m0\u001b[0m\u001b[0;34m)\u001b[0m\u001b[0;34m)\u001b[0m\u001b[0;34m\u001b[0m\u001b[0m\n\u001b[0m",
      "\u001b[0;31mZeroDivisionError\u001b[0m: division by zero"
     ]
    }
   ],
   "source": [
    "x = 4\n",
    "y = 0\n",
    "print((x >=2) and (x/y > 2) and (y != 0))"
   ]
  },
  {
   "cell_type": "markdown",
   "metadata": {},
   "source": [
    "**`bool` is a Subtype of `int`**\n",
    "\n",
    "`bool` is also a subtype of `int`, where True == 1 and False == 0. What happens when you enter the following code?"
   ]
  },
  {
   "cell_type": "code",
   "execution_count": 44,
   "metadata": {
    "scrolled": true
   },
   "outputs": [
    {
     "name": "stdout",
     "output_type": "stream",
     "text": [
      "2\n"
     ]
    }
   ],
   "source": [
    "print(True + 1)"
   ]
  },
  {
   "cell_type": "code",
   "execution_count": 45,
   "metadata": {},
   "outputs": [
    {
     "name": "stdout",
     "output_type": "stream",
     "text": [
      "-1\n"
     ]
    }
   ],
   "source": [
    "print(False - 1)"
   ]
  },
  {
   "cell_type": "code",
   "execution_count": 46,
   "metadata": {},
   "outputs": [
    {
     "name": "stdout",
     "output_type": "stream",
     "text": [
      "11\n"
     ]
    }
   ],
   "source": [
    "print((False + 3) * 4 - True)"
   ]
  },
  {
   "cell_type": "markdown",
   "metadata": {},
   "source": [
    "<div class=\"alert alert-block alert-info\">\n",
    "<big><b>This Lecture</b></big>\n",
    "    \n",
    "\n",
    "<ul>  \n",
    " <li>the bool data type</li>  \n",
    "    <li>comparison operators (<, <=, ...)</li>\n",
    " <li>if and if/else</li>  \n",
    "    <li>logical operators: not, and, or</li>\n",
    "    <li>lazy evaluation</li>\n",
    "</ul>  \n",
    "    \n",
    "Whew! That was a lot because each concept built on the one before. This is a characteristics of learning programming and so it is important not to fall behind.\n",
    "</div>\n"
   ]
  },
  {
   "cell_type": "code",
   "execution_count": null,
   "metadata": {},
   "outputs": [],
   "source": []
  }
 ],
 "metadata": {
  "kernelspec": {
   "display_name": "Python 3",
   "language": "python",
   "name": "python3"
  },
  "language_info": {
   "codemirror_mode": {
    "name": "ipython",
    "version": 3
   },
   "file_extension": ".py",
   "mimetype": "text/x-python",
   "name": "python",
   "nbconvert_exporter": "python",
   "pygments_lexer": "ipython3",
   "version": "3.7.2"
  }
 },
 "nbformat": 4,
 "nbformat_minor": 1
}
