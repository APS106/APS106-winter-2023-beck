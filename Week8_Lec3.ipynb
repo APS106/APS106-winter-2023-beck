{
 "cells": [
  {
   "cell_type": "markdown",
   "metadata": {
    "collapsed": true
   },
   "source": [
    "## APS106 Lecture Notes - Week 8, Lecture 3\n",
    "# Review for Midterm"
   ]
  },
  {
   "cell_type": "markdown",
   "metadata": {},
   "source": [
    "**Q1**: What is the output when the following code is executed?"
   ]
  },
  {
   "cell_type": "code",
   "execution_count": null,
   "metadata": {},
   "outputs": [],
   "source": [
    "cars = ['Hyundai', 'Tesla', 'Ford', 'GM']\n",
    "print(cars[2][-1])"
   ]
  },
  {
   "cell_type": "markdown",
   "metadata": {},
   "source": [
    "1. d\n",
    "1. alseT\n",
    "1. Error\n",
    "1. droF\n",
    "1. a\n",
    "\n",
    "ANSWER: **1**"
   ]
  },
  {
   "cell_type": "markdown",
   "metadata": {},
   "source": [
    "**Q2**: What is the type of the value returned by the function f2?"
   ]
  },
  {
   "cell_type": "code",
   "execution_count": null,
   "metadata": {},
   "outputs": [],
   "source": [
    "def f2():\n",
    "    print(True)"
   ]
  },
  {
   "cell_type": "markdown",
   "metadata": {},
   "source": [
    "1. float\n",
    "1. bool\n",
    "1. str\n",
    "1. NoneType \n",
    "1. none of the above\n",
    "\n",
    "ANSWER: **4**"
   ]
  },
  {
   "cell_type": "markdown",
   "metadata": {},
   "source": [
    "**Q3**: What is the output?"
   ]
  },
  {
   "cell_type": "code",
   "execution_count": 1,
   "metadata": {},
   "outputs": [
    {
     "name": "stdout",
     "output_type": "stream",
     "text": [
      "27 False\n",
      "28 False\n",
      "29 True\n"
     ]
    }
   ],
   "source": [
    "import math\n",
    "\n",
    "def check_num(num):\n",
    "    if num % 2 == 0:\n",
    "        return False\n",
    "\n",
    "    root = int(math.sqrt(num))\n",
    "\n",
    "    for f in range(3,root+1,2):\n",
    "        if num % f == 0:\n",
    "            return False\n",
    "\n",
    "    return True\n",
    "\n",
    "for n in range(27, 30):\n",
    "    print(n, check_num(n))"
   ]
  },
  {
   "cell_type": "markdown",
   "metadata": {},
   "source": [
    "**Q4**: What is the output?\n",
    "\n",
    "(Hint: This code does not produce an error.)"
   ]
  },
  {
   "cell_type": "code",
   "execution_count": 6,
   "metadata": {},
   "outputs": [
    {
     "name": "stdout",
     "output_type": "stream",
     "text": [
      "APS106\n",
      "PS106\n",
      "PS10\n"
     ]
    }
   ],
   "source": [
    "course = \"APS106\"\n",
    "cut_from_start = True\n",
    "while \"P\" in course:\n",
    "    print(course)\n",
    "    if cut_from_start:\n",
    "        course = course[1:]\n",
    "    else:\n",
    "        course = course[:-1]\n",
    "\n",
    "    cut_from_start = not cut_from_start\n"
   ]
  },
  {
   "cell_type": "markdown",
   "metadata": {},
   "source": [
    "**Q5**: Write the code.\n",
    "\n",
    "Write a Python function that takes as input a list of tuples representing (x,y) points and returns a tuple (Xmean, Ymean) where Xmean is the mean (i.e., the arithmetic average) of the x-values and Ymean is the mean of the y-values. You can assume that the input is correct: a list of pairs of numbers."
   ]
  },
  {
   "cell_type": "code",
   "execution_count": 4,
   "metadata": {},
   "outputs": [],
   "source": [
    "def calc_means(points):\n",
    "    '''\n",
    "    ([(num, num), (num, num), …]) -> (num,num)\n",
    "    Input: a list of tuples, each tuple representing a point\n",
    "    Output:  a tuple where each entry contains the mean of corresponding \n",
    "             entries in the input tuples (e.g., the first entry in the\n",
    "             returned tuple is the mean of the first entries in the input\n",
    "             tuples, etc.)\n",
    "    '''\n",
    "  \n",
    "    x_sum = 0\n",
    "    y_sum = 0\n",
    "    for tup in points:\n",
    "        x_sum += tup[0]\n",
    "        y_sum += tup[1]\n",
    "        \n",
    "    return (x_sum / len(points), y_sum / len(points))\n"
   ]
  },
  {
   "cell_type": "markdown",
   "metadata": {},
   "source": [
    "**Q6**: Write the code.\n",
    "\n",
    "Given a list of n points $(x_i,y_i)$, the line of best fit, $y=mx+b$, can be calculated as follows:\n",
    "\n",
    "$$m = \\frac{\\sum_{i=1}^n (x_i - X_{mean})(y_i - Y_{mean})}{\\sum_{i=1}^n (x_i - X_{mean})^2}$$\n",
    "\n",
    "$$b= Y_{mean} - m X_{mean}$$\n",
    "\n",
    "Where $X_{mean}$ and $Y_{mean}$ are the mean values of the $x_i$s and $y_i$s, respectively. \n",
    "\n",
    "Using the function you wrote above, write another Python function that takes as input a list of tuples representing (x,y) points and returns a tuple (Xmean, Ymean) where Xmean is the mean (i.e., the arithmetic average) of the x-values and Ymean is the mean of the y-values. You can assume that the input is correct: a list of pairs of numbers."
   ]
  },
  {
   "cell_type": "code",
   "execution_count": null,
   "metadata": {},
   "outputs": [],
   "source": [
    "def calc_line_of_best_fit(points):\n",
    "    '''\n",
    "    ([(num, num),(num, num), …]) -> (num, num)\n",
    "    Input: a list of tuples, each tuple representing a point\n",
    "    Output: a tuple containing the slope and y-intercept of the best\n",
    "    fit line for the points in the input list\n",
    "    '''\n",
    "    \n",
    "    means = calc_means(points)\n",
    "    \n",
    "    num = 0\n",
    "    denom = 0\n",
    "    for tup in points:\n",
    "        num += (tup[0] - means[0]) * (tup[1] - means[1])\n",
    "        denom += (tup[0] - means[0])**2\n",
    "        \n",
    "    slope = num/denom\n",
    "    intercept = means[1] - slope * means[0]\n",
    "    \n",
    "    return (slope, intercept)\n"
   ]
  },
  {
   "cell_type": "markdown",
   "metadata": {},
   "source": [
    "**Q7**: Write the code.\n",
    "\n",
    "Probaly will not have time to get to this in lecture but something you can practice with afterwards - you can submit code and questions to Quercus.\n",
    "\n",
    "Let `employee_software` be a dictionary of the following form:\n",
    "\n",
    "```\n",
    "{'Mary' : {'Word', 'Excel', 'Wing101'}, \n",
    " 'Sarah' : {'SolidWorks', 'PowerPoint'}, \n",
    " 'John' : {'MATLAB', 'Word', 'PowerPoint'}, \n",
    " 'Tom' : {'Wing101', 'SolidWorks'}}\n",
    "```\n",
    "The key is a string, corresponding to the name of an employee and the value is a set that contains strings, each string being the name of a piece of software that the employee is proficient in.\n",
    "\n",
    "In order to build teams for new projects, you want a data structure that allows you to quickly identify employees who are qualified on a given piece of software. Write a function that takes in the `employee_software` data structure and returns a dictionary that has the name of the software as the key and a set of employee names as the value. So the value corresponding to 'MATLAB' is the set of employees who can use MATLAB."
   ]
  },
  {
   "cell_type": "code",
   "execution_count": 1,
   "metadata": {},
   "outputs": [
    {
     "name": "stdout",
     "output_type": "stream",
     "text": [
      "{'Excel': {'Mary'}, 'Word': {'John', 'Mary'}, 'Wing101': {'Mary', 'Tom'}, 'PowerPoint': {'John', 'Sarah'}, 'SolidWorks': {'Sarah', 'Tom'}, 'MATLAB': {'John'}}\n"
     ]
    }
   ],
   "source": [
    "def create_software_lookup(employees_to_software):\n",
    "    '''\n",
    "    ({str : {str, str, ...}}) -> {str : {str, str, ...}}\n",
    "    Input: a dictionary with employee names as keys and a software\n",
    "    expertise as values\n",
    "    Output: a dictionary with software as keys and employee names as\n",
    "    values\n",
    "    '''\n",
    "\n",
    "    software_to_employees = {}\n",
    "\n",
    "    for employee in employees_to_software:\n",
    "        for software in employees_to_software[employee]:\n",
    "\n",
    "            if software not in software_to_employees:\n",
    "                software_to_employees[software] = set()\n",
    "\n",
    "            software_to_employees[software] |= {employee} # |- is the augmented union operator\n",
    "            \n",
    "    return software_to_employees\n",
    "\n",
    "employee_list = {'Mary' : {'Word', 'Excel', 'Wing101'}, \n",
    "                 'Sarah' : {'SolidWorks','PowerPoint'}, \n",
    "                 'John' : {'MATLAB', 'Word', 'PowerPoint'}, \n",
    "                 'Tom' : {'Wing101', 'SolidWorks'}}\n",
    "\n",
    "print(create_software_lookup(employee_list))"
   ]
  }
 ],
 "metadata": {
  "kernelspec": {
   "display_name": "Python 3",
   "language": "python",
   "name": "python3"
  },
  "language_info": {
   "codemirror_mode": {
    "name": "ipython",
    "version": 3
   },
   "file_extension": ".py",
   "mimetype": "text/x-python",
   "name": "python",
   "nbconvert_exporter": "python",
   "pygments_lexer": "ipython3",
   "version": "3.7.2"
  }
 },
 "nbformat": 4,
 "nbformat_minor": 1
}
