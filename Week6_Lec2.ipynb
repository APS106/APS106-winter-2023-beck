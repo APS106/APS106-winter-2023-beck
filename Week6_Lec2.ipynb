{
 "cells": [
  {
   "cell_type": "markdown",
   "metadata": {},
   "source": [
    "## APS106 Lecture Notes - Week 6, Lecture 2\n",
    "# More On Loops"
   ]
  },
  {
   "cell_type": "markdown",
   "metadata": {},
   "source": [
    "## For loops over indices\n",
    "\n",
    "Last lecture we saw that we can use `while` loops to loop over the indices of a string."
   ]
  },
  {
   "cell_type": "code",
   "execution_count": 1,
   "metadata": {},
   "outputs": [
    {
     "name": "stdout",
     "output_type": "stream",
     "text": [
      "0 A\n",
      "1 T\n",
      "2 G\n",
      "3 G\n",
      "4 G\n",
      "5 C\n",
      "6 A\n",
      "7 A\n",
      "8 T\n",
      "9 C\n",
      "10 G\n",
      "11 A\n",
      "12 T\n",
      "13 G\n",
      "14 G\n",
      "15 C\n",
      "16 C\n",
      "17 T\n",
      "18 A\n",
      "19 A\n",
      "20 T\n",
      "21 C\n",
      "22 T\n",
      "23 C\n",
      "24 T\n",
      "25 C\n",
      "26 T\n",
      "27 A\n",
      "28 A\n",
      "29 G\n"
     ]
    }
   ],
   "source": [
    "chrome_4 = \"ATGGGCAATCGATGGCCTAATCTCTCTAAG\"\n",
    "i = 0\n",
    "while i < len(chrome_4):\n",
    "    print(i, chrome_4[i])\n",
    "    i += 1"
   ]
  },
  {
   "cell_type": "markdown",
   "metadata": {},
   "source": [
    "Then we saw that a `for`-loop requires less code but it iterates over the values, not the indices (what not where)."
   ]
  },
  {
   "cell_type": "code",
   "execution_count": 2,
   "metadata": {},
   "outputs": [
    {
     "name": "stdout",
     "output_type": "stream",
     "text": [
      "A\n",
      "T\n",
      "G\n",
      "G\n",
      "G\n",
      "C\n",
      "A\n",
      "A\n",
      "T\n",
      "C\n",
      "G\n",
      "A\n",
      "T\n",
      "G\n",
      "G\n",
      "C\n",
      "C\n",
      "T\n",
      "A\n",
      "A\n",
      "T\n",
      "C\n",
      "T\n",
      "C\n",
      "T\n",
      "C\n",
      "T\n",
      "A\n",
      "A\n",
      "G\n"
     ]
    }
   ],
   "source": [
    "for ch in chrome_4:\n",
    "    print(ch)\n"
   ]
  },
  {
   "cell_type": "markdown",
   "metadata": {},
   "source": [
    "Can we use a `for`-loop to loop over indices? Or more generally, can we use a `for`-loop if we want to execute some code a variable number of times without having to have a string to iterate over?"
   ]
  },
  {
   "cell_type": "markdown",
   "metadata": {},
   "source": [
    "### Looping on a range\n",
    "\n",
    "Python has a built-in function called `range()` that is useful to use when you want to generate a sequence of numbers. You can type `help(range)` in the Python interpreter."
   ]
  },
  {
   "cell_type": "code",
   "execution_count": 3,
   "metadata": {},
   "outputs": [
    {
     "name": "stdout",
     "output_type": "stream",
     "text": [
      "Help on class range in module builtins:\n",
      "\n",
      "class range(object)\n",
      " |  range(stop) -> range object\n",
      " |  range(start, stop[, step]) -> range object\n",
      " |  \n",
      " |  Return an object that produces a sequence of integers from start (inclusive)\n",
      " |  to stop (exclusive) by step.  range(i, j) produces i, i+1, i+2, ..., j-1.\n",
      " |  start defaults to 0, and stop is omitted!  range(4) produces 0, 1, 2, 3.\n",
      " |  These are exactly the valid indices for a list of 4 elements.\n",
      " |  When step is given, it specifies the increment (or decrement).\n",
      " |  \n",
      " |  Methods defined here:\n",
      " |  \n",
      " |  __bool__(self, /)\n",
      " |      self != 0\n",
      " |  \n",
      " |  __contains__(self, key, /)\n",
      " |      Return key in self.\n",
      " |  \n",
      " |  __eq__(self, value, /)\n",
      " |      Return self==value.\n",
      " |  \n",
      " |  __ge__(self, value, /)\n",
      " |      Return self>=value.\n",
      " |  \n",
      " |  __getattribute__(self, name, /)\n",
      " |      Return getattr(self, name).\n",
      " |  \n",
      " |  __getitem__(self, key, /)\n",
      " |      Return self[key].\n",
      " |  \n",
      " |  __gt__(self, value, /)\n",
      " |      Return self>value.\n",
      " |  \n",
      " |  __hash__(self, /)\n",
      " |      Return hash(self).\n",
      " |  \n",
      " |  __iter__(self, /)\n",
      " |      Implement iter(self).\n",
      " |  \n",
      " |  __le__(self, value, /)\n",
      " |      Return self<=value.\n",
      " |  \n",
      " |  __len__(self, /)\n",
      " |      Return len(self).\n",
      " |  \n",
      " |  __lt__(self, value, /)\n",
      " |      Return self<value.\n",
      " |  \n",
      " |  __ne__(self, value, /)\n",
      " |      Return self!=value.\n",
      " |  \n",
      " |  __reduce__(...)\n",
      " |      Helper for pickle.\n",
      " |  \n",
      " |  __repr__(self, /)\n",
      " |      Return repr(self).\n",
      " |  \n",
      " |  __reversed__(...)\n",
      " |      Return a reverse iterator.\n",
      " |  \n",
      " |  count(...)\n",
      " |      rangeobject.count(value) -> integer -- return number of occurrences of value\n",
      " |  \n",
      " |  index(...)\n",
      " |      rangeobject.index(value, [start, [stop]]) -> integer -- return index of value.\n",
      " |      Raise ValueError if the value is not present.\n",
      " |  \n",
      " |  ----------------------------------------------------------------------\n",
      " |  Static methods defined here:\n",
      " |  \n",
      " |  __new__(*args, **kwargs) from builtins.type\n",
      " |      Create and return a new object.  See help(type) for accurate signature.\n",
      " |  \n",
      " |  ----------------------------------------------------------------------\n",
      " |  Data descriptors defined here:\n",
      " |  \n",
      " |  start\n",
      " |  \n",
      " |  step\n",
      " |  \n",
      " |  stop\n",
      "\n"
     ]
    }
   ],
   "source": [
    "help(range)"
   ]
  },
  {
   "cell_type": "markdown",
   "metadata": {},
   "source": [
    "`range` produces a sequence of numbers starting at start and up to but *not including* stop. Just like in slicing.\n",
    "\n",
    "`range` is typically used in a for loop to iterate over a sequence of numbers. "
   ]
  },
  {
   "cell_type": "code",
   "execution_count": 5,
   "metadata": {},
   "outputs": [
    {
     "name": "stdout",
     "output_type": "stream",
     "text": [
      "0\n",
      "1\n",
      "2\n",
      "3\n",
      "4\n"
     ]
    }
   ],
   "source": [
    "for i in range(5):\n",
    "    print(i)"
   ]
  },
  {
   "cell_type": "markdown",
   "metadata": {},
   "source": [
    "What about our DNA example from the last lecture? How can we iterate over the indices?"
   ]
  },
  {
   "cell_type": "code",
   "execution_count": 4,
   "metadata": {},
   "outputs": [
    {
     "name": "stdout",
     "output_type": "stream",
     "text": [
      "0 A\n",
      "1 T\n",
      "2 G\n",
      "3 G\n",
      "4 G\n",
      "5 C\n",
      "6 A\n",
      "7 A\n",
      "8 T\n",
      "9 C\n",
      "10 G\n",
      "11 A\n",
      "12 T\n",
      "13 G\n",
      "14 G\n",
      "15 C\n",
      "16 C\n",
      "17 T\n",
      "18 A\n",
      "19 A\n",
      "20 T\n",
      "21 C\n",
      "22 T\n",
      "23 C\n",
      "24 T\n",
      "25 C\n",
      "26 T\n",
      "27 A\n",
      "28 A\n",
      "29 G\n",
      "0 A\n",
      "1 T\n",
      "2 G\n",
      "3 G\n",
      "4 G\n",
      "5 C\n",
      "6 A\n",
      "7 A\n",
      "8 T\n",
      "9 C\n",
      "10 G\n",
      "11 A\n",
      "12 T\n",
      "13 G\n",
      "14 G\n",
      "15 C\n",
      "16 C\n",
      "17 T\n",
      "18 A\n",
      "19 A\n",
      "20 T\n",
      "21 C\n",
      "22 T\n",
      "23 C\n",
      "24 T\n",
      "25 C\n",
      "26 T\n",
      "27 A\n",
      "28 A\n",
      "29 G\n"
     ]
    }
   ],
   "source": [
    "# while version\n",
    "i = 0\n",
    "while i < len(chrome_4):\n",
    "    print(i, chrome_4[i])\n",
    "    i += 1\n",
    "\n",
    "# for version\n",
    "for i in range(len(chrome_4)):\n",
    "    print(i, chrome_4[i])\n"
   ]
  },
  {
   "cell_type": "markdown",
   "metadata": {},
   "source": [
    "**What Can You Do with range()?**\n"
   ]
  },
  {
   "cell_type": "markdown",
   "metadata": {},
   "source": [
    "You can tell `range()` what index to start at if you don't want to start at the default which is 0."
   ]
  },
  {
   "cell_type": "code",
   "execution_count": 6,
   "metadata": {},
   "outputs": [
    {
     "name": "stdout",
     "output_type": "stream",
     "text": [
      "1 T\n",
      "2 G\n",
      "3 G\n",
      "4 G\n",
      "5 C\n",
      "6 A\n",
      "7 A\n",
      "8 T\n",
      "9 C\n",
      "10 G\n",
      "11 A\n",
      "12 T\n",
      "13 G\n",
      "14 G\n",
      "15 C\n",
      "16 C\n",
      "17 T\n",
      "18 A\n",
      "19 A\n",
      "20 T\n",
      "21 C\n",
      "22 T\n",
      "23 C\n",
      "24 T\n",
      "25 C\n",
      "26 T\n",
      "27 A\n",
      "28 A\n",
      "29 G\n"
     ]
    }
   ],
   "source": [
    "for i in range(1, len(chrome_4)):\n",
    "    print(i, chrome_4[i])"
   ]
  },
  {
   "cell_type": "markdown",
   "metadata": {},
   "source": [
    "You can even specify the \"step\" for range: how do you increment the numbers?. The default step size is 1, which means that numbers increment by 1. The example below starts at index 1 and its step size is three (goes to every third index)."
   ]
  },
  {
   "cell_type": "code",
   "execution_count": 7,
   "metadata": {},
   "outputs": [
    {
     "name": "stdout",
     "output_type": "stream",
     "text": [
      "1 T\n",
      "4 G\n",
      "7 A\n",
      "10 G\n",
      "13 G\n",
      "16 C\n",
      "19 A\n",
      "22 T\n",
      "25 C\n",
      "28 A\n"
     ]
    }
   ],
   "source": [
    "for i in range(1, len(chrome_4), 3):\n",
    "    print(i, chrome_4[i])"
   ]
  },
  {
   "cell_type": "markdown",
   "metadata": {},
   "source": [
    "This also gives us flexibility to process only part of a string. For example, we can print only the first half of the list:"
   ]
  },
  {
   "cell_type": "code",
   "execution_count": 2,
   "metadata": {},
   "outputs": [
    {
     "name": "stdout",
     "output_type": "stream",
     "text": [
      "0 A\n",
      "1 T\n",
      "2 G\n",
      "3 G\n",
      "4 G\n",
      "5 C\n",
      "6 A\n",
      "7 A\n",
      "8 T\n",
      "9 C\n",
      "10 G\n",
      "11 A\n",
      "12 T\n",
      "13 G\n",
      "14 G\n"
     ]
    }
   ],
   "source": [
    "for i in range(len(chrome_4) // 2):\n",
    "    print(i, chrome_4[i])"
   ]
  },
  {
   "cell_type": "markdown",
   "metadata": {},
   "source": [
    "Can you do this with the other form of `for`: ``for ch in chrome_4:``?\n",
    "\n",
    "You can but you will end up creating a variable to count the number of characters and stop the loop when it reaches half of the length. Which is going to be way more complicated."
   ]
  },
  {
   "cell_type": "markdown",
   "metadata": {},
   "source": [
    "More examples"
   ]
  },
  {
   "cell_type": "code",
   "execution_count": 13,
   "metadata": {},
   "outputs": [
    {
     "name": "stdout",
     "output_type": "stream",
     "text": [
      "0\n",
      "1\n",
      "2\n",
      "3\n",
      "4\n"
     ]
    }
   ],
   "source": [
    "# Iterate over the numbers 0, 1, 2, 3, and 4.\n",
    "for i in range(5):\n",
    "    print(i)"
   ]
  },
  {
   "cell_type": "code",
   "execution_count": 14,
   "metadata": {},
   "outputs": [
    {
     "name": "stdout",
     "output_type": "stream",
     "text": [
      "2\n",
      "3\n",
      "4\n"
     ]
    }
   ],
   "source": [
    "# Iterate over the numbers 2, 3, and 4.\n",
    "for i in range(2, 5):\n",
    "    print(i)"
   ]
  },
  {
   "cell_type": "code",
   "execution_count": 15,
   "metadata": {},
   "outputs": [
    {
     "name": "stdout",
     "output_type": "stream",
     "text": [
      "3\n",
      "6\n",
      "9\n",
      "12\n",
      "15\n",
      "18\n"
     ]
    }
   ],
   "source": [
    "# Iterate over the numbers 3, 6, 9, 12, 15, and 18.\n",
    "for i in range(3, 20, 3):\n",
    "    print(i)"
   ]
  },
  {
   "cell_type": "markdown",
   "metadata": {},
   "source": [
    "## Write Some Code\n",
    "\n",
    "Write a function that returns the number of times that a character and the next character are the same.  \n",
    "```\n",
    "count_adjacent_repeats('abccdeffggh')\n",
    "3\n",
    "```"
   ]
  },
  {
   "cell_type": "code",
   "execution_count": 4,
   "metadata": {},
   "outputs": [],
   "source": [
    "def count_adjacent_repeats(s):\n",
    "    '''\n",
    "    str -> int\n",
    "    Returns the number of times that two consecutive characters are the same\n",
    "    '''\n",
    "    repeats = 0\n",
    "    \n",
    "    for i in range(len(s) - 1):\n",
    "        if s[i] == s[i + 1]:\n",
    "            repeats += 1\n",
    "\n",
    "    return repeats\n"
   ]
  },
  {
   "cell_type": "code",
   "execution_count": 5,
   "metadata": {},
   "outputs": [
    {
     "name": "stdout",
     "output_type": "stream",
     "text": [
      "3\n"
     ]
    }
   ],
   "source": [
    "print(count_adjacent_repeats('abccdeffggh'))"
   ]
  },
  {
   "cell_type": "markdown",
   "metadata": {},
   "source": [
    "We want to compare a character in the string with another character in the string beside it. We need to know not just what the character is but also where it is in the string. \n",
    "\n",
    "And so we iterate over the indices: only knowing the value of the character does not provide us with enough information. \n",
    "\n",
    "Look at the `count_adjacent_repeats` code again. What if we use `range(len(s))` for the loop?"
   ]
  },
  {
   "cell_type": "code",
   "execution_count": 6,
   "metadata": {},
   "outputs": [],
   "source": [
    "def count_adjacent_repeats(s):\n",
    "    repeats = 0\n",
    "    \n",
    "    for i in range(len(s)):\n",
    "        if s[i] == s[i + 1]:\n",
    "            repeats += 1\n",
    "\n",
    "    return repeats"
   ]
  },
  {
   "cell_type": "code",
   "execution_count": 7,
   "metadata": {},
   "outputs": [
    {
     "ename": "IndexError",
     "evalue": "string index out of range",
     "output_type": "error",
     "traceback": [
      "\u001b[0;31m---------------------------------------------------------------------------\u001b[0m",
      "\u001b[0;31mIndexError\u001b[0m                                Traceback (most recent call last)",
      "\u001b[0;32m<ipython-input-7-a9c7d918110f>\u001b[0m in \u001b[0;36m<module>\u001b[0;34m()\u001b[0m\n\u001b[0;32m----> 1\u001b[0;31m \u001b[0mprint\u001b[0m\u001b[0;34m(\u001b[0m\u001b[0mcount_adjacent_repeats\u001b[0m\u001b[0;34m(\u001b[0m\u001b[0;34m'abccdeffggh'\u001b[0m\u001b[0;34m)\u001b[0m\u001b[0;34m)\u001b[0m\u001b[0;34m\u001b[0m\u001b[0m\n\u001b[0m",
      "\u001b[0;32m<ipython-input-6-4ee582f676f4>\u001b[0m in \u001b[0;36mcount_adjacent_repeats\u001b[0;34m(s)\u001b[0m\n\u001b[1;32m      3\u001b[0m \u001b[0;34m\u001b[0m\u001b[0m\n\u001b[1;32m      4\u001b[0m     \u001b[0;32mfor\u001b[0m \u001b[0mi\u001b[0m \u001b[0;32min\u001b[0m \u001b[0mrange\u001b[0m\u001b[0;34m(\u001b[0m\u001b[0mlen\u001b[0m\u001b[0;34m(\u001b[0m\u001b[0ms\u001b[0m\u001b[0;34m)\u001b[0m\u001b[0;34m)\u001b[0m\u001b[0;34m:\u001b[0m\u001b[0;34m\u001b[0m\u001b[0m\n\u001b[0;32m----> 5\u001b[0;31m         \u001b[0;32mif\u001b[0m \u001b[0ms\u001b[0m\u001b[0;34m[\u001b[0m\u001b[0mi\u001b[0m\u001b[0;34m]\u001b[0m \u001b[0;34m==\u001b[0m \u001b[0ms\u001b[0m\u001b[0;34m[\u001b[0m\u001b[0mi\u001b[0m \u001b[0;34m+\u001b[0m \u001b[0;36m1\u001b[0m\u001b[0;34m]\u001b[0m\u001b[0;34m:\u001b[0m\u001b[0;34m\u001b[0m\u001b[0m\n\u001b[0m\u001b[1;32m      6\u001b[0m             \u001b[0mrepeats\u001b[0m \u001b[0;34m+=\u001b[0m \u001b[0;36m1\u001b[0m\u001b[0;34m\u001b[0m\u001b[0m\n\u001b[1;32m      7\u001b[0m \u001b[0;34m\u001b[0m\u001b[0m\n",
      "\u001b[0;31mIndexError\u001b[0m: string index out of range"
     ]
    }
   ],
   "source": [
    "print(count_adjacent_repeats('abccdeffggh'))"
   ]
  },
  {
   "cell_type": "markdown",
   "metadata": {},
   "source": [
    "We get an `IndexError` because we access `s[i + 1]` and if `i` is already the maximum index, we try to read off the end of the list. This is an example of an “off-by-one” error. \n",
    "\n",
    "Off-by-one error: It is a very common bug to either do one too many or one too few loop iterations than you meant to.\n",
    "\n",
    "<div class=\"alert alert-block alert-danger\">\n",
    "<big><b>Beck's Rule #2 for Programmers</b></big>\n",
    " If you have a bug in a loop, with probability 1 its an off-by-one error. (Note: Beck's Tule #2 for Programmers is subject to Beck's Rule #2 of Programming and so may itself contain an off-by-one error.) </div>\n"
   ]
  },
  {
   "cell_type": "markdown",
   "metadata": {},
   "source": [
    "# Nested Loops\n",
    "\n",
    "Look again at the code above for `count_adjacent_repeats`. We have included an `if`-statement inside a `for`-loop. Perhaps it will not surprise (or maybe it would) to know that we can put loops inside of loops. These are called **nested loops**."
   ]
  },
  {
   "cell_type": "code",
   "execution_count": 11,
   "metadata": {
    "scrolled": false
   },
   "outputs": [
    {
     "name": "stdout",
     "output_type": "stream",
     "text": [
      "10 1\n",
      "10 2\n",
      "10 3\n",
      "10 4\n",
      "11 1\n",
      "11 2\n",
      "11 3\n",
      "11 4\n",
      "12 1\n",
      "12 2\n",
      "12 3\n",
      "12 4\n"
     ]
    }
   ],
   "source": [
    "for i in range(10, 13):\n",
    "    for j in range(1, 5):\n",
    "        print(i, j)"
   ]
  },
  {
   "cell_type": "markdown",
   "metadata": {},
   "source": [
    "What is going on here? Let's add some `print` statements to help us understand."
   ]
  },
  {
   "cell_type": "code",
   "execution_count": 12,
   "metadata": {},
   "outputs": [
    {
     "name": "stdout",
     "output_type": "stream",
     "text": [
      "Outer loop. i = 10\n",
      "  Inner loop: 10 1\n",
      "  Inner loop: 10 2\n",
      "  Inner loop: 10 3\n",
      "  Inner loop: 10 4\n",
      "Outer loop. i = 11\n",
      "  Inner loop: 11 1\n",
      "  Inner loop: 11 2\n",
      "  Inner loop: 11 3\n",
      "  Inner loop: 11 4\n",
      "Outer loop. i = 12\n",
      "  Inner loop: 12 1\n",
      "  Inner loop: 12 2\n",
      "  Inner loop: 12 3\n",
      "  Inner loop: 12 4\n"
     ]
    }
   ],
   "source": [
    "for i in range(10, 13):\n",
    "    print(\"Outer loop. i =\", i)\n",
    "    for j in range(1, 5):\n",
    "        print(\"  Inner loop:\", end = \" \")\n",
    "        print(i, j)"
   ]
  },
  {
   "cell_type": "markdown",
   "metadata": {},
   "source": [
    "Notice that when `i` is 10, the inner loop executes in its entirety, and only after `j` has ranged from 1 through 4 is `i` incremented to the value 11.\n",
    " \n",
    "### Example of Nested Loops\n",
    "\n",
    "What does the following code do?"
   ]
  },
  {
   "cell_type": "code",
   "execution_count": 13,
   "metadata": {},
   "outputs": [],
   "source": [
    "import turtle \n",
    "\n",
    "tina = turtle.Turtle()\n",
    "\n",
    "dot_distance = 25\n",
    "width = 5\n",
    "height = 7\n",
    "\n",
    "tina.penup()\n",
    "\n",
    "for y in range(height):\n",
    "    for i in range(width):\n",
    "        tina.dot()\n",
    "        tina.forward(dot_distance)\n",
    "    tina.backward(dot_distance * width)\n",
    "    tina.right(90)\n",
    "    tina.forward(dot_distance)\n",
    "    tina.left(90)\n",
    "    \n",
    "turtle.done()"
   ]
  },
  {
   "cell_type": "markdown",
   "metadata": {},
   "source": [
    "\n",
    "Can we use turtles to draw the Olympic Rings."
   ]
  },
  {
   "cell_type": "code",
   "execution_count": 1,
   "metadata": {},
   "outputs": [],
   "source": [
    "import turtle\n",
    "\n",
    "# Previously defined function\n",
    "def circle(t, x, y, size):\n",
    "    '''\n",
    "    (Turtle, int, int, int)\n",
    "    Draw a circle of radius size at coordinate (x,y)'''\n",
    "    t.up()\n",
    "    t.goto(x,y)\n",
    "    t.down()\n",
    "    t.circle(size,360)\n",
    "\n",
    "tina = turtle.Turtle()\n",
    "\n",
    "# Draw Olympic Rings\n",
    "size = 45\n",
    "\n",
    "rows = 2\n",
    "cols = 3\n",
    "\n",
    "for y in range(rows):\n",
    "    for x in range(cols-y):\n",
    "        circle(tina, 100*x + 50*y, -50*y, size)\n",
    "\n",
    "turtle.done()\n"
   ]
  },
  {
   "cell_type": "markdown",
   "metadata": {},
   "source": [
    "**Visual Example: Wheel of Fortune**\n",
    "Can you design code to play \"Wheel of Fortune\" (aka \"Hangman\")?\n",
    "- pick a secret sentence\n",
    "- draw the sentence but with blanks instead of letters\n",
    "- while the user still wants to play\n",
    "  - ask the user to choose a letter\n",
    "  - if the letter is in the secret sentence replace the corresponding blanks\n",
    "  - otherwise, ask the user for another letter\n",
    "  - if the user enters no letter (just hits \"Enter\") the game is over"
   ]
  },
  {
   "cell_type": "code",
   "execution_count": 1,
   "metadata": {},
   "outputs": [
    {
     "name": "stdout",
     "output_type": "stream",
     "text": [
      "Pick a character <Enter to quit>: e\n",
      "Pick a character <Enter to quit>: t\n",
      "Pick a character <Enter to quit>: a\n",
      "Pick a character <Enter to quit>: o\n",
      "Pick a character <Enter to quit>: d\n",
      "Pick a character <Enter to quit>: l\n",
      "Pick a character <Enter to quit>: w\n",
      "Pick a character <Enter to quit>: n\n",
      "Pick a character <Enter to quit>: s\n",
      "Pick a character <Enter to quit>: y\n"
     ]
    }
   ],
   "source": [
    "import turtle\n",
    "\n",
    "def WOF_display(t, s, loc, height):\n",
    "    '''\n",
    "    (Turtle, str, int, int)\n",
    "    Write the letter in s at (relative) location loc with given height\n",
    "    '''\n",
    "    font_size = 24\n",
    "    starting_position = -300\n",
    "\n",
    "    t.up()\n",
    "    t.goto(starting_position+loc*(font_size+2),height)\n",
    "    t.down()\n",
    "    t.write(s, font=(\"Arial\", font_size, \"normal\"))\n",
    "\n",
    "\n",
    "tina = turtle.Turtle()\n",
    "\n",
    "# The secret sentence\n",
    "sentence = \"Do not eat yellow snow\"\n",
    "\n",
    "a = len(sentence)\n",
    "\n",
    "# create the initial blanks\n",
    "visible = \"\" # keep track of what is visible\n",
    "for x in range(a):\n",
    "    if sentence[x] != ' ':\n",
    "        visible += '-' # initially all blanks (except spaces)\n",
    "        WOF_display(tina, '_', x, 0)\n",
    "    else:\n",
    "        visible += ' '\n",
    "\n",
    "user_quit = False\n",
    "have_solution = False\n",
    "while (not user_quit) and (not have_solution):\n",
    "    char = input(\"Pick a character <Enter to quit>: \")\n",
    "    if char != '':\n",
    "        have_solution = True\n",
    "        for x in range(a):\n",
    "            if sentence[x].lower() == char.lower():\n",
    "                # make correctly guessed char visible\n",
    "                visible = visible[:x] + sentence[x] + visible[x+1:] \n",
    "                WOF_display(tina, sentence[x],x,0)  \n",
    "            elif visible[x] == '-':\n",
    "                # if there is any non-visible character, we haven't found a solution\n",
    "                have_solution = False\n",
    "    else:\n",
    "        user_quit = True\n",
    "\n",
    "if have_solution:\n",
    "    WOF_display(tina, 'You Win!',0,30)\n",
    "else:\n",
    "    WOF_display(tina, 'You Lose!',0,30)\n",
    "    \n",
    "turtle.done()\n"
   ]
  },
  {
   "cell_type": "markdown",
   "metadata": {},
   "source": [
    "<div class=\"alert alert-block alert-info\">\n",
    "<big><b>This Lecture</b></big>\n",
    "<ul>\n",
    "    <li>for-loops over range</li>\n",
    "    <li>iterating over values vs. iterating over indices</li>\n",
    "    <li>off-by-one errors</li>\n",
    "    <li>nested loops</li>\n",
    " </ul>\n",
    "</div>\n"
   ]
  },
  {
   "cell_type": "code",
   "execution_count": null,
   "metadata": {},
   "outputs": [],
   "source": []
  }
 ],
 "metadata": {
  "kernelspec": {
   "display_name": "Python 3",
   "language": "python",
   "name": "python3"
  },
  "language_info": {
   "codemirror_mode": {
    "name": "ipython",
    "version": 3
   },
   "file_extension": ".py",
   "mimetype": "text/x-python",
   "name": "python",
   "nbconvert_exporter": "python",
   "pygments_lexer": "ipython3",
   "version": "3.7.2"
  }
 },
 "nbformat": 4,
 "nbformat_minor": 1
}
